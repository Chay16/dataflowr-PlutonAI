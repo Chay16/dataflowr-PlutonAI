{
  "nbformat": 4,
  "nbformat_minor": 0,
  "metadata": {
    "accelerator": "GPU",
    "kernelspec": {
      "name": "python3",
      "display_name": "Python 3"
    },
    "colab": {
      "name": "05_collaborative_filtering_PlutonAI_1M.ipynb",
      "provenance": [],
      "collapsed_sections": [],
      "include_colab_link": true
    },
    "widgets": {
      "application/vnd.jupyter.widget-state+json": {
        "7e731e2ee8ac46c09e6d45526bfd0f1a": {
          "model_module": "@jupyter-widgets/controls",
          "model_name": "HBoxModel",
          "state": {
            "_view_name": "HBoxView",
            "_dom_classes": [],
            "_model_name": "HBoxModel",
            "_view_module": "@jupyter-widgets/controls",
            "_model_module_version": "1.5.0",
            "_view_count": null,
            "_view_module_version": "1.5.0",
            "box_style": "",
            "layout": "IPY_MODEL_5b590d44f3b046d2a0d407ca9238c862",
            "_model_module": "@jupyter-widgets/controls",
            "children": [
              "IPY_MODEL_843d420b84ba43f4af8b8a09ee500296",
              "IPY_MODEL_fb9471b06ac24eb59eb97e4d9f1f534f"
            ]
          }
        },
        "5b590d44f3b046d2a0d407ca9238c862": {
          "model_module": "@jupyter-widgets/base",
          "model_name": "LayoutModel",
          "state": {
            "_view_name": "LayoutView",
            "grid_template_rows": null,
            "right": null,
            "justify_content": null,
            "_view_module": "@jupyter-widgets/base",
            "overflow": null,
            "_model_module_version": "1.2.0",
            "_view_count": null,
            "flex_flow": null,
            "width": null,
            "min_width": null,
            "border": null,
            "align_items": null,
            "bottom": null,
            "_model_module": "@jupyter-widgets/base",
            "top": null,
            "grid_column": null,
            "overflow_y": null,
            "overflow_x": null,
            "grid_auto_flow": null,
            "grid_area": null,
            "grid_template_columns": null,
            "flex": null,
            "_model_name": "LayoutModel",
            "justify_items": null,
            "grid_row": null,
            "max_height": null,
            "align_content": null,
            "visibility": null,
            "align_self": null,
            "height": null,
            "min_height": null,
            "padding": null,
            "grid_auto_rows": null,
            "grid_gap": null,
            "max_width": null,
            "order": null,
            "_view_module_version": "1.2.0",
            "grid_template_areas": null,
            "object_position": null,
            "object_fit": null,
            "grid_auto_columns": null,
            "margin": null,
            "display": null,
            "left": null
          }
        },
        "843d420b84ba43f4af8b8a09ee500296": {
          "model_module": "@jupyter-widgets/controls",
          "model_name": "IntProgressModel",
          "state": {
            "_view_name": "ProgressView",
            "style": "IPY_MODEL_e580160ae824475aa2e39da88ba05961",
            "_dom_classes": [],
            "description": "",
            "_model_name": "IntProgressModel",
            "bar_style": "success",
            "max": 1,
            "_view_module": "@jupyter-widgets/controls",
            "_model_module_version": "1.5.0",
            "value": 1,
            "_view_count": null,
            "_view_module_version": "1.5.0",
            "orientation": "horizontal",
            "min": 0,
            "description_tooltip": null,
            "_model_module": "@jupyter-widgets/controls",
            "layout": "IPY_MODEL_3eaf3cf62dd148baa715c01e6546fd8f"
          }
        },
        "fb9471b06ac24eb59eb97e4d9f1f534f": {
          "model_module": "@jupyter-widgets/controls",
          "model_name": "HTMLModel",
          "state": {
            "_view_name": "HTMLView",
            "style": "IPY_MODEL_ee039ca164e04d2ea22a82bc6c1d9e1b",
            "_dom_classes": [],
            "description": "",
            "_model_name": "HTMLModel",
            "placeholder": "​",
            "_view_module": "@jupyter-widgets/controls",
            "_model_module_version": "1.5.0",
            "value": " 3706/? [00:06&lt;00:00, 585.55it/s]",
            "_view_count": null,
            "_view_module_version": "1.5.0",
            "description_tooltip": null,
            "_model_module": "@jupyter-widgets/controls",
            "layout": "IPY_MODEL_ce5532fb40104ee680868133fd5a7ef2"
          }
        },
        "e580160ae824475aa2e39da88ba05961": {
          "model_module": "@jupyter-widgets/controls",
          "model_name": "ProgressStyleModel",
          "state": {
            "_view_name": "StyleView",
            "_model_name": "ProgressStyleModel",
            "description_width": "initial",
            "_view_module": "@jupyter-widgets/base",
            "_model_module_version": "1.5.0",
            "_view_count": null,
            "_view_module_version": "1.2.0",
            "bar_color": null,
            "_model_module": "@jupyter-widgets/controls"
          }
        },
        "3eaf3cf62dd148baa715c01e6546fd8f": {
          "model_module": "@jupyter-widgets/base",
          "model_name": "LayoutModel",
          "state": {
            "_view_name": "LayoutView",
            "grid_template_rows": null,
            "right": null,
            "justify_content": null,
            "_view_module": "@jupyter-widgets/base",
            "overflow": null,
            "_model_module_version": "1.2.0",
            "_view_count": null,
            "flex_flow": null,
            "width": null,
            "min_width": null,
            "border": null,
            "align_items": null,
            "bottom": null,
            "_model_module": "@jupyter-widgets/base",
            "top": null,
            "grid_column": null,
            "overflow_y": null,
            "overflow_x": null,
            "grid_auto_flow": null,
            "grid_area": null,
            "grid_template_columns": null,
            "flex": null,
            "_model_name": "LayoutModel",
            "justify_items": null,
            "grid_row": null,
            "max_height": null,
            "align_content": null,
            "visibility": null,
            "align_self": null,
            "height": null,
            "min_height": null,
            "padding": null,
            "grid_auto_rows": null,
            "grid_gap": null,
            "max_width": null,
            "order": null,
            "_view_module_version": "1.2.0",
            "grid_template_areas": null,
            "object_position": null,
            "object_fit": null,
            "grid_auto_columns": null,
            "margin": null,
            "display": null,
            "left": null
          }
        },
        "ee039ca164e04d2ea22a82bc6c1d9e1b": {
          "model_module": "@jupyter-widgets/controls",
          "model_name": "DescriptionStyleModel",
          "state": {
            "_view_name": "StyleView",
            "_model_name": "DescriptionStyleModel",
            "description_width": "",
            "_view_module": "@jupyter-widgets/base",
            "_model_module_version": "1.5.0",
            "_view_count": null,
            "_view_module_version": "1.2.0",
            "_model_module": "@jupyter-widgets/controls"
          }
        },
        "ce5532fb40104ee680868133fd5a7ef2": {
          "model_module": "@jupyter-widgets/base",
          "model_name": "LayoutModel",
          "state": {
            "_view_name": "LayoutView",
            "grid_template_rows": null,
            "right": null,
            "justify_content": null,
            "_view_module": "@jupyter-widgets/base",
            "overflow": null,
            "_model_module_version": "1.2.0",
            "_view_count": null,
            "flex_flow": null,
            "width": null,
            "min_width": null,
            "border": null,
            "align_items": null,
            "bottom": null,
            "_model_module": "@jupyter-widgets/base",
            "top": null,
            "grid_column": null,
            "overflow_y": null,
            "overflow_x": null,
            "grid_auto_flow": null,
            "grid_area": null,
            "grid_template_columns": null,
            "flex": null,
            "_model_name": "LayoutModel",
            "justify_items": null,
            "grid_row": null,
            "max_height": null,
            "align_content": null,
            "visibility": null,
            "align_self": null,
            "height": null,
            "min_height": null,
            "padding": null,
            "grid_auto_rows": null,
            "grid_gap": null,
            "max_width": null,
            "order": null,
            "_view_module_version": "1.2.0",
            "grid_template_areas": null,
            "object_position": null,
            "object_fit": null,
            "grid_auto_columns": null,
            "margin": null,
            "display": null,
            "left": null
          }
        }
      }
    }
  },
  "cells": [
    {
      "cell_type": "markdown",
      "metadata": {
        "id": "view-in-github",
        "colab_type": "text"
      },
      "source": [
        "<a href=\"https://colab.research.google.com/github/Chay16/dataflowr-PlutonAI/blob/master/05_collaborative_filtering_PlutonAI_1M.ipynb\" target=\"_parent\"><img src=\"https://colab.research.google.com/assets/colab-badge.svg\" alt=\"Open In Colab\"/></a>"
      ]
    },
    {
      "cell_type": "markdown",
      "metadata": {
        "colab_type": "text",
        "id": "cKEoXRSzUUCv"
      },
      "source": [
        "# Collaborative filtering: refactoring the code\n",
        "-----\n",
        "\n",
        "In this practical, you will need to refactor the code seen during the lesson in order to deal with the [Movielens 1M Dataset](https://grouplens.org/datasets/movielens/1m/)"
      ]
    },
    {
      "cell_type": "markdown",
      "metadata": {
        "colab_type": "text",
        "id": "OeHGO4qbUUC4"
      },
      "source": [
        "## 1. Preparations"
      ]
    },
    {
      "cell_type": "code",
      "metadata": {
        "colab_type": "code",
        "id": "frj5rX9wUUC_",
        "colab": {}
      },
      "source": [
        "%matplotlib inline\n",
        "import matplotlib.pyplot as plt\n",
        "import numpy as np\n",
        "import os.path as op\n",
        "import imp\n",
        "import numpy as np\n",
        "\n",
        "from zipfile import ZipFile\n",
        "try:\n",
        "    from urllib.request import urlretrieve\n",
        "except ImportError:  # Python 2 compat\n",
        "    from urllib import urlretrieve\n",
        "\n",
        "# this line need to be changed:\n",
        "data_folder = '/content/'\n",
        "\n",
        "\n",
        "ML_1M_URL = \"http://files.grouplens.org/datasets/movielens/ml-1m.zip\"\n",
        "ML_1M_FILENAME = op.join(data_folder,ML_1M_URL.rsplit('/', 1)[1])\n",
        "ML_1M_FOLDER = op.join(data_folder,'ml-1m')"
      ],
      "execution_count": 0,
      "outputs": []
    },
    {
      "cell_type": "code",
      "metadata": {
        "id": "utzHaMDsV1Bq",
        "colab_type": "code",
        "colab": {}
      },
      "source": [
        "if not op.exists(ML_1M_FILENAME):\n",
        "    print('Downloading %s to %s...' % (ML_1M_URL, ML_1M_FILENAME))\n",
        "    urlretrieve(ML_1M_URL, ML_1M_FILENAME)\n",
        "\n",
        "if not op.exists(ML_1M_FOLDER):\n",
        "    print('Extracting %s to %s...' % (ML_1M_FILENAME, ML_1M_FOLDER))\n",
        "    ZipFile(ML_1M_FILENAME).extractall(data_folder)"
      ],
      "execution_count": 0,
      "outputs": []
    },
    {
      "cell_type": "markdown",
      "metadata": {
        "colab_type": "text",
        "id": "hHgLg4jBUUDp"
      },
      "source": [
        "## 2. Data analysis and formating"
      ]
    },
    {
      "cell_type": "markdown",
      "metadata": {
        "colab_type": "text",
        "id": "ZlGyPSBpUUDt"
      },
      "source": [
        "As in the lesson, we start by loading the data with [Python Data Analysis Library](http://pandas.pydata.org/)"
      ]
    },
    {
      "cell_type": "code",
      "metadata": {
        "id": "Qk6Vp83IV1Bv",
        "colab_type": "code",
        "colab": {
          "base_uri": "https://localhost:8080/",
          "height": 204
        },
        "outputId": "b3fb5c79-ab96-44e9-bf10-262e0c807e76"
      },
      "source": [
        "import pandas as pd\n",
        "all_ratings = pd.read_csv(op.join(ML_1M_FOLDER, 'ratings.dat'), sep='::',\n",
        "                          names=[\"user_id\", \"item_id\", \"ratings\", \"timestamp\"],engine='python')\n",
        "all_ratings.head()"
      ],
      "execution_count": 3,
      "outputs": [
        {
          "output_type": "execute_result",
          "data": {
            "text/html": [
              "<div>\n",
              "<style scoped>\n",
              "    .dataframe tbody tr th:only-of-type {\n",
              "        vertical-align: middle;\n",
              "    }\n",
              "\n",
              "    .dataframe tbody tr th {\n",
              "        vertical-align: top;\n",
              "    }\n",
              "\n",
              "    .dataframe thead th {\n",
              "        text-align: right;\n",
              "    }\n",
              "</style>\n",
              "<table border=\"1\" class=\"dataframe\">\n",
              "  <thead>\n",
              "    <tr style=\"text-align: right;\">\n",
              "      <th></th>\n",
              "      <th>user_id</th>\n",
              "      <th>item_id</th>\n",
              "      <th>ratings</th>\n",
              "      <th>timestamp</th>\n",
              "    </tr>\n",
              "  </thead>\n",
              "  <tbody>\n",
              "    <tr>\n",
              "      <th>0</th>\n",
              "      <td>1</td>\n",
              "      <td>1193</td>\n",
              "      <td>5</td>\n",
              "      <td>978300760</td>\n",
              "    </tr>\n",
              "    <tr>\n",
              "      <th>1</th>\n",
              "      <td>1</td>\n",
              "      <td>661</td>\n",
              "      <td>3</td>\n",
              "      <td>978302109</td>\n",
              "    </tr>\n",
              "    <tr>\n",
              "      <th>2</th>\n",
              "      <td>1</td>\n",
              "      <td>914</td>\n",
              "      <td>3</td>\n",
              "      <td>978301968</td>\n",
              "    </tr>\n",
              "    <tr>\n",
              "      <th>3</th>\n",
              "      <td>1</td>\n",
              "      <td>3408</td>\n",
              "      <td>4</td>\n",
              "      <td>978300275</td>\n",
              "    </tr>\n",
              "    <tr>\n",
              "      <th>4</th>\n",
              "      <td>1</td>\n",
              "      <td>2355</td>\n",
              "      <td>5</td>\n",
              "      <td>978824291</td>\n",
              "    </tr>\n",
              "  </tbody>\n",
              "</table>\n",
              "</div>"
            ],
            "text/plain": [
              "   user_id  item_id  ratings  timestamp\n",
              "0        1     1193        5  978300760\n",
              "1        1      661        3  978302109\n",
              "2        1      914        3  978301968\n",
              "3        1     3408        4  978300275\n",
              "4        1     2355        5  978824291"
            ]
          },
          "metadata": {
            "tags": []
          },
          "execution_count": 3
        }
      ]
    },
    {
      "cell_type": "code",
      "metadata": {
        "scrolled": true,
        "id": "UDPeRguMV1Bz",
        "colab_type": "code",
        "colab": {
          "base_uri": "https://localhost:8080/",
          "height": 204
        },
        "outputId": "74584d3e-b900-41e2-b266-5ea6bab5d16c"
      },
      "source": [
        "list_movies_names = []\n",
        "list_item_ids = []\n",
        "with open(op.join(ML_1M_FOLDER, 'movies.dat'), encoding = \"ISO-8859-1\") as fp:\n",
        "    for line in fp:\n",
        "        list_item_ids.append(line.split('::')[0])\n",
        "        list_movies_names.append(line.split('::')[1])\n",
        "        \n",
        "movies_names = pd.DataFrame(list(zip(list_item_ids, list_movies_names)), \n",
        "               columns =['item_id', 'item_name']) \n",
        "movies_names.head()"
      ],
      "execution_count": 4,
      "outputs": [
        {
          "output_type": "execute_result",
          "data": {
            "text/html": [
              "<div>\n",
              "<style scoped>\n",
              "    .dataframe tbody tr th:only-of-type {\n",
              "        vertical-align: middle;\n",
              "    }\n",
              "\n",
              "    .dataframe tbody tr th {\n",
              "        vertical-align: top;\n",
              "    }\n",
              "\n",
              "    .dataframe thead th {\n",
              "        text-align: right;\n",
              "    }\n",
              "</style>\n",
              "<table border=\"1\" class=\"dataframe\">\n",
              "  <thead>\n",
              "    <tr style=\"text-align: right;\">\n",
              "      <th></th>\n",
              "      <th>item_id</th>\n",
              "      <th>item_name</th>\n",
              "    </tr>\n",
              "  </thead>\n",
              "  <tbody>\n",
              "    <tr>\n",
              "      <th>0</th>\n",
              "      <td>1</td>\n",
              "      <td>Toy Story (1995)</td>\n",
              "    </tr>\n",
              "    <tr>\n",
              "      <th>1</th>\n",
              "      <td>2</td>\n",
              "      <td>Jumanji (1995)</td>\n",
              "    </tr>\n",
              "    <tr>\n",
              "      <th>2</th>\n",
              "      <td>3</td>\n",
              "      <td>Grumpier Old Men (1995)</td>\n",
              "    </tr>\n",
              "    <tr>\n",
              "      <th>3</th>\n",
              "      <td>4</td>\n",
              "      <td>Waiting to Exhale (1995)</td>\n",
              "    </tr>\n",
              "    <tr>\n",
              "      <th>4</th>\n",
              "      <td>5</td>\n",
              "      <td>Father of the Bride Part II (1995)</td>\n",
              "    </tr>\n",
              "  </tbody>\n",
              "</table>\n",
              "</div>"
            ],
            "text/plain": [
              "  item_id                           item_name\n",
              "0       1                    Toy Story (1995)\n",
              "1       2                      Jumanji (1995)\n",
              "2       3             Grumpier Old Men (1995)\n",
              "3       4            Waiting to Exhale (1995)\n",
              "4       5  Father of the Bride Part II (1995)"
            ]
          },
          "metadata": {
            "tags": []
          },
          "execution_count": 4
        }
      ]
    },
    {
      "cell_type": "markdown",
      "metadata": {
        "id": "6nVdjC0IV1B3",
        "colab_type": "text"
      },
      "source": [
        "Here we add the title of the movies to the data."
      ]
    },
    {
      "cell_type": "code",
      "metadata": {
        "id": "21gIXEkXV1B4",
        "colab_type": "code",
        "colab": {}
      },
      "source": [
        "movies_names['item_id']=movies_names['item_id'].astype(int)\n",
        "all_ratings['item_id']=all_ratings['item_id'].astype(int)\n",
        "all_ratings = all_ratings.merge(movies_names,on='item_id')"
      ],
      "execution_count": 0,
      "outputs": []
    },
    {
      "cell_type": "code",
      "metadata": {
        "id": "_XJlXE1mV1B8",
        "colab_type": "code",
        "colab": {
          "base_uri": "https://localhost:8080/",
          "height": 204
        },
        "outputId": "e5c82772-eb72-4fdb-d291-d53ae2e8b03c"
      },
      "source": [
        "all_ratings.head()"
      ],
      "execution_count": 6,
      "outputs": [
        {
          "output_type": "execute_result",
          "data": {
            "text/html": [
              "<div>\n",
              "<style scoped>\n",
              "    .dataframe tbody tr th:only-of-type {\n",
              "        vertical-align: middle;\n",
              "    }\n",
              "\n",
              "    .dataframe tbody tr th {\n",
              "        vertical-align: top;\n",
              "    }\n",
              "\n",
              "    .dataframe thead th {\n",
              "        text-align: right;\n",
              "    }\n",
              "</style>\n",
              "<table border=\"1\" class=\"dataframe\">\n",
              "  <thead>\n",
              "    <tr style=\"text-align: right;\">\n",
              "      <th></th>\n",
              "      <th>user_id</th>\n",
              "      <th>item_id</th>\n",
              "      <th>ratings</th>\n",
              "      <th>timestamp</th>\n",
              "      <th>item_name</th>\n",
              "    </tr>\n",
              "  </thead>\n",
              "  <tbody>\n",
              "    <tr>\n",
              "      <th>0</th>\n",
              "      <td>1</td>\n",
              "      <td>1193</td>\n",
              "      <td>5</td>\n",
              "      <td>978300760</td>\n",
              "      <td>One Flew Over the Cuckoo's Nest (1975)</td>\n",
              "    </tr>\n",
              "    <tr>\n",
              "      <th>1</th>\n",
              "      <td>2</td>\n",
              "      <td>1193</td>\n",
              "      <td>5</td>\n",
              "      <td>978298413</td>\n",
              "      <td>One Flew Over the Cuckoo's Nest (1975)</td>\n",
              "    </tr>\n",
              "    <tr>\n",
              "      <th>2</th>\n",
              "      <td>12</td>\n",
              "      <td>1193</td>\n",
              "      <td>4</td>\n",
              "      <td>978220179</td>\n",
              "      <td>One Flew Over the Cuckoo's Nest (1975)</td>\n",
              "    </tr>\n",
              "    <tr>\n",
              "      <th>3</th>\n",
              "      <td>15</td>\n",
              "      <td>1193</td>\n",
              "      <td>4</td>\n",
              "      <td>978199279</td>\n",
              "      <td>One Flew Over the Cuckoo's Nest (1975)</td>\n",
              "    </tr>\n",
              "    <tr>\n",
              "      <th>4</th>\n",
              "      <td>17</td>\n",
              "      <td>1193</td>\n",
              "      <td>5</td>\n",
              "      <td>978158471</td>\n",
              "      <td>One Flew Over the Cuckoo's Nest (1975)</td>\n",
              "    </tr>\n",
              "  </tbody>\n",
              "</table>\n",
              "</div>"
            ],
            "text/plain": [
              "   user_id  item_id  ratings  timestamp                               item_name\n",
              "0        1     1193        5  978300760  One Flew Over the Cuckoo's Nest (1975)\n",
              "1        2     1193        5  978298413  One Flew Over the Cuckoo's Nest (1975)\n",
              "2       12     1193        4  978220179  One Flew Over the Cuckoo's Nest (1975)\n",
              "3       15     1193        4  978199279  One Flew Over the Cuckoo's Nest (1975)\n",
              "4       17     1193        5  978158471  One Flew Over the Cuckoo's Nest (1975)"
            ]
          },
          "metadata": {
            "tags": []
          },
          "execution_count": 6
        }
      ]
    },
    {
      "cell_type": "markdown",
      "metadata": {
        "colab_type": "text",
        "id": "enyJuYhUUUEL"
      },
      "source": [
        "The dataframe `all_ratings` contains all the raw data for our problem."
      ]
    },
    {
      "cell_type": "code",
      "metadata": {
        "colab_type": "code",
        "id": "3M7-jinQUUEO",
        "colab": {
          "base_uri": "https://localhost:8080/",
          "height": 34
        },
        "outputId": "ef98cde1-21a3-417f-d60b-63328e6e912d"
      },
      "source": [
        "#number of entries\n",
        "len(all_ratings)"
      ],
      "execution_count": 7,
      "outputs": [
        {
          "output_type": "execute_result",
          "data": {
            "text/plain": [
              "1000209"
            ]
          },
          "metadata": {
            "tags": []
          },
          "execution_count": 7
        }
      ]
    },
    {
      "cell_type": "code",
      "metadata": {
        "colab_type": "code",
        "id": "ofVcE781UUEa",
        "colab": {
          "base_uri": "https://localhost:8080/",
          "height": 170
        },
        "outputId": "fced0e8b-f5de-4484-9011-abd6618deb88"
      },
      "source": [
        "all_ratings['ratings'].describe()"
      ],
      "execution_count": 8,
      "outputs": [
        {
          "output_type": "execute_result",
          "data": {
            "text/plain": [
              "count    1.000209e+06\n",
              "mean     3.581564e+00\n",
              "std      1.117102e+00\n",
              "min      1.000000e+00\n",
              "25%      3.000000e+00\n",
              "50%      4.000000e+00\n",
              "75%      4.000000e+00\n",
              "max      5.000000e+00\n",
              "Name: ratings, dtype: float64"
            ]
          },
          "metadata": {
            "tags": []
          },
          "execution_count": 8
        }
      ]
    },
    {
      "cell_type": "code",
      "metadata": {
        "colab_type": "code",
        "id": "tCdV2qzMUUEk",
        "colab": {
          "base_uri": "https://localhost:8080/",
          "height": 34
        },
        "outputId": "116d93fd-2c80-4348-8ae9-801cf530f81a"
      },
      "source": [
        "all_ratings['ratings'].unique()"
      ],
      "execution_count": 9,
      "outputs": [
        {
          "output_type": "execute_result",
          "data": {
            "text/plain": [
              "array([5, 4, 3, 2, 1])"
            ]
          },
          "metadata": {
            "tags": []
          },
          "execution_count": 9
        }
      ]
    },
    {
      "cell_type": "code",
      "metadata": {
        "colab_type": "code",
        "id": "zU9vARwJUUEs",
        "colab": {
          "base_uri": "https://localhost:8080/",
          "height": 170
        },
        "outputId": "dbf86447-1a15-40cf-b305-587fa4abdde3"
      },
      "source": [
        "all_ratings['user_id'].describe()"
      ],
      "execution_count": 10,
      "outputs": [
        {
          "output_type": "execute_result",
          "data": {
            "text/plain": [
              "count    1.000209e+06\n",
              "mean     3.024512e+03\n",
              "std      1.728413e+03\n",
              "min      1.000000e+00\n",
              "25%      1.506000e+03\n",
              "50%      3.070000e+03\n",
              "75%      4.476000e+03\n",
              "max      6.040000e+03\n",
              "Name: user_id, dtype: float64"
            ]
          },
          "metadata": {
            "tags": []
          },
          "execution_count": 10
        }
      ]
    },
    {
      "cell_type": "code",
      "metadata": {
        "colab_type": "code",
        "id": "P1QoS71CUUE7",
        "colab": {
          "base_uri": "https://localhost:8080/",
          "height": 34
        },
        "outputId": "9a98b61a-6903-429d-a0b4-8c9573e324ab"
      },
      "source": [
        "# number of unique users\n",
        "total_user_id = len(all_ratings['user_id'].unique())\n",
        "print(total_user_id)"
      ],
      "execution_count": 11,
      "outputs": [
        {
          "output_type": "stream",
          "text": [
            "6040\n"
          ],
          "name": "stdout"
        }
      ]
    },
    {
      "cell_type": "markdown",
      "metadata": {
        "id": "-Az4KDFgV1CQ",
        "colab_type": "text"
      },
      "source": [
        "We see that as in the lesson, the users seem to be indexed from 1 to 6040. Let's check that below."
      ]
    },
    {
      "cell_type": "code",
      "metadata": {
        "id": "Pj8ZAzmIV1CQ",
        "colab_type": "code",
        "colab": {}
      },
      "source": [
        "list_user_id = list(all_ratings['user_id'].unique())\n",
        "list_user_id.sort()"
      ],
      "execution_count": 0,
      "outputs": []
    },
    {
      "cell_type": "code",
      "metadata": {
        "id": "l9omI-cwV1CT",
        "colab_type": "code",
        "colab": {}
      },
      "source": [
        "for i,j in enumerate(list_user_id):\n",
        "    if j != i+1:\n",
        "        print(i,j) "
      ],
      "execution_count": 0,
      "outputs": []
    },
    {
      "cell_type": "markdown",
      "metadata": {
        "id": "h-LytszyV1CV",
        "colab_type": "text"
      },
      "source": [
        "We create a new column `user_num` to get an index from 0 to 6039 for users:"
      ]
    },
    {
      "cell_type": "code",
      "metadata": {
        "id": "jE6WVgT-V1CV",
        "colab_type": "code",
        "colab": {}
      },
      "source": [
        "all_ratings['user_num'] = all_ratings['user_id'].apply(lambda x :x-1)"
      ],
      "execution_count": 0,
      "outputs": []
    },
    {
      "cell_type": "code",
      "metadata": {
        "id": "6HldBddZV1CY",
        "colab_type": "code",
        "colab": {
          "base_uri": "https://localhost:8080/",
          "height": 204
        },
        "outputId": "e4d7cdf9-cecf-4ca7-8d94-880ba557ee5f"
      },
      "source": [
        "all_ratings.head()"
      ],
      "execution_count": 15,
      "outputs": [
        {
          "output_type": "execute_result",
          "data": {
            "text/html": [
              "<div>\n",
              "<style scoped>\n",
              "    .dataframe tbody tr th:only-of-type {\n",
              "        vertical-align: middle;\n",
              "    }\n",
              "\n",
              "    .dataframe tbody tr th {\n",
              "        vertical-align: top;\n",
              "    }\n",
              "\n",
              "    .dataframe thead th {\n",
              "        text-align: right;\n",
              "    }\n",
              "</style>\n",
              "<table border=\"1\" class=\"dataframe\">\n",
              "  <thead>\n",
              "    <tr style=\"text-align: right;\">\n",
              "      <th></th>\n",
              "      <th>user_id</th>\n",
              "      <th>item_id</th>\n",
              "      <th>ratings</th>\n",
              "      <th>timestamp</th>\n",
              "      <th>item_name</th>\n",
              "      <th>user_num</th>\n",
              "    </tr>\n",
              "  </thead>\n",
              "  <tbody>\n",
              "    <tr>\n",
              "      <th>0</th>\n",
              "      <td>1</td>\n",
              "      <td>1193</td>\n",
              "      <td>5</td>\n",
              "      <td>978300760</td>\n",
              "      <td>One Flew Over the Cuckoo's Nest (1975)</td>\n",
              "      <td>0</td>\n",
              "    </tr>\n",
              "    <tr>\n",
              "      <th>1</th>\n",
              "      <td>2</td>\n",
              "      <td>1193</td>\n",
              "      <td>5</td>\n",
              "      <td>978298413</td>\n",
              "      <td>One Flew Over the Cuckoo's Nest (1975)</td>\n",
              "      <td>1</td>\n",
              "    </tr>\n",
              "    <tr>\n",
              "      <th>2</th>\n",
              "      <td>12</td>\n",
              "      <td>1193</td>\n",
              "      <td>4</td>\n",
              "      <td>978220179</td>\n",
              "      <td>One Flew Over the Cuckoo's Nest (1975)</td>\n",
              "      <td>11</td>\n",
              "    </tr>\n",
              "    <tr>\n",
              "      <th>3</th>\n",
              "      <td>15</td>\n",
              "      <td>1193</td>\n",
              "      <td>4</td>\n",
              "      <td>978199279</td>\n",
              "      <td>One Flew Over the Cuckoo's Nest (1975)</td>\n",
              "      <td>14</td>\n",
              "    </tr>\n",
              "    <tr>\n",
              "      <th>4</th>\n",
              "      <td>17</td>\n",
              "      <td>1193</td>\n",
              "      <td>5</td>\n",
              "      <td>978158471</td>\n",
              "      <td>One Flew Over the Cuckoo's Nest (1975)</td>\n",
              "      <td>16</td>\n",
              "    </tr>\n",
              "  </tbody>\n",
              "</table>\n",
              "</div>"
            ],
            "text/plain": [
              "   user_id  item_id  ...                               item_name  user_num\n",
              "0        1     1193  ...  One Flew Over the Cuckoo's Nest (1975)         0\n",
              "1        2     1193  ...  One Flew Over the Cuckoo's Nest (1975)         1\n",
              "2       12     1193  ...  One Flew Over the Cuckoo's Nest (1975)        11\n",
              "3       15     1193  ...  One Flew Over the Cuckoo's Nest (1975)        14\n",
              "4       17     1193  ...  One Flew Over the Cuckoo's Nest (1975)        16\n",
              "\n",
              "[5 rows x 6 columns]"
            ]
          },
          "metadata": {
            "tags": []
          },
          "execution_count": 15
        }
      ]
    },
    {
      "cell_type": "markdown",
      "metadata": {
        "id": "W0OThRYhV1Cb",
        "colab_type": "text"
      },
      "source": [
        "We now look at movies."
      ]
    },
    {
      "cell_type": "code",
      "metadata": {
        "colab_type": "code",
        "id": "l3gfokbNUUFH",
        "colab": {
          "base_uri": "https://localhost:8080/",
          "height": 170
        },
        "outputId": "62611936-6c18-4c3f-82ab-a356d45c63d9"
      },
      "source": [
        "all_ratings['item_id'].describe()"
      ],
      "execution_count": 16,
      "outputs": [
        {
          "output_type": "execute_result",
          "data": {
            "text/plain": [
              "count    1.000209e+06\n",
              "mean     1.865540e+03\n",
              "std      1.096041e+03\n",
              "min      1.000000e+00\n",
              "25%      1.030000e+03\n",
              "50%      1.835000e+03\n",
              "75%      2.770000e+03\n",
              "max      3.952000e+03\n",
              "Name: item_id, dtype: float64"
            ]
          },
          "metadata": {
            "tags": []
          },
          "execution_count": 16
        }
      ]
    },
    {
      "cell_type": "code",
      "metadata": {
        "id": "8ncInsk_V1Cg",
        "colab_type": "code",
        "colab": {
          "base_uri": "https://localhost:8080/",
          "height": 34
        },
        "outputId": "3cc7da6d-5802-47d0-b951-da0d8e6f03af"
      },
      "source": [
        "# number of unique rated items\n",
        "total_item_id = len(all_ratings['item_id'].unique())\n",
        "print(total_item_id)"
      ],
      "execution_count": 17,
      "outputs": [
        {
          "output_type": "stream",
          "text": [
            "3706\n"
          ],
          "name": "stdout"
        }
      ]
    },
    {
      "cell_type": "markdown",
      "metadata": {
        "id": "3gGu2LjiV1Ci",
        "colab_type": "text"
      },
      "source": [
        "Here there is a clear problem: there are 3706 different movies but the range of `item_id` starts at 1 and ends at 3952. So there are gaps, so the first thing you will need to do is to create a new column `item_num` so that all movies are indexed from 0 to 3705."
      ]
    },
    {
      "cell_type": "code",
      "metadata": {
        "id": "9Zs7e-pyV1Cj",
        "colab_type": "code",
        "colab": {}
      },
      "source": [
        "#\n",
        "# your code here\n",
        "item_id_to_item_num = {}\n",
        "\n",
        "item_num = 0\n",
        "for item_id in sorted(all_ratings['item_id'].unique()):\n",
        "    item_id_to_item_num[item_id] = item_num\n",
        "    item_num += 1\n",
        "\n",
        "all_ratings['item_num'] = all_ratings['item_id'].apply(lambda x :item_id_to_item_num[x])\n",
        "#"
      ],
      "execution_count": 0,
      "outputs": []
    },
    {
      "cell_type": "markdown",
      "metadata": {
        "id": "weNJOlzcV1Cl",
        "colab_type": "text"
      },
      "source": [
        "This function will verify that your result is correct."
      ]
    },
    {
      "cell_type": "code",
      "metadata": {
        "id": "ktctMT12V1Cl",
        "colab_type": "code",
        "colab": {}
      },
      "source": [
        "def check_ratings_num(df):\n",
        "    item_num = set(df['item_num'])\n",
        "    if item_num == set(range(len(item_num))):\n",
        "        return True\n",
        "    else:\n",
        "        return False"
      ],
      "execution_count": 0,
      "outputs": []
    },
    {
      "cell_type": "code",
      "metadata": {
        "id": "w4w1XQnfV1Cp",
        "colab_type": "code",
        "colab": {
          "base_uri": "https://localhost:8080/",
          "height": 34
        },
        "outputId": "cd9bd0a8-3a7a-4811-985d-74fadd83cd36"
      },
      "source": [
        "check_ratings_num(all_ratings)"
      ],
      "execution_count": 20,
      "outputs": [
        {
          "output_type": "execute_result",
          "data": {
            "text/plain": [
              "True"
            ]
          },
          "metadata": {
            "tags": []
          },
          "execution_count": 20
        }
      ]
    },
    {
      "cell_type": "code",
      "metadata": {
        "id": "HYa43L6EV1Cr",
        "colab_type": "code",
        "colab": {
          "base_uri": "https://localhost:8080/",
          "height": 204
        },
        "outputId": "f2da1bef-cf37-4a8d-df4b-5eb3b582cb8a"
      },
      "source": [
        "all_ratings.head()"
      ],
      "execution_count": 21,
      "outputs": [
        {
          "output_type": "execute_result",
          "data": {
            "text/html": [
              "<div>\n",
              "<style scoped>\n",
              "    .dataframe tbody tr th:only-of-type {\n",
              "        vertical-align: middle;\n",
              "    }\n",
              "\n",
              "    .dataframe tbody tr th {\n",
              "        vertical-align: top;\n",
              "    }\n",
              "\n",
              "    .dataframe thead th {\n",
              "        text-align: right;\n",
              "    }\n",
              "</style>\n",
              "<table border=\"1\" class=\"dataframe\">\n",
              "  <thead>\n",
              "    <tr style=\"text-align: right;\">\n",
              "      <th></th>\n",
              "      <th>user_id</th>\n",
              "      <th>item_id</th>\n",
              "      <th>ratings</th>\n",
              "      <th>timestamp</th>\n",
              "      <th>item_name</th>\n",
              "      <th>user_num</th>\n",
              "      <th>item_num</th>\n",
              "    </tr>\n",
              "  </thead>\n",
              "  <tbody>\n",
              "    <tr>\n",
              "      <th>0</th>\n",
              "      <td>1</td>\n",
              "      <td>1193</td>\n",
              "      <td>5</td>\n",
              "      <td>978300760</td>\n",
              "      <td>One Flew Over the Cuckoo's Nest (1975)</td>\n",
              "      <td>0</td>\n",
              "      <td>1104</td>\n",
              "    </tr>\n",
              "    <tr>\n",
              "      <th>1</th>\n",
              "      <td>2</td>\n",
              "      <td>1193</td>\n",
              "      <td>5</td>\n",
              "      <td>978298413</td>\n",
              "      <td>One Flew Over the Cuckoo's Nest (1975)</td>\n",
              "      <td>1</td>\n",
              "      <td>1104</td>\n",
              "    </tr>\n",
              "    <tr>\n",
              "      <th>2</th>\n",
              "      <td>12</td>\n",
              "      <td>1193</td>\n",
              "      <td>4</td>\n",
              "      <td>978220179</td>\n",
              "      <td>One Flew Over the Cuckoo's Nest (1975)</td>\n",
              "      <td>11</td>\n",
              "      <td>1104</td>\n",
              "    </tr>\n",
              "    <tr>\n",
              "      <th>3</th>\n",
              "      <td>15</td>\n",
              "      <td>1193</td>\n",
              "      <td>4</td>\n",
              "      <td>978199279</td>\n",
              "      <td>One Flew Over the Cuckoo's Nest (1975)</td>\n",
              "      <td>14</td>\n",
              "      <td>1104</td>\n",
              "    </tr>\n",
              "    <tr>\n",
              "      <th>4</th>\n",
              "      <td>17</td>\n",
              "      <td>1193</td>\n",
              "      <td>5</td>\n",
              "      <td>978158471</td>\n",
              "      <td>One Flew Over the Cuckoo's Nest (1975)</td>\n",
              "      <td>16</td>\n",
              "      <td>1104</td>\n",
              "    </tr>\n",
              "  </tbody>\n",
              "</table>\n",
              "</div>"
            ],
            "text/plain": [
              "   user_id  item_id  ...  user_num  item_num\n",
              "0        1     1193  ...         0      1104\n",
              "1        2     1193  ...         1      1104\n",
              "2       12     1193  ...        11      1104\n",
              "3       15     1193  ...        14      1104\n",
              "4       17     1193  ...        16      1104\n",
              "\n",
              "[5 rows x 7 columns]"
            ]
          },
          "metadata": {
            "tags": []
          },
          "execution_count": 21
        }
      ]
    },
    {
      "cell_type": "markdown",
      "metadata": {
        "colab_type": "text",
        "id": "Ur4bjuniUUFj"
      },
      "source": [
        "Now we will split the data in _train_, _val_ and _test_ be using a pre-defined function from [scikit-learn](http://scikit-learn.org/stable/)"
      ]
    },
    {
      "cell_type": "code",
      "metadata": {
        "colab_type": "code",
        "id": "ZT5oxhoGUUFm",
        "colab": {}
      },
      "source": [
        "from sklearn.model_selection import train_test_split\n",
        "\n",
        "ratings_trainval, ratings_test = train_test_split(all_ratings, test_size=0.1, random_state=42)\n",
        "\n",
        "ratings_train, ratings_val = train_test_split(ratings_trainval, test_size=0.1, random_state=42)"
      ],
      "execution_count": 0,
      "outputs": []
    },
    {
      "cell_type": "markdown",
      "metadata": {
        "colab_type": "text",
        "id": "Q7JF-d05UUGc"
      },
      "source": [
        "## 3. The model\n",
        "\n",
        "We will now modify a bit the `FactorizationModel` class seen during the lesson. Internally, we will still use the `Model_dot` but now we use the PyTorch dataloader."
      ]
    },
    {
      "cell_type": "code",
      "metadata": {
        "colab_type": "code",
        "id": "tsrfFi1QUUGd",
        "colab": {}
      },
      "source": [
        "import torch.nn as nn\n",
        "import torch\n",
        "import torch.nn.functional as F\n",
        "import torch.optim as optim\n",
        "from sklearn.metrics import mean_absolute_error"
      ],
      "execution_count": 0,
      "outputs": []
    },
    {
      "cell_type": "code",
      "metadata": {
        "id": "4dYlOkCzV1C0",
        "colab_type": "code",
        "colab": {}
      },
      "source": [
        "device = torch.device(\"cuda:0\" if torch.cuda.is_available() else \"cpu\")"
      ],
      "execution_count": 0,
      "outputs": []
    },
    {
      "cell_type": "code",
      "metadata": {
        "id": "P3OnBFlOV1C2",
        "colab_type": "code",
        "colab": {}
      },
      "source": [
        "def df_2_tensor(df, device):\n",
        "    # return a triplet user_num, item_num, rating from the dataframe\n",
        "    user_num = np.asarray(df['user_num'])\n",
        "    item_num = np.asarray(df['item_num'])\n",
        "    rating = np.asarray(df['ratings'])\n",
        "    return torch.from_numpy(user_num).to(device), torch.from_numpy(item_num).to(device), torch.from_numpy(rating).to(device)"
      ],
      "execution_count": 0,
      "outputs": []
    },
    {
      "cell_type": "markdown",
      "metadata": {
        "id": "W2UUX0GDV1C4",
        "colab_type": "text"
      },
      "source": [
        "Below, we construct 3 tensors containing the `user_num`, `item_num` and `rating` for the training set. All tensors have the same shape so that `train_user_num[i]` watched `train_item_num[i]` and gave a rating of `train_rating[i]`."
      ]
    },
    {
      "cell_type": "code",
      "metadata": {
        "id": "LY7lG3M_V1C5",
        "colab_type": "code",
        "colab": {}
      },
      "source": [
        "train_user_num, train_item_num, train_rating = df_2_tensor(ratings_train,device)"
      ],
      "execution_count": 0,
      "outputs": []
    },
    {
      "cell_type": "markdown",
      "metadata": {
        "id": "SY39426KV1C7",
        "colab_type": "text"
      },
      "source": [
        "We now do the same thing for the validation and test sets."
      ]
    },
    {
      "cell_type": "code",
      "metadata": {
        "id": "o1bjHQExV1C8",
        "colab_type": "code",
        "colab": {}
      },
      "source": [
        "val_user_num, val_item_num, val_rating = df_2_tensor(ratings_val,device)\n",
        "test_user_num, test_item_num, test_rating = df_2_tensor(ratings_test,device)"
      ],
      "execution_count": 0,
      "outputs": []
    },
    {
      "cell_type": "markdown",
      "metadata": {
        "colab_type": "text",
        "id": "HpkKu7PVUUGp"
      },
      "source": [
        "The code below is taken from the lesson"
      ]
    },
    {
      "cell_type": "code",
      "metadata": {
        "colab_type": "code",
        "id": "eB6_y1nMUUGq",
        "colab": {}
      },
      "source": [
        "class ScaledEmbedding(nn.Embedding):\n",
        "    \"\"\"\n",
        "    Embedding layer that initialises its values\n",
        "    to using a normal variable scaled by the inverse\n",
        "    of the emedding dimension.\n",
        "    \"\"\"\n",
        "    def reset_parameters(self):\n",
        "        \"\"\"\n",
        "        Initialize parameters.\n",
        "        \"\"\"\n",
        "\n",
        "        self.weight.data.normal_(0, 1.0 / self.embedding_dim)\n",
        "        if self.padding_idx is not None:\n",
        "            self.weight.data[self.padding_idx].fill_(0)\n",
        "\n",
        "\n",
        "class ZeroEmbedding(nn.Embedding):\n",
        "    \"\"\"\n",
        "    Used for biases.\n",
        "    \"\"\"\n",
        "\n",
        "    def reset_parameters(self):\n",
        "        \"\"\"\n",
        "        Initialize parameters.\n",
        "        \"\"\"\n",
        "\n",
        "        self.weight.data.zero_()\n",
        "        if self.padding_idx is not None:\n",
        "            self.weight.data[self.padding_idx].fill_(0)"
      ],
      "execution_count": 0,
      "outputs": []
    },
    {
      "cell_type": "code",
      "metadata": {
        "colab_type": "code",
        "id": "ktXRW3-4UUGt",
        "colab": {}
      },
      "source": [
        "class DotModel(nn.Module):\n",
        "    \n",
        "    def __init__(self,\n",
        "                 num_users,\n",
        "                 num_items,\n",
        "                 embedding_dim=32):\n",
        "        \n",
        "        super(DotModel, self).__init__()\n",
        "        \n",
        "        self.embedding_dim = embedding_dim\n",
        "        \n",
        "        self.user_embeddings = ScaledEmbedding(num_users, embedding_dim)\n",
        "        self.item_embeddings = ScaledEmbedding(num_items, embedding_dim)\n",
        "        self.user_biases = ZeroEmbedding(num_users, 1)\n",
        "        self.item_biases = ZeroEmbedding(num_items, 1)\n",
        "                \n",
        "        \n",
        "    def forward(self, user_ids, item_ids):\n",
        "        #\n",
        "        # your code\n",
        "        x = (self.user_embeddings(user_ids) * self.item_embeddings(item_ids)).sum(1)\n",
        "        x = x + self.user_biases(user_ids).squeeze() + self.item_biases(item_ids).squeeze()\n",
        "        #\n",
        "        return x"
      ],
      "execution_count": 0,
      "outputs": []
    },
    {
      "cell_type": "code",
      "metadata": {
        "colab_type": "code",
        "id": "PlbbwU1ze5d7",
        "colab": {}
      },
      "source": [
        "net = DotModel(total_user_id,total_item_id).to(device)"
      ],
      "execution_count": 0,
      "outputs": []
    },
    {
      "cell_type": "markdown",
      "metadata": {
        "colab_type": "text",
        "id": "ysX9Q9pxiMG4"
      },
      "source": [
        "Now test your network on a small batch."
      ]
    },
    {
      "cell_type": "code",
      "metadata": {
        "colab_type": "code",
        "id": "I20UhBLZjBEs",
        "colab": {
          "base_uri": "https://localhost:8080/",
          "height": 51
        },
        "outputId": "b454b3c2-f8f4-46f1-e5e8-3ed80906c649"
      },
      "source": [
        "predicitions = net(train_user_num[:5], train_item_num[:5])\n",
        "predicitions"
      ],
      "execution_count": 31,
      "outputs": [
        {
          "output_type": "execute_result",
          "data": {
            "text/plain": [
              "tensor([-0.0077, -0.0014,  0.0099, -0.0025,  0.0071], device='cuda:0',\n",
              "       grad_fn=<AddBackward0>)"
            ]
          },
          "metadata": {
            "tags": []
          },
          "execution_count": 31
        }
      ]
    },
    {
      "cell_type": "code",
      "metadata": {
        "colab_type": "code",
        "id": "7sqlTLCyiwzl",
        "colab": {}
      },
      "source": [
        "def regression_loss(predicted_ratings, observed_ratings):\n",
        "    return ((observed_ratings - predicted_ratings) ** 2).mean()"
      ],
      "execution_count": 0,
      "outputs": []
    },
    {
      "cell_type": "code",
      "metadata": {
        "colab_type": "code",
        "id": "Ins38kThjNl0",
        "colab": {
          "base_uri": "https://localhost:8080/",
          "height": 34
        },
        "outputId": "3f0a2d52-48aa-45bb-d274-7ade804fa26d"
      },
      "source": [
        "loss_fn = regression_loss\n",
        "loss = loss_fn(predicitions, train_rating[:5])\n",
        "loss"
      ],
      "execution_count": 33,
      "outputs": [
        {
          "output_type": "execute_result",
          "data": {
            "text/plain": [
              "tensor(11.9857, device='cuda:0', grad_fn=<MeanBackward0>)"
            ]
          },
          "metadata": {
            "tags": []
          },
          "execution_count": 33
        }
      ]
    },
    {
      "cell_type": "markdown",
      "metadata": {
        "id": "mYpYDeK0V1DN",
        "colab_type": "text"
      },
      "source": [
        "Now you need to construct a dataset and a dataloader. For this, you can define a first function taking as arguments the tensors defined above and returning a list; then a second function taking as argument a dataset, the batchsize and a boolean for the shuffling. We will not use anymore the functions `shuffle` and `minibatch` used in the lesson."
      ]
    },
    {
      "cell_type": "code",
      "metadata": {
        "id": "c1VFUdHtV1DO",
        "colab_type": "code",
        "colab": {}
      },
      "source": [
        "def tensor_2_dataset(user,item,rating):\n",
        "    # your code here\n",
        "    return [(u,i,r) for u,i,r in zip(user,item,rating)]\n",
        "    \n",
        "def make_dataloader(dataset,bs,shuffle):\n",
        "    # your code here\n",
        "    return torch.utils.data.DataLoader(dataset, batch_size=bs, shuffle=shuffle)\n",
        "    "
      ],
      "execution_count": 0,
      "outputs": []
    },
    {
      "cell_type": "code",
      "metadata": {
        "id": "h-Y4ruIPV1DS",
        "colab_type": "code",
        "colab": {}
      },
      "source": [
        "train_dataset = tensor_2_dataset(train_user_num,train_item_num, train_rating)\n",
        "val_dataset = tensor_2_dataset(val_user_num,val_item_num,val_rating)\n",
        "test_dataset = tensor_2_dataset(test_user_num, test_item_num, test_rating)"
      ],
      "execution_count": 0,
      "outputs": []
    },
    {
      "cell_type": "code",
      "metadata": {
        "id": "rXvR2apHV1DU",
        "colab_type": "code",
        "colab": {}
      },
      "source": [
        "train_dataloader = make_dataloader(train_dataset,1024,True)\n",
        "val_dataloader = make_dataloader(val_dataset,1024, False)\n",
        "test_dataloader = make_dataloader(test_dataset,1024,False)"
      ],
      "execution_count": 0,
      "outputs": []
    },
    {
      "cell_type": "markdown",
      "metadata": {
        "id": "wz1h-gG-V1DX",
        "colab_type": "text"
      },
      "source": [
        "Here you need to modify the code seen during the lesson:\n",
        " - remove the batch_size in the init\n",
        " - the fit function should now take as argument a dataloader for the training and a dataloader for the validation. AT the end of each epoch, you run the test method on the validation set. Then you print both the loss on the training set and on the validation set to see if you are overfitting."
      ]
    },
    {
      "cell_type": "code",
      "metadata": {
        "colab_type": "code",
        "id": "2ekPPr7SUUG7",
        "colab": {}
      },
      "source": [
        "class FactorizationModel(object):\n",
        "    \n",
        "    def __init__(self, embedding_dim=32, n_iter=10, l2=0.0,\n",
        "                 learning_rate=1e-2, device=device, net=None, num_users=None,\n",
        "                 num_items=None,random_state=None):\n",
        "        \n",
        "        self._embedding_dim = embedding_dim\n",
        "        self._n_iter = n_iter\n",
        "        self._learning_rate = learning_rate\n",
        "        self._l2 = l2\n",
        "        self._device = device\n",
        "        self._num_users = num_users\n",
        "        self._num_items = num_items\n",
        "        self._net = net\n",
        "        self._optimizer = None\n",
        "        self._loss_func = None\n",
        "        self._random_state = random_state or np.random.RandomState()\n",
        "             \n",
        "        \n",
        "    def _initialize(self):\n",
        "        if self._net is None:\n",
        "            self._net = DotModel(self._num_users, self._num_items, self._embedding_dim).to(self._device)\n",
        "        \n",
        "        self._optimizer = optim.Adam(\n",
        "                self._net.parameters(),\n",
        "                lr=self._learning_rate,\n",
        "                weight_decay=self._l2\n",
        "            )\n",
        "        \n",
        "        self._loss_func = regression_loss\n",
        "        \n",
        "    \n",
        "    @property\n",
        "    def _initialized(self):\n",
        "        return self._optimizer is not None\n",
        "    \n",
        "    def __repr__(self):\n",
        "        return _repr_model(self)\n",
        "    \n",
        "    def fit(self, dataloader, val_dataloader, verbose=True):       \n",
        "        if not self._initialized:\n",
        "            self._initialize()\n",
        "            \n",
        "        for epoch_num in range(self._n_iter):\n",
        "            epoch_loss = 0.0\n",
        "            self._net.train(True)\n",
        "\n",
        "            #\n",
        "            # your code\n",
        "            size = 0\n",
        "            for batch_user, batch_item, batch_rating in dataloader:\n",
        "                size += 1\n",
        "                predictions = self._net(batch_user, batch_item)\n",
        "                self._optimizer.zero_grad()\n",
        "                loss = self._loss_func(predictions, batch_rating)\n",
        "                epoch_loss += loss.data.item() \n",
        "                loss.backward()\n",
        "                self._optimizer.step() \n",
        "            #\n",
        "                \n",
        "            \n",
        "            epoch_loss = epoch_loss / size\n",
        "            loss_test = self.test(val_dataloader)\n",
        "\n",
        "            if verbose:\n",
        "                print('Epoch {}: loss_train {}, loss_val {}'.format(epoch_num, epoch_loss,loss_test))\n",
        "        \n",
        "            if np.isnan(epoch_loss) or epoch_loss == 0.0:\n",
        "                raise ValueError('Degenerate epoch loss: {}'\n",
        "                                 .format(epoch_loss))\n",
        "    \n",
        "    \n",
        "    def test(self,dataloader, verbose = False):\n",
        "        self._net.train(False)\n",
        "        L1loss = torch.nn.L1Loss()\n",
        "        test_loss = 0.0\n",
        "        test_mae = 0.0\n",
        "        #\n",
        "        # your code here (mae = mean absolute error)\n",
        "        size = 0\n",
        "        for batch_user, batch_item, batch_rating in dataloader:\n",
        "            size += 1\n",
        "            predictions = self._net(batch_user, batch_item)\n",
        "            loss = self._loss_func(predictions, batch_rating)\n",
        "            test_loss += loss.data.item()\n",
        "            test_mae += mean_absolute_error(predictions.data.cpu(), batch_rating.data.cpu())\n",
        "            \n",
        "        #\n",
        "                \n",
        "        test_loss = test_loss / size\n",
        "        test_mae = test_mae / size\n",
        "        if verbose:\n",
        "            print(f\"RMSE: {np.sqrt(test_loss)}, MAE: {test_mae}\")\n",
        "        return loss.item()"
      ],
      "execution_count": 0,
      "outputs": []
    },
    {
      "cell_type": "code",
      "metadata": {
        "colab_type": "code",
        "id": "qGuzPUNrUUG_",
        "colab": {}
      },
      "source": [
        "model = FactorizationModel(embedding_dim=50,  # latent dimensionality\n",
        "                                   n_iter=15,  # number of epochs of training\n",
        "                                   learning_rate=5e-4,\n",
        "                                   l2=1e-9,  # strength of L2 regularization\n",
        "                                   num_users=total_user_id,\n",
        "                                   num_items=total_item_id)"
      ],
      "execution_count": 0,
      "outputs": []
    },
    {
      "cell_type": "code",
      "metadata": {
        "colab_type": "code",
        "id": "2Bd2CIosUUHJ",
        "colab": {
          "base_uri": "https://localhost:8080/",
          "height": 272
        },
        "outputId": "86cbbb93-dc68-4a03-d9db-031baf8b7bc5"
      },
      "source": [
        "model.fit(train_dataloader,val_dataloader)"
      ],
      "execution_count": 39,
      "outputs": [
        {
          "output_type": "stream",
          "text": [
            "Epoch 0: loss_train 10.33345668123226, loss_val 3.0832438468933105\n",
            "Epoch 1: loss_train 1.7026778891532108, loss_val 1.078348994255066\n",
            "Epoch 2: loss_train 0.9799523613970689, loss_val 0.9061328172683716\n",
            "Epoch 3: loss_train 0.8688437166539106, loss_val 0.8746346831321716\n",
            "Epoch 4: loss_train 0.8349683765660633, loss_val 0.8598342537879944\n",
            "Epoch 5: loss_train 0.8186973597515713, loss_val 0.8399873375892639\n",
            "Epoch 6: loss_train 0.8070514219427349, loss_val 0.8330771923065186\n",
            "Epoch 7: loss_train 0.797270866430769, loss_val 0.829879879951477\n",
            "Epoch 8: loss_train 0.7886540317776227, loss_val 0.809420645236969\n",
            "Epoch 9: loss_train 0.7810259958108267, loss_val 0.80266273021698\n",
            "Epoch 10: loss_train 0.7737668605916428, loss_val 0.8088446259498596\n",
            "Epoch 11: loss_train 0.7671417686523814, loss_val 0.8037886023521423\n",
            "Epoch 12: loss_train 0.7600991141916525, loss_val 0.7983860969543457\n",
            "Epoch 13: loss_train 0.7530759811551884, loss_val 0.7895199656486511\n",
            "Epoch 14: loss_train 0.7451453357934952, loss_val 0.7835125923156738\n"
          ],
          "name": "stdout"
        }
      ]
    },
    {
      "cell_type": "code",
      "metadata": {
        "colab_type": "code",
        "id": "HKyc7Bg5UUHR",
        "colab": {
          "base_uri": "https://localhost:8080/",
          "height": 34
        },
        "outputId": "024b620b-bddb-44b4-c7aa-4e8f1b6544e8"
      },
      "source": [
        "_= model.test(test_dataloader,True)"
      ],
      "execution_count": 40,
      "outputs": [
        {
          "output_type": "stream",
          "text": [
            "RMSE: 0.8814971298485808, MAE: 0.694267358663003\n"
          ],
          "name": "stdout"
        }
      ]
    },
    {
      "cell_type": "markdown",
      "metadata": {
        "colab_type": "text",
        "id": "yXVIF75IUUHW"
      },
      "source": [
        "Play with the parameter to beat the benchmarks presented here: [Surprise](https://github.com/NicolasHug/Surprise)"
      ]
    },
    {
      "cell_type": "markdown",
      "metadata": {
        "id": "VK3KgG47V1Di",
        "colab_type": "text"
      },
      "source": [
        "## 4. Best and worst movies\n",
        "\n",
        "Now you need to rank the movies according to their bias. For this, you need to recover the biases of the movies, make a list of the pairs `[name of the movie, its bias]` and then sort this list according to the biases. You can use the method sort of a list."
      ]
    },
    {
      "cell_type": "code",
      "metadata": {
        "id": "najVHbrIO6G_",
        "colab_type": "code",
        "colab": {
          "base_uri": "https://localhost:8080/",
          "height": 66,
          "referenced_widgets": [
            "7e731e2ee8ac46c09e6d45526bfd0f1a",
            "5b590d44f3b046d2a0d407ca9238c862",
            "843d420b84ba43f4af8b8a09ee500296",
            "fb9471b06ac24eb59eb97e4d9f1f534f",
            "e580160ae824475aa2e39da88ba05961",
            "3eaf3cf62dd148baa715c01e6546fd8f",
            "ee039ca164e04d2ea22a82bc6c1d9e1b",
            "ce5532fb40104ee680868133fd5a7ef2"
          ]
        },
        "outputId": "c9928ac3-4185-4686-f8cd-47cfe216c839"
      },
      "source": [
        "from tqdm.notebook import tqdm as tq\n",
        "\n",
        "item_bias_np = model._net.item_biases.weight.data.cpu().numpy()\n",
        "\n",
        "movies_biases = []\n",
        "\n",
        "for i, bias in tq(enumerate(item_bias_np)):\n",
        "    movies_biases.append([all_ratings[all_ratings['item_num']==i].item_name.unique()[0], bias[0]])\n",
        "movies_biases.sort(key=lambda movies_biases:movies_biases[1], reverse=True)"
      ],
      "execution_count": 41,
      "outputs": [
        {
          "output_type": "display_data",
          "data": {
            "application/vnd.jupyter.widget-view+json": {
              "model_id": "7e731e2ee8ac46c09e6d45526bfd0f1a",
              "version_minor": 0,
              "version_major": 2
            },
            "text/plain": [
              "HBox(children=(IntProgress(value=1, bar_style='info', max=1), HTML(value='')))"
            ]
          },
          "metadata": {
            "tags": []
          }
        },
        {
          "output_type": "stream",
          "text": [
            "\n"
          ],
          "name": "stdout"
        }
      ]
    },
    {
      "cell_type": "code",
      "metadata": {
        "id": "FpOu4DtMRjZy",
        "colab_type": "code",
        "colab": {
          "base_uri": "https://localhost:8080/",
          "height": 408
        },
        "outputId": "328896ee-8c22-46e4-dfa5-1d80617cf634"
      },
      "source": [
        "print(\"10 Best movies :\")\n",
        "for movie_name, bias in movies_biases[:10]:\n",
        "    print(\"{} - bias : {:.3f}\".format(movie_name, bias))\n",
        "print(\"\")\n",
        "print(\"10 Worst movies :\")\n",
        "for movie_name, bias in movies_biases[-10:]:\n",
        "    print(\"{} - bias : {:.3f}\".format(movie_name, bias))"
      ],
      "execution_count": 42,
      "outputs": [
        {
          "output_type": "stream",
          "text": [
            "10 Best movies :\n",
            "Star Wars: Episode IV - A New Hope (1977) - bias : 0.477\n",
            "Sixth Sense, The (1999) - bias : 0.476\n",
            "Schindler's List (1993) - bias : 0.473\n",
            "Shawshank Redemption, The (1994) - bias : 0.470\n",
            "Raiders of the Lost Ark (1981) - bias : 0.466\n",
            "Matrix, The (1999) - bias : 0.453\n",
            "Silence of the Lambs, The (1991) - bias : 0.448\n",
            "American Beauty (1999) - bias : 0.446\n",
            "Usual Suspects, The (1995) - bias : 0.443\n",
            "Godfather, The (1972) - bias : 0.438\n",
            "\n",
            "10 Worst movies :\n",
            "Joyriders, The (1999) - bias : 0.000\n",
            "Spiders, The (Die Spinnen, 1. Teil: Der Goldene See) (1919) - bias : 0.000\n",
            "White Boys (1999) - bias : 0.000\n",
            "Spring Fever USA (a.k.a. Lauderdale) (1989) - bias : 0.000\n",
            "Alley Cats, The (1968) - bias : 0.000\n",
            "Match, The (1999) - bias : 0.000\n",
            "Project Moon Base (1953) - bias : 0.000\n",
            "Skipped Parts (2000) - bias : 0.000\n",
            "Back Stage (2000) - bias : 0.000\n",
            "Uninvited Guest, An (2000) - bias : 0.000\n"
          ],
          "name": "stdout"
        }
      ]
    },
    {
      "cell_type": "markdown",
      "metadata": {
        "id": "Dc1ZKW9XV1Dl",
        "colab_type": "text"
      },
      "source": [
        "## 5. PCA of movies' embeddings\n",
        "\n",
        "Now you can also plpay with the embeddings learned by your algorithm for the movies."
      ]
    },
    {
      "cell_type": "code",
      "metadata": {
        "id": "HX37hFDsV1Dl",
        "colab_type": "code",
        "colab": {}
      },
      "source": [
        "from sklearn.decomposition import PCA\n",
        "from operator import itemgetter"
      ],
      "execution_count": 0,
      "outputs": []
    },
    {
      "cell_type": "code",
      "metadata": {
        "id": "oWomt-l-V1Dp",
        "colab_type": "code",
        "colab": {
          "base_uri": "https://localhost:8080/",
          "height": 863
        },
        "outputId": "3b6f84fe-096a-42c0-9532-b940e67301e2"
      },
      "source": [
        "item_emb_np = model._net.item_embeddings.weight.data.cpu().numpy()\n",
        "\n",
        "pca = PCA(n_components=3)\n",
        "latent_fac = pca.fit_transform(item_emb_np)\n",
        "movie_comp = [(f, i) for f,i in zip(latent_fac[:,1], list_movies_names)]\n",
        "g = all_ratings.groupby('item_name')['ratings'].count()\n",
        "most_rated_movies = g.sort_values(ascending=False).index.values[:1000]\n",
        "idxs = range(50)\n",
        "txt_movies_names = most_rated_movies[:len(idxs)]\n",
        "X = latent_fac[idxs,0]\n",
        "Y = latent_fac[idxs,2]\n",
        "plt.figure(figsize=(15,15))\n",
        "plt.scatter(X, Y)\n",
        "for i, x, y in zip(txt_movies_names, X, Y):\n",
        "    plt.text(x+0.01,y-0.01,i, fontsize=11)\n",
        "plt.show()"
      ],
      "execution_count": 44,
      "outputs": [
        {
          "output_type": "display_data",
          "data": {
            "image/png": "[encoded data removed]",
            "text/plain": [
              "<Figure size 1080x1080 with 1 Axes>"
            ]
          },
          "metadata": {
            "tags": [],
            "needs_background": "light"
          }
        }
      ]
    },
    {
      "cell_type": "code",
      "metadata": {
        "id": "RmREf_GlWspb",
        "colab_type": "code",
        "colab": {}
      },
      "source": [
        ""
      ],
      "execution_count": 0,
      "outputs": []
    }
  ]
}