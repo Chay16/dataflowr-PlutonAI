{
  "nbformat": 4,
  "nbformat_minor": 0,
  "metadata": {
    "accelerator": "GPU",
    "colab": {
      "name": "05_collaborative_filtering_PlutonAI.ipynb",
      "provenance": [],
      "include_colab_link": true
    },
    "kernelspec": {
      "display_name": "Python 3",
      "language": "python",
      "name": "python3"
    },
    "language_info": {
      "codemirror_mode": {
        "name": "ipython",
        "version": 3
      },
      "file_extension": ".py",
      "mimetype": "text/x-python",
      "name": "python",
      "nbconvert_exporter": "python",
      "pygments_lexer": "ipython3",
      "version": "3.6.9"
    }
  },
  "cells": [
    {
      "cell_type": "markdown",
      "metadata": {
        "id": "view-in-github",
        "colab_type": "text"
      },
      "source": [
        "<a href=\"https://colab.research.google.com/github/Chay16/dataflowr-PlutonAI/blob/master/05_collaborative_filtering_PlutonAI.ipynb\" target=\"_parent\"><img src=\"https://colab.research.google.com/assets/colab-badge.svg\" alt=\"Open In Colab\"/></a>"
      ]
    },
    {
      "cell_type": "markdown",
      "metadata": {
        "colab_type": "text",
        "id": "cKEoXRSzUUCv"
      },
      "source": [
        "# Collaborative filtering\n",
        "-----\n",
        "\n",
        "In this example, we'll build a quick explicit feedback recommender system: that is, a model that takes into account explicit feedback signals (like ratings) to recommend new content.\n",
        "\n",
        "We'll use an approach first made popular by the [Netflix prize](http://www.netflixprize.com/) contest: [matrix factorization](https://datajobs.com/data-science-repo/Recommender-Systems-[Netflix].pdf). \n",
        "\n",
        "The basic idea is very simple:\n",
        "\n",
        "1. Start with user-item-rating triplets, conveying the information that user _i_ gave some item _j_ rating _r_.\n",
        "2. Represent both users and items as high-dimensional vectors of numbers. For example, a user could be represented by `[0.3, -1.2, 0.5]` and an item by `[1.0, -0.3, -0.6]`.\n",
        "3. The representations should be chosen so that, when we multiplied together (via [dot products](https://en.wikipedia.org/wiki/Dot_product)), we can recover the original ratings.\n",
        "4. The utility of the model then is derived from the fact that if we multiply the user vector of a user with the item vector of some item they _have not_ rated, we hope to obtain a predicition for the rating they would have given to it had they seen it.\n",
        "\n",
        "![collaborative filtering](http://ampcamp.berkeley.edu/big-data-mini-course/img/matrix_factorization.png)\n",
        "source:[ampcamp.berkeley](http://ampcamp.berkeley.edu/big-data-mini-course/movie-recommendation-with-mllib.html)"
      ]
    },
    {
      "cell_type": "markdown",
      "metadata": {
        "colab_type": "text",
        "id": "OeHGO4qbUUC4"
      },
      "source": [
        "## 1. Preparations"
      ]
    },
    {
      "cell_type": "code",
      "metadata": {
        "colab_type": "code",
        "id": "frj5rX9wUUC_",
        "colab": {}
      },
      "source": [
        "%matplotlib inline\n",
        "import matplotlib.pyplot as plt\n",
        "import numpy as np\n",
        "import os.path as op\n",
        "\n",
        "from zipfile import ZipFile\n",
        "try:\n",
        "    from urllib.request import urlretrieve\n",
        "except ImportError:  # Python 2 compat\n",
        "    from urllib import urlretrieve\n",
        "\n",
        "# this line needs to be modified if not on colab:\n",
        "data_folder = '/content/'\n",
        "\n",
        "ML_100K_URL = \"http://files.grouplens.org/datasets/movielens/ml-100k.zip\"\n",
        "ML_100K_FILENAME = op.join(data_folder,ML_100K_URL.rsplit('/', 1)[1])\n",
        "ML_100K_FOLDER = op.join(data_folder,'ml-100k')"
      ],
      "execution_count": 0,
      "outputs": []
    },
    {
      "cell_type": "markdown",
      "metadata": {
        "colab_type": "text",
        "id": "pK7DyF_ZUUDQ"
      },
      "source": [
        "We start with importing a famous dataset, the [Movielens 100k dataset](https://grouplens.org/datasets/movielens/100k/). It contains 100,000 ratings (between 1 and 5) given to 1682 movies by 943 users:"
      ]
    },
    {
      "cell_type": "code",
      "metadata": {
        "colab_type": "code",
        "id": "tKfA7pagUUDT",
        "colab": {}
      },
      "source": [
        "if not op.exists(ML_100K_FILENAME):\n",
        "    print('Downloading %s to %s...' % (ML_100K_URL, ML_100K_FILENAME))\n",
        "    urlretrieve(ML_100K_URL, ML_100K_FILENAME)\n",
        "\n",
        "if not op.exists(ML_100K_FOLDER):\n",
        "    print('Extracting %s to %s...' % (ML_100K_FILENAME, ML_100K_FOLDER))\n",
        "    ZipFile(ML_100K_FILENAME).extractall(data_folder)"
      ],
      "execution_count": 0,
      "outputs": []
    },
    {
      "cell_type": "markdown",
      "metadata": {
        "colab_type": "text",
        "id": "LKXSFZpUUUDl"
      },
      "source": [
        "Other datasets, see: [Movielens](https://grouplens.org/datasets/movielens/)"
      ]
    },
    {
      "cell_type": "markdown",
      "metadata": {
        "colab_type": "text",
        "id": "hHgLg4jBUUDp"
      },
      "source": [
        "## 2. Data analysis and formating"
      ]
    },
    {
      "cell_type": "markdown",
      "metadata": {
        "colab_type": "text",
        "id": "ZlGyPSBpUUDt"
      },
      "source": [
        "[Python Data Analysis Library](http://pandas.pydata.org/)"
      ]
    },
    {
      "cell_type": "code",
      "metadata": {
        "colab_type": "code",
        "id": "QFRB1aAPUUDy",
        "colab": {
          "base_uri": "https://localhost:8080/",
          "height": 204
        },
        "outputId": "6d791025-4278-4189-f59a-3b2f126b7b5e"
      },
      "source": [
        "import pandas as pd\n",
        "\n",
        "all_ratings = pd.read_csv(op.join(ML_100K_FOLDER, 'u.data'), sep='\\t',\n",
        "                          names=[\"user_id\", \"item_id\", \"ratings\", \"timestamp\"])\n",
        "all_ratings.head()"
      ],
      "execution_count": 3,
      "outputs": [
        {
          "output_type": "execute_result",
          "data": {
            "text/html": [
              "<div>\n",
              "<style scoped>\n",
              "    .dataframe tbody tr th:only-of-type {\n",
              "        vertical-align: middle;\n",
              "    }\n",
              "\n",
              "    .dataframe tbody tr th {\n",
              "        vertical-align: top;\n",
              "    }\n",
              "\n",
              "    .dataframe thead th {\n",
              "        text-align: right;\n",
              "    }\n",
              "</style>\n",
              "<table border=\"1\" class=\"dataframe\">\n",
              "  <thead>\n",
              "    <tr style=\"text-align: right;\">\n",
              "      <th></th>\n",
              "      <th>user_id</th>\n",
              "      <th>item_id</th>\n",
              "      <th>ratings</th>\n",
              "      <th>timestamp</th>\n",
              "    </tr>\n",
              "  </thead>\n",
              "  <tbody>\n",
              "    <tr>\n",
              "      <th>0</th>\n",
              "      <td>196</td>\n",
              "      <td>242</td>\n",
              "      <td>3</td>\n",
              "      <td>881250949</td>\n",
              "    </tr>\n",
              "    <tr>\n",
              "      <th>1</th>\n",
              "      <td>186</td>\n",
              "      <td>302</td>\n",
              "      <td>3</td>\n",
              "      <td>891717742</td>\n",
              "    </tr>\n",
              "    <tr>\n",
              "      <th>2</th>\n",
              "      <td>22</td>\n",
              "      <td>377</td>\n",
              "      <td>1</td>\n",
              "      <td>878887116</td>\n",
              "    </tr>\n",
              "    <tr>\n",
              "      <th>3</th>\n",
              "      <td>244</td>\n",
              "      <td>51</td>\n",
              "      <td>2</td>\n",
              "      <td>880606923</td>\n",
              "    </tr>\n",
              "    <tr>\n",
              "      <th>4</th>\n",
              "      <td>166</td>\n",
              "      <td>346</td>\n",
              "      <td>1</td>\n",
              "      <td>886397596</td>\n",
              "    </tr>\n",
              "  </tbody>\n",
              "</table>\n",
              "</div>"
            ],
            "text/plain": [
              "   user_id  item_id  ratings  timestamp\n",
              "0      196      242        3  881250949\n",
              "1      186      302        3  891717742\n",
              "2       22      377        1  878887116\n",
              "3      244       51        2  880606923\n",
              "4      166      346        1  886397596"
            ]
          },
          "metadata": {
            "tags": []
          },
          "execution_count": 3
        }
      ]
    },
    {
      "cell_type": "markdown",
      "metadata": {
        "colab_type": "text",
        "id": "enyJuYhUUUEL"
      },
      "source": [
        "Let's check out a few macro-stats of our dataset"
      ]
    },
    {
      "cell_type": "code",
      "metadata": {
        "colab_type": "code",
        "id": "oS_aeGxwj62g",
        "colab": {
          "base_uri": "https://localhost:8080/",
          "height": 204
        },
        "outputId": "a113bd91-7c8f-464b-a007-a983f114126a"
      },
      "source": [
        "list_movies_names = []\n",
        "list_item_ids = []\n",
        "with open(op.join(ML_100K_FOLDER, 'u.item'), encoding = \"ISO-8859-1\") as fp:\n",
        "    for line in fp:\n",
        "        list_item_ids.append(line.split('|')[0])\n",
        "        list_movies_names.append(line.split('|')[1])\n",
        "        \n",
        "movies_names = pd.DataFrame(list(zip(list_item_ids, list_movies_names)), \n",
        "               columns =['item_id', 'item_name']) \n",
        "movies_names.head()"
      ],
      "execution_count": 4,
      "outputs": [
        {
          "output_type": "execute_result",
          "data": {
            "text/html": [
              "<div>\n",
              "<style scoped>\n",
              "    .dataframe tbody tr th:only-of-type {\n",
              "        vertical-align: middle;\n",
              "    }\n",
              "\n",
              "    .dataframe tbody tr th {\n",
              "        vertical-align: top;\n",
              "    }\n",
              "\n",
              "    .dataframe thead th {\n",
              "        text-align: right;\n",
              "    }\n",
              "</style>\n",
              "<table border=\"1\" class=\"dataframe\">\n",
              "  <thead>\n",
              "    <tr style=\"text-align: right;\">\n",
              "      <th></th>\n",
              "      <th>item_id</th>\n",
              "      <th>item_name</th>\n",
              "    </tr>\n",
              "  </thead>\n",
              "  <tbody>\n",
              "    <tr>\n",
              "      <th>0</th>\n",
              "      <td>1</td>\n",
              "      <td>Toy Story (1995)</td>\n",
              "    </tr>\n",
              "    <tr>\n",
              "      <th>1</th>\n",
              "      <td>2</td>\n",
              "      <td>GoldenEye (1995)</td>\n",
              "    </tr>\n",
              "    <tr>\n",
              "      <th>2</th>\n",
              "      <td>3</td>\n",
              "      <td>Four Rooms (1995)</td>\n",
              "    </tr>\n",
              "    <tr>\n",
              "      <th>3</th>\n",
              "      <td>4</td>\n",
              "      <td>Get Shorty (1995)</td>\n",
              "    </tr>\n",
              "    <tr>\n",
              "      <th>4</th>\n",
              "      <td>5</td>\n",
              "      <td>Copycat (1995)</td>\n",
              "    </tr>\n",
              "  </tbody>\n",
              "</table>\n",
              "</div>"
            ],
            "text/plain": [
              "  item_id          item_name\n",
              "0       1   Toy Story (1995)\n",
              "1       2   GoldenEye (1995)\n",
              "2       3  Four Rooms (1995)\n",
              "3       4  Get Shorty (1995)\n",
              "4       5     Copycat (1995)"
            ]
          },
          "metadata": {
            "tags": []
          },
          "execution_count": 4
        }
      ]
    },
    {
      "cell_type": "code",
      "metadata": {
        "colab_type": "code",
        "id": "NH-kq2rHj62j",
        "colab": {}
      },
      "source": [
        "movies_names['item_id']=movies_names['item_id'].astype(int)\n",
        "all_ratings['item_id']=all_ratings['item_id'].astype(int)"
      ],
      "execution_count": 0,
      "outputs": []
    },
    {
      "cell_type": "code",
      "metadata": {
        "colab_type": "code",
        "id": "kkFnwTUTj62m",
        "colab": {
          "base_uri": "https://localhost:8080/",
          "height": 204
        },
        "outputId": "e0b9437a-c4a2-4569-9a63-46615278609b"
      },
      "source": [
        "all_ratings = all_ratings.merge(movies_names,on='item_id')\n",
        "all_ratings.head()"
      ],
      "execution_count": 6,
      "outputs": [
        {
          "output_type": "execute_result",
          "data": {
            "text/html": [
              "<div>\n",
              "<style scoped>\n",
              "    .dataframe tbody tr th:only-of-type {\n",
              "        vertical-align: middle;\n",
              "    }\n",
              "\n",
              "    .dataframe tbody tr th {\n",
              "        vertical-align: top;\n",
              "    }\n",
              "\n",
              "    .dataframe thead th {\n",
              "        text-align: right;\n",
              "    }\n",
              "</style>\n",
              "<table border=\"1\" class=\"dataframe\">\n",
              "  <thead>\n",
              "    <tr style=\"text-align: right;\">\n",
              "      <th></th>\n",
              "      <th>user_id</th>\n",
              "      <th>item_id</th>\n",
              "      <th>ratings</th>\n",
              "      <th>timestamp</th>\n",
              "      <th>item_name</th>\n",
              "    </tr>\n",
              "  </thead>\n",
              "  <tbody>\n",
              "    <tr>\n",
              "      <th>0</th>\n",
              "      <td>196</td>\n",
              "      <td>242</td>\n",
              "      <td>3</td>\n",
              "      <td>881250949</td>\n",
              "      <td>Kolya (1996)</td>\n",
              "    </tr>\n",
              "    <tr>\n",
              "      <th>1</th>\n",
              "      <td>63</td>\n",
              "      <td>242</td>\n",
              "      <td>3</td>\n",
              "      <td>875747190</td>\n",
              "      <td>Kolya (1996)</td>\n",
              "    </tr>\n",
              "    <tr>\n",
              "      <th>2</th>\n",
              "      <td>226</td>\n",
              "      <td>242</td>\n",
              "      <td>5</td>\n",
              "      <td>883888671</td>\n",
              "      <td>Kolya (1996)</td>\n",
              "    </tr>\n",
              "    <tr>\n",
              "      <th>3</th>\n",
              "      <td>154</td>\n",
              "      <td>242</td>\n",
              "      <td>3</td>\n",
              "      <td>879138235</td>\n",
              "      <td>Kolya (1996)</td>\n",
              "    </tr>\n",
              "    <tr>\n",
              "      <th>4</th>\n",
              "      <td>306</td>\n",
              "      <td>242</td>\n",
              "      <td>5</td>\n",
              "      <td>876503793</td>\n",
              "      <td>Kolya (1996)</td>\n",
              "    </tr>\n",
              "  </tbody>\n",
              "</table>\n",
              "</div>"
            ],
            "text/plain": [
              "   user_id  item_id  ratings  timestamp     item_name\n",
              "0      196      242        3  881250949  Kolya (1996)\n",
              "1       63      242        3  875747190  Kolya (1996)\n",
              "2      226      242        5  883888671  Kolya (1996)\n",
              "3      154      242        3  879138235  Kolya (1996)\n",
              "4      306      242        5  876503793  Kolya (1996)"
            ]
          },
          "metadata": {
            "tags": []
          },
          "execution_count": 6
        }
      ]
    },
    {
      "cell_type": "code",
      "metadata": {
        "colab_type": "code",
        "id": "3M7-jinQUUEO",
        "colab": {
          "base_uri": "https://localhost:8080/",
          "height": 34
        },
        "outputId": "de65082b-af3c-449e-91ec-92004d34c96e"
      },
      "source": [
        "#number of entries\n",
        "len(all_ratings)"
      ],
      "execution_count": 7,
      "outputs": [
        {
          "output_type": "execute_result",
          "data": {
            "text/plain": [
              "100000"
            ]
          },
          "metadata": {
            "tags": []
          },
          "execution_count": 7
        }
      ]
    },
    {
      "cell_type": "code",
      "metadata": {
        "colab_type": "code",
        "id": "ofVcE781UUEa",
        "colab": {
          "base_uri": "https://localhost:8080/",
          "height": 170
        },
        "outputId": "68b612cd-f7e6-4bfb-d23f-5dcea28df060"
      },
      "source": [
        "all_ratings['ratings'].describe()"
      ],
      "execution_count": 8,
      "outputs": [
        {
          "output_type": "execute_result",
          "data": {
            "text/plain": [
              "count    100000.000000\n",
              "mean          3.529860\n",
              "std           1.125674\n",
              "min           1.000000\n",
              "25%           3.000000\n",
              "50%           4.000000\n",
              "75%           4.000000\n",
              "max           5.000000\n",
              "Name: ratings, dtype: float64"
            ]
          },
          "metadata": {
            "tags": []
          },
          "execution_count": 8
        }
      ]
    },
    {
      "cell_type": "code",
      "metadata": {
        "colab_type": "code",
        "id": "tCdV2qzMUUEk",
        "colab": {
          "base_uri": "https://localhost:8080/",
          "height": 34
        },
        "outputId": "d3d73b25-f2cb-4592-bccd-2fecc3054465"
      },
      "source": [
        "# number of unique rating values\n",
        "len(all_ratings['ratings'].unique())"
      ],
      "execution_count": 9,
      "outputs": [
        {
          "output_type": "execute_result",
          "data": {
            "text/plain": [
              "5"
            ]
          },
          "metadata": {
            "tags": []
          },
          "execution_count": 9
        }
      ]
    },
    {
      "cell_type": "code",
      "metadata": {
        "colab_type": "code",
        "id": "zU9vARwJUUEs",
        "colab": {
          "base_uri": "https://localhost:8080/",
          "height": 170
        },
        "outputId": "97319742-5ef9-4f4a-a150-22dd374519dc"
      },
      "source": [
        "all_ratings['user_id'].describe()"
      ],
      "execution_count": 10,
      "outputs": [
        {
          "output_type": "execute_result",
          "data": {
            "text/plain": [
              "count    100000.00000\n",
              "mean        462.48475\n",
              "std         266.61442\n",
              "min           1.00000\n",
              "25%         254.00000\n",
              "50%         447.00000\n",
              "75%         682.00000\n",
              "max         943.00000\n",
              "Name: user_id, dtype: float64"
            ]
          },
          "metadata": {
            "tags": []
          },
          "execution_count": 10
        }
      ]
    },
    {
      "cell_type": "code",
      "metadata": {
        "colab_type": "code",
        "id": "P1QoS71CUUE7",
        "colab": {
          "base_uri": "https://localhost:8080/",
          "height": 34
        },
        "outputId": "b8e13d49-e60d-4817-b179-31bd02d5159a"
      },
      "source": [
        "# number of unique users\n",
        "total_user_id = len(all_ratings['user_id'].unique())\n",
        "print(total_user_id)"
      ],
      "execution_count": 11,
      "outputs": [
        {
          "output_type": "stream",
          "text": [
            "943\n"
          ],
          "name": "stdout"
        }
      ]
    },
    {
      "cell_type": "code",
      "metadata": {
        "colab_type": "code",
        "id": "l3gfokbNUUFH",
        "colab": {
          "base_uri": "https://localhost:8080/",
          "height": 170
        },
        "outputId": "a2c6538f-df04-447f-b382-266f1c32e9bd"
      },
      "source": [
        "all_ratings['item_id'].describe()"
      ],
      "execution_count": 12,
      "outputs": [
        {
          "output_type": "execute_result",
          "data": {
            "text/plain": [
              "count    100000.000000\n",
              "mean        425.530130\n",
              "std         330.798356\n",
              "min           1.000000\n",
              "25%         175.000000\n",
              "50%         322.000000\n",
              "75%         631.000000\n",
              "max        1682.000000\n",
              "Name: item_id, dtype: float64"
            ]
          },
          "metadata": {
            "tags": []
          },
          "execution_count": 12
        }
      ]
    },
    {
      "cell_type": "code",
      "metadata": {
        "colab_type": "code",
        "id": "pE6-aj0KUUFY",
        "colab": {
          "base_uri": "https://localhost:8080/",
          "height": 34
        },
        "outputId": "eb89cac7-456f-4c01-b27a-72be67c41c0c"
      },
      "source": [
        "# number of unique rated items\n",
        "total_item_id = len(all_ratings['item_id'].unique())\n",
        "print(total_item_id)"
      ],
      "execution_count": 13,
      "outputs": [
        {
          "output_type": "stream",
          "text": [
            "1682\n"
          ],
          "name": "stdout"
        }
      ]
    },
    {
      "cell_type": "code",
      "metadata": {
        "colab_type": "code",
        "id": "AiyZLRqVj627",
        "colab": {}
      },
      "source": [
        "all_ratings['item_id'] = all_ratings['item_id'].apply(lambda x :x-1)\n",
        "all_ratings['user_id'] = all_ratings['user_id'].apply(lambda x :x-1)"
      ],
      "execution_count": 0,
      "outputs": []
    },
    {
      "cell_type": "code",
      "metadata": {
        "colab_type": "code",
        "id": "oiujn3oZj629",
        "colab": {}
      },
      "source": [
        "movies_names['item_id']=movies_names['item_id'].apply(lambda x: x-1)"
      ],
      "execution_count": 0,
      "outputs": []
    },
    {
      "cell_type": "code",
      "metadata": {
        "colab_type": "code",
        "id": "FH6lv18Oj63A",
        "colab": {}
      },
      "source": [
        "movies_names=movies_names.set_index('item_id')"
      ],
      "execution_count": 0,
      "outputs": []
    },
    {
      "cell_type": "code",
      "metadata": {
        "colab_type": "code",
        "id": "1d_laQhNj63D",
        "colab": {
          "base_uri": "https://localhost:8080/",
          "height": 235
        },
        "outputId": "db39225e-1c2f-47a6-a7e6-1f388e5044f4"
      },
      "source": [
        "movies_names.head()"
      ],
      "execution_count": 17,
      "outputs": [
        {
          "output_type": "execute_result",
          "data": {
            "text/html": [
              "<div>\n",
              "<style scoped>\n",
              "    .dataframe tbody tr th:only-of-type {\n",
              "        vertical-align: middle;\n",
              "    }\n",
              "\n",
              "    .dataframe tbody tr th {\n",
              "        vertical-align: top;\n",
              "    }\n",
              "\n",
              "    .dataframe thead th {\n",
              "        text-align: right;\n",
              "    }\n",
              "</style>\n",
              "<table border=\"1\" class=\"dataframe\">\n",
              "  <thead>\n",
              "    <tr style=\"text-align: right;\">\n",
              "      <th></th>\n",
              "      <th>item_name</th>\n",
              "    </tr>\n",
              "    <tr>\n",
              "      <th>item_id</th>\n",
              "      <th></th>\n",
              "    </tr>\n",
              "  </thead>\n",
              "  <tbody>\n",
              "    <tr>\n",
              "      <th>0</th>\n",
              "      <td>Toy Story (1995)</td>\n",
              "    </tr>\n",
              "    <tr>\n",
              "      <th>1</th>\n",
              "      <td>GoldenEye (1995)</td>\n",
              "    </tr>\n",
              "    <tr>\n",
              "      <th>2</th>\n",
              "      <td>Four Rooms (1995)</td>\n",
              "    </tr>\n",
              "    <tr>\n",
              "      <th>3</th>\n",
              "      <td>Get Shorty (1995)</td>\n",
              "    </tr>\n",
              "    <tr>\n",
              "      <th>4</th>\n",
              "      <td>Copycat (1995)</td>\n",
              "    </tr>\n",
              "  </tbody>\n",
              "</table>\n",
              "</div>"
            ],
            "text/plain": [
              "                 item_name\n",
              "item_id                   \n",
              "0         Toy Story (1995)\n",
              "1         GoldenEye (1995)\n",
              "2        Four Rooms (1995)\n",
              "3        Get Shorty (1995)\n",
              "4           Copycat (1995)"
            ]
          },
          "metadata": {
            "tags": []
          },
          "execution_count": 17
        }
      ]
    },
    {
      "cell_type": "markdown",
      "metadata": {
        "colab_type": "text",
        "id": "Ur4bjuniUUFj"
      },
      "source": [
        "For spliting the data into _train_ and _test_ we'll be using a pre-defined function from [scikit-learn](http://scikit-learn.org/stable/)"
      ]
    },
    {
      "cell_type": "code",
      "metadata": {
        "colab_type": "code",
        "id": "ZT5oxhoGUUFm",
        "colab": {}
      },
      "source": [
        "from sklearn.model_selection import train_test_split\n",
        "\n",
        "ratings_train, ratings_test = train_test_split(\n",
        "    all_ratings, test_size=0.2, random_state=42)\n",
        "\n",
        "user_id_train = ratings_train['user_id']\n",
        "item_id_train = ratings_train['item_id']\n",
        "rating_train = ratings_train['ratings']\n",
        "\n",
        "user_id_test = ratings_test['user_id']\n",
        "item_id_test = ratings_test['item_id']\n",
        "rating_test = ratings_test['ratings']"
      ],
      "execution_count": 0,
      "outputs": []
    },
    {
      "cell_type": "code",
      "metadata": {
        "colab_type": "code",
        "id": "aLem0iAjUUFs",
        "colab": {
          "base_uri": "https://localhost:8080/",
          "height": 34
        },
        "outputId": "fd0fa79e-b8eb-429a-8896-220aa3fb5297"
      },
      "source": [
        "len(user_id_train)"
      ],
      "execution_count": 19,
      "outputs": [
        {
          "output_type": "execute_result",
          "data": {
            "text/plain": [
              "80000"
            ]
          },
          "metadata": {
            "tags": []
          },
          "execution_count": 19
        }
      ]
    },
    {
      "cell_type": "code",
      "metadata": {
        "colab_type": "code",
        "id": "45HhGRbFUUF2",
        "colab": {
          "base_uri": "https://localhost:8080/",
          "height": 34
        },
        "outputId": "3d1f7b39-661f-46b2-e517-639843311a59"
      },
      "source": [
        "len(user_id_train.unique())"
      ],
      "execution_count": 20,
      "outputs": [
        {
          "output_type": "execute_result",
          "data": {
            "text/plain": [
              "943"
            ]
          },
          "metadata": {
            "tags": []
          },
          "execution_count": 20
        }
      ]
    },
    {
      "cell_type": "code",
      "metadata": {
        "colab_type": "code",
        "id": "z9m6gSoKUUF_",
        "colab": {
          "base_uri": "https://localhost:8080/",
          "height": 34
        },
        "outputId": "11c4c03f-7a88-4281-8a31-1b112e053500"
      },
      "source": [
        "len(item_id_train.unique())"
      ],
      "execution_count": 21,
      "outputs": [
        {
          "output_type": "execute_result",
          "data": {
            "text/plain": [
              "1656"
            ]
          },
          "metadata": {
            "tags": []
          },
          "execution_count": 21
        }
      ]
    },
    {
      "cell_type": "markdown",
      "metadata": {
        "colab_type": "text",
        "id": "Vmx1YZmTUUGG"
      },
      "source": [
        "We see that all the movies are not rated in the train set."
      ]
    },
    {
      "cell_type": "code",
      "metadata": {
        "colab_type": "code",
        "id": "TYJk2PQmj63M",
        "colab": {
          "base_uri": "https://localhost:8080/",
          "height": 459
        },
        "outputId": "d80c1428-22f3-4e93-d77b-b494f35c1f62"
      },
      "source": [
        "movies_not_train = (set(all_ratings['item_id']) -set(item_id_train))\n",
        "for m in movies_not_train:\n",
        "    print(m,movies_names.loc[m]['item_name'])"
      ],
      "execution_count": 22,
      "outputs": [
        {
          "output_type": "stream",
          "text": [
            "1155 Cyclo (1995)\n",
            "1541 Scarlet Letter, The (1926)\n",
            "1561 Eye of Vichy, The (Oeil de Vichy, L') (1993)\n",
            "1564 Daens (1992)\n",
            "1565 Man from Down Under, The (1943)\n",
            "1567 Vermont Is For Lovers (1992)\n",
            "1570 Touki Bouki (Journey of the Hyena) (1973)\n",
            "1446 Century (1993)\n",
            "1451 Lady of Burlesque (1943)\n",
            "1452 Angel on My Shoulder (1946)\n",
            "1582 Invitation, The (Zaproszenie) (1986)\n",
            "1328 Low Life, The (1994)\n",
            "1457 Damsel in Distress, A (1937)\n",
            "1589 To Have, or Not (1995)\n",
            "1338 Stefano Quantestorie (1993)\n",
            "1598 Someone Else's America (1995)\n",
            "1471 Visitors, The (Visiteurs, Les) (1993)\n",
            "1603 He Walked by Night (1948)\n",
            "1613 Reluctant Debutante, The (1958)\n",
            "1492 Modern Affair, A (1995)\n",
            "856 Paris Was a Woman (1995)\n",
            "1625 Nobody Loves Me (Keiner liebt mich) (1994)\n",
            "1640 Dadetown (1995)\n",
            "1519 Fear, The (1995)\n",
            "1524 Object of My Affection, The (1998)\n",
            "1658 Getting Away With Murder (1996)\n"
          ],
          "name": "stdout"
        }
      ]
    },
    {
      "cell_type": "code",
      "metadata": {
        "colab_type": "code",
        "id": "TOY6YCqPUUGI",
        "colab": {
          "base_uri": "https://localhost:8080/",
          "height": 119
        },
        "outputId": "7813620d-0830-44b3-f9a6-977de7737879"
      },
      "source": [
        "user_id_train.iloc[:5]"
      ],
      "execution_count": 23,
      "outputs": [
        {
          "output_type": "execute_result",
          "data": {
            "text/plain": [
              "75220    434\n",
              "48955    338\n",
              "44966    847\n",
              "13568    751\n",
              "92727    177\n",
              "Name: user_id, dtype: int64"
            ]
          },
          "metadata": {
            "tags": []
          },
          "execution_count": 23
        }
      ]
    },
    {
      "cell_type": "code",
      "metadata": {
        "colab_type": "code",
        "id": "6ZCYvrYhUUGP",
        "colab": {
          "base_uri": "https://localhost:8080/",
          "height": 119
        },
        "outputId": "e04004a6-73de-4714-8050-e714c2b6c9aa"
      },
      "source": [
        "item_id_train.iloc[:5]"
      ],
      "execution_count": 24,
      "outputs": [
        {
          "output_type": "execute_result",
          "data": {
            "text/plain": [
              "75220    423\n",
              "48955    210\n",
              "44966    185\n",
              "13568    337\n",
              "92727     75\n",
              "Name: item_id, dtype: int64"
            ]
          },
          "metadata": {
            "tags": []
          },
          "execution_count": 24
        }
      ]
    },
    {
      "cell_type": "code",
      "metadata": {
        "colab_type": "code",
        "id": "qZsssRYSUUGW",
        "colab": {
          "base_uri": "https://localhost:8080/",
          "height": 119
        },
        "outputId": "728467a5-5c58-42ef-b65b-132792f26df0"
      },
      "source": [
        "rating_train.iloc[:5]"
      ],
      "execution_count": 25,
      "outputs": [
        {
          "output_type": "execute_result",
          "data": {
            "text/plain": [
              "75220    1\n",
              "48955    5\n",
              "44966    5\n",
              "13568    3\n",
              "92727    3\n",
              "Name: ratings, dtype: int64"
            ]
          },
          "metadata": {
            "tags": []
          },
          "execution_count": 25
        }
      ]
    },
    {
      "cell_type": "markdown",
      "metadata": {
        "colab_type": "text",
        "id": "Q7JF-d05UUGc"
      },
      "source": [
        "## 3. The model\n",
        "\n",
        "We can feed our dataset to the `FactorizationModel` class - a sklearn-like object that allows us to train and evaluate the explicit factorization models.\n",
        "\n",
        "Internally, the model uses the `Model_dot`(class to represents users and items. It's composed of a 4 `embedding` layers:\n",
        "\n",
        "- a `(num_users x latent_dim)` embedding layer to represent users,\n",
        "- a `(num_items x latent_dim)` embedding layer to represent items,\n",
        "- a `(num_users x 1)` embedding layer to represent user biases, and\n",
        "- a `(num_items x 1)` embedding layer to represent item biases."
      ]
    },
    {
      "cell_type": "code",
      "metadata": {
        "colab_type": "code",
        "id": "tsrfFi1QUUGd",
        "colab": {}
      },
      "source": [
        "import torch.nn as nn\n",
        "import torch"
      ],
      "execution_count": 0,
      "outputs": []
    },
    {
      "cell_type": "code",
      "metadata": {
        "colab_type": "code",
        "id": "iaMRfQoCj63W",
        "colab": {}
      },
      "source": [
        "device = torch.device(\"cuda:0\" if torch.cuda.is_available() else \"cpu\")"
      ],
      "execution_count": 0,
      "outputs": []
    },
    {
      "cell_type": "markdown",
      "metadata": {
        "colab_type": "text",
        "id": "Vaf7-kdnUUGh"
      },
      "source": [
        "Let's generate [Embeddings](http://pytorch.org/docs/master/nn.html#embedding) for the users, _i.e._ a fixed-sized vector describing the user"
      ]
    },
    {
      "cell_type": "code",
      "metadata": {
        "colab_type": "code",
        "id": "2iu-1X4AUUGi",
        "colab": {
          "base_uri": "https://localhost:8080/",
          "height": 187
        },
        "outputId": "0f8b76ca-6bb0-4fbe-def4-cd62fcd329c1"
      },
      "source": [
        "embedding_dim = 3\n",
        "embedding_user = nn.Embedding(total_user_id, embedding_dim)\n",
        "input = torch.LongTensor([[1,2,4,5],[4,3,2,0]])\n",
        "embedding_user(input)"
      ],
      "execution_count": 28,
      "outputs": [
        {
          "output_type": "execute_result",
          "data": {
            "text/plain": [
              "tensor([[[ 1.8053e+00, -9.1979e-01, -2.0192e-01],\n",
              "         [-1.0031e-03,  1.2252e+00, -3.9910e-01],\n",
              "         [-4.5317e-01, -9.0910e-02,  2.6351e-01],\n",
              "         [ 5.0272e-01,  6.1570e-02, -1.8178e+00]],\n",
              "\n",
              "        [[-4.5317e-01, -9.0910e-02,  2.6351e-01],\n",
              "         [-3.8448e-01,  4.3544e-02,  9.5234e-01],\n",
              "         [-1.0031e-03,  1.2252e+00, -3.9910e-01],\n",
              "         [ 1.6759e-01,  3.4751e-01, -2.8921e-01]]],\n",
              "       grad_fn=<EmbeddingBackward>)"
            ]
          },
          "metadata": {
            "tags": []
          },
          "execution_count": 28
        }
      ]
    },
    {
      "cell_type": "markdown",
      "metadata": {
        "colab_type": "text",
        "id": "HpkKu7PVUUGp"
      },
      "source": [
        "We will use some custom embeddings and dataloader"
      ]
    },
    {
      "cell_type": "code",
      "metadata": {
        "colab_type": "code",
        "id": "eB6_y1nMUUGq",
        "colab": {}
      },
      "source": [
        "class ScaledEmbedding(nn.Embedding):\n",
        "    \"\"\"\n",
        "    Embedding layer that initialises its values\n",
        "    to using a normal variable scaled by the inverse\n",
        "    of the emedding dimension.\n",
        "    \"\"\"\n",
        "    def reset_parameters(self):\n",
        "        \"\"\"\n",
        "        Initialize parameters.\n",
        "        \"\"\"\n",
        "        self.weight.data.normal_(0, 1.0 / self.embedding_dim)\n",
        "        if self.padding_idx is not None:\n",
        "            self.weight.data[self.padding_idx].fill_(0)\n",
        "\n",
        "\n",
        "class ZeroEmbedding(nn.Embedding):\n",
        "    \"\"\"\n",
        "    Used for biases.\n",
        "    \"\"\"\n",
        "    def reset_parameters(self):\n",
        "        \"\"\"\n",
        "        Initialize parameters.\n",
        "        \"\"\"\n",
        "        self.weight.data.zero_()\n",
        "        if self.padding_idx is not None:\n",
        "            self.weight.data[self.padding_idx].fill_(0)"
      ],
      "execution_count": 0,
      "outputs": []
    },
    {
      "cell_type": "code",
      "metadata": {
        "colab_type": "code",
        "id": "ktXRW3-4UUGt",
        "colab": {}
      },
      "source": [
        "class DotModel(nn.Module):\n",
        "    \n",
        "    def __init__(self,\n",
        "                 num_users,\n",
        "                 num_items,\n",
        "                 embedding_dim=32):\n",
        "        \n",
        "        super(DotModel, self).__init__()\n",
        "        \n",
        "        self.embedding_dim = embedding_dim\n",
        "        \n",
        "        self.user_embeddings = ScaledEmbedding(num_users, embedding_dim)\n",
        "        self.item_embeddings = ScaledEmbedding(num_items, embedding_dim)\n",
        "        self.user_biases = ZeroEmbedding(num_users, 1)\n",
        "        self.item_biases = ZeroEmbedding(num_items, 1)\n",
        "                \n",
        "        \n",
        "    def forward(self, user_ids, item_ids):\n",
        "        \n",
        "        #\n",
        "        # your code here\n",
        "        x = (self.user_embeddings(user_ids) * self.item_embeddings(item_ids)).sum(1)\n",
        "        #\n",
        "        return x + self.user_biases(user_ids).squeeze() + self.item_biases(item_ids).squeeze()\n"
      ],
      "execution_count": 0,
      "outputs": []
    },
    {
      "cell_type": "code",
      "metadata": {
        "colab_type": "code",
        "id": "PlbbwU1ze5d7",
        "colab": {}
      },
      "source": [
        "net = DotModel(total_user_id,total_item_id).to(device)"
      ],
      "execution_count": 0,
      "outputs": []
    },
    {
      "cell_type": "markdown",
      "metadata": {
        "colab_type": "text",
        "id": "ysX9Q9pxiMG4"
      },
      "source": [
        "Now test your network on a small batch."
      ]
    },
    {
      "cell_type": "code",
      "metadata": {
        "colab_type": "code",
        "id": "Cp2ZOCFhfERq",
        "colab": {}
      },
      "source": [
        "batch_users_np = user_id_train.values[:5].astype(np.int32)\n",
        "batch_items_np = item_id_train.values[:5].astype(np.int32)\n",
        "batch_ratings_np = rating_train[:5].values.astype(np.float32)\n",
        "batch_users_tensor = torch.LongTensor(batch_users_np).to(device)\n",
        "batch_items_tensor = torch.LongTensor(batch_items_np).to(device)\n",
        "batch_ratings_tensor = torch.tensor(batch_ratings_np).to(device)"
      ],
      "execution_count": 0,
      "outputs": []
    },
    {
      "cell_type": "code",
      "metadata": {
        "colab_type": "code",
        "id": "8K4btQb2gsAg",
        "colab": {}
      },
      "source": [
        "predictions = net(batch_users_tensor,batch_items_tensor)"
      ],
      "execution_count": 0,
      "outputs": []
    },
    {
      "cell_type": "code",
      "metadata": {
        "colab_type": "code",
        "id": "I20UhBLZjBEs",
        "colab": {
          "base_uri": "https://localhost:8080/",
          "height": 51
        },
        "outputId": "df468430-9ba8-45c8-ccaf-c50a8da57347"
      },
      "source": [
        "predictions"
      ],
      "execution_count": 34,
      "outputs": [
        {
          "output_type": "execute_result",
          "data": {
            "text/plain": [
              "tensor([-0.0051, -0.0013,  0.0027,  0.0037,  0.0004], device='cuda:0',\n",
              "       grad_fn=<AddBackward0>)"
            ]
          },
          "metadata": {
            "tags": []
          },
          "execution_count": 34
        }
      ]
    },
    {
      "cell_type": "markdown",
      "metadata": {
        "colab_type": "text",
        "id": "ZGG3SBS9jizs"
      },
      "source": [
        "We will use MSE loss defined below:"
      ]
    },
    {
      "cell_type": "code",
      "metadata": {
        "colab_type": "code",
        "id": "7sqlTLCyiwzl",
        "colab": {}
      },
      "source": [
        "def regression_loss(predicted_ratings, observed_ratings):\n",
        "    return ((observed_ratings - predicted_ratings) ** 2).mean()"
      ],
      "execution_count": 0,
      "outputs": []
    },
    {
      "cell_type": "code",
      "metadata": {
        "colab_type": "code",
        "id": "wK5LqsRXi0_G",
        "colab": {}
      },
      "source": [
        "loss_fn = regression_loss\n",
        "loss = loss_fn(predictions, batch_ratings_tensor)"
      ],
      "execution_count": 0,
      "outputs": []
    },
    {
      "cell_type": "code",
      "metadata": {
        "colab_type": "code",
        "id": "Ins38kThjNl0",
        "colab": {
          "base_uri": "https://localhost:8080/",
          "height": 34
        },
        "outputId": "157945b7-2450-4d16-bbeb-fa76e836c85a"
      },
      "source": [
        "loss"
      ],
      "execution_count": 37,
      "outputs": [
        {
          "output_type": "execute_result",
          "data": {
            "text/plain": [
              "tensor(13.7943, device='cuda:0', grad_fn=<MeanBackward0>)"
            ]
          },
          "metadata": {
            "tags": []
          },
          "execution_count": 37
        }
      ]
    },
    {
      "cell_type": "markdown",
      "metadata": {
        "colab_type": "text",
        "id": "MPpfdFaikudZ"
      },
      "source": [
        "Check that your network is learning by overfitting your network on this small batch (you should reach a loss below 0.5 in the cell below)."
      ]
    },
    {
      "cell_type": "code",
      "metadata": {
        "colab_type": "code",
        "id": "TcIY0t-xkFwT",
        "colab": {
          "base_uri": "https://localhost:8080/",
          "height": 272
        },
        "outputId": "2f5b4400-0f6f-415b-f429-c34bb45a7ffd"
      },
      "source": [
        "net = DotModel(total_user_id,total_item_id).to(device)\n",
        "optimizer = torch.optim.Adam(net.parameters(), lr = 0.1)\n",
        "for e in range(15):\n",
        "    #\n",
        "    # your code here\n",
        "    outputs = net(batch_users_tensor,batch_items_tensor)\n",
        "    optimizer.zero_grad()\n",
        "    loss = loss_fn(outputs, batch_ratings_tensor)\n",
        "    loss.backward()\n",
        "    optimizer.step()\n",
        "    print(\"Epoch {}/15 - Loss : {}\".format(e+1,loss.data.item()/len(batch_users_tensor)))\n",
        "    #"
      ],
      "execution_count": 38,
      "outputs": [
        {
          "output_type": "stream",
          "text": [
            "Epoch 1/15 - Loss : 2.7595367431640625\n",
            "Epoch 2/15 - Loss : 2.2859338760375976\n",
            "Epoch 3/15 - Loss : 1.4734759330749512\n",
            "Epoch 4/15 - Loss : 0.7312576293945312\n",
            "Epoch 5/15 - Loss : 0.22311947345733643\n",
            "Epoch 6/15 - Loss : 0.16508268117904662\n",
            "Epoch 7/15 - Loss : 0.38782851696014403\n",
            "Epoch 8/15 - Loss : 0.4833329200744629\n",
            "Epoch 9/15 - Loss : 0.3370612859725952\n",
            "Epoch 10/15 - Loss : 0.177644944190979\n",
            "Epoch 11/15 - Loss : 0.0841037929058075\n",
            "Epoch 12/15 - Loss : 0.11739931106567383\n",
            "Epoch 13/15 - Loss : 0.19616016149520873\n",
            "Epoch 14/15 - Loss : 0.20706658363342284\n",
            "Epoch 15/15 - Loss : 0.15180271863937378\n"
          ],
          "name": "stdout"
        }
      ]
    },
    {
      "cell_type": "code",
      "metadata": {
        "colab_type": "code",
        "id": "CYeBlERRUUG0",
        "colab": {}
      },
      "source": [
        "def shuffle(*arrays):\n",
        "\n",
        "    random_state = np.random.RandomState()\n",
        "    shuffle_indices = np.arange(len(arrays[0]))\n",
        "    random_state.shuffle(shuffle_indices)\n",
        "\n",
        "    if len(arrays) == 1:\n",
        "        return arrays[0][shuffle_indices]\n",
        "    else:\n",
        "        return tuple(x[shuffle_indices] for x in arrays)"
      ],
      "execution_count": 0,
      "outputs": []
    },
    {
      "cell_type": "code",
      "metadata": {
        "colab_type": "code",
        "id": "OmlQTG2FUUG4",
        "colab": {}
      },
      "source": [
        "def minibatch(batch_size, *tensors):\n",
        "\n",
        "    if len(tensors) == 1:\n",
        "        tensor = tensors[0]\n",
        "        for i in range(0, len(tensor), batch_size):\n",
        "            yield tensor[i:i + batch_size]\n",
        "    else:\n",
        "        for i in range(0, len(tensors[0]), batch_size):\n",
        "            yield tuple(x[i:i + batch_size] for x in tensors)\n",
        "\n"
      ],
      "execution_count": 0,
      "outputs": []
    },
    {
      "cell_type": "code",
      "metadata": {
        "colab_type": "code",
        "id": "2ekPPr7SUUG7",
        "colab": {}
      },
      "source": [
        "import imp\n",
        "import numpy as np\n",
        "\n",
        "import torch.optim as optim\n",
        "\n",
        "class FactorizationModel(object):\n",
        "    \n",
        "    def __init__(self, embedding_dim=32, n_iter=10, batch_size=256, l2=0.0,\n",
        "                 learning_rate=1e-2, device=device, net=None, num_users=None,\n",
        "                 num_items=None,random_state=None):\n",
        "        \n",
        "        self._embedding_dim = embedding_dim\n",
        "        self._n_iter = n_iter\n",
        "        self._learning_rate = learning_rate\n",
        "        self._batch_size = batch_size\n",
        "        self._l2 = l2\n",
        "        self._device = device\n",
        "        self._num_users = num_users\n",
        "        self._num_items = num_items\n",
        "        self._net = net\n",
        "        self._optimizer = None\n",
        "        self._loss_func = None\n",
        "        self._random_state = random_state or np.random.RandomState()\n",
        "             \n",
        "        \n",
        "    def _initialize(self):\n",
        "        if self._net is None:\n",
        "            self._net = DotModel(self._num_users, self._num_items, self._embedding_dim).to(self._device)\n",
        "        \n",
        "        self._optimizer = optim.Adam(\n",
        "                self._net.parameters(),\n",
        "                lr=self._learning_rate,\n",
        "                weight_decay=self._l2\n",
        "            )\n",
        "        \n",
        "        self._loss_func = regression_loss\n",
        "    \n",
        "    @property\n",
        "    def _initialized(self):\n",
        "        return self._optimizer is not None\n",
        "    \n",
        "    \n",
        "    def fit(self, user_ids, item_ids, ratings, verbose=True):\n",
        "        \n",
        "        user_ids = user_ids.astype(np.int64)\n",
        "        item_ids = item_ids.astype(np.int64)\n",
        "        \n",
        "        if not self._initialized:\n",
        "            self._initialize()\n",
        "            \n",
        "        for epoch_num in range(self._n_iter):\n",
        "            users, items, ratingss = shuffle(user_ids,\n",
        "                                            item_ids,\n",
        "                                            ratings)\n",
        "\n",
        "            user_ids_tensor = torch.from_numpy(users).to(self._device)\n",
        "            item_ids_tensor = torch.from_numpy(items).to(self._device)\n",
        "            ratings_tensor = torch.from_numpy(ratingss).to(self._device)\n",
        "            epoch_loss = 0.0\n",
        "\n",
        "            for (minibatch_num,\n",
        "                 (batch_user,\n",
        "                  batch_item,\n",
        "                  batch_rating)) in enumerate(minibatch(self._batch_size,\n",
        "                                                         user_ids_tensor,\n",
        "                                                         item_ids_tensor,\n",
        "                                                         ratings_tensor)):\n",
        "                \n",
        "                \n",
        "                # beging to be completed\n",
        "                predictions = self._net(batch_user, batch_item)\n",
        "                #\n",
        "                self._optimizer.zero_grad()\n",
        "                loss = self._loss_func(predictions, batch_rating)\n",
        "                epoch_loss += loss.data.item() \n",
        "                loss.backward()\n",
        "                self._optimizer.step()\n",
        "                #\n",
        "                #\n",
        "                # end to be completed\n",
        "            \n",
        "            epoch_loss = epoch_loss / (minibatch_num + 1)\n",
        "            \n",
        "            if verbose:\n",
        "                print('Epoch {}: loss_train {}'.format(epoch_num+1, epoch_loss))\n",
        "        \n",
        "            if np.isnan(epoch_loss) or epoch_loss == 0.0:\n",
        "                raise ValueError('Degenerate epoch loss: {}'\n",
        "                                 .format(epoch_loss))\n",
        "    \n",
        "    \n",
        "    def test(self,user_ids, item_ids, ratings):\n",
        "        self._net.train(False)\n",
        "        user_ids = user_ids.astype(np.int64)\n",
        "        item_ids = item_ids.astype(np.int64)\n",
        "        \n",
        "        user_ids_tensor = torch.from_numpy(user_ids).to(self._device)\n",
        "        item_ids_tensor = torch.from_numpy(item_ids).to(self._device)\n",
        "        ratings_tensor = torch.from_numpy(ratings).to(self._device)\n",
        "               \n",
        "        predictions = self._net(user_ids_tensor, item_ids_tensor)\n",
        "        \n",
        "        loss = self._loss_func(ratings_tensor, predictions)\n",
        "        return loss.data.item()\n",
        "\n",
        "    def predict(self, user_ids, item_ids):\n",
        "        self._net.train(False)\n",
        "        user_ids = user_ids.astype(np.int64)\n",
        "        item_ids = item_ids.astype(np.int64)\n",
        "        \n",
        "        user_ids_tensor = torch.from_numpy(user_ids).to(self._device)\n",
        "        item_ids_tensor = torch.from_numpy(item_ids).to(self._device)\n",
        "               \n",
        "        predictions = self._net(user_ids_tensor, item_ids_tensor)\n",
        "\n",
        "        return predictions.data  "
      ],
      "execution_count": 0,
      "outputs": []
    },
    {
      "cell_type": "code",
      "metadata": {
        "colab_type": "code",
        "id": "qGuzPUNrUUG_",
        "colab": {}
      },
      "source": [
        "model = FactorizationModel(embedding_dim=50,  # latent dimensionality\n",
        "                                   n_iter=5,  # number of epochs of training\n",
        "                                   batch_size=1024,  # minibatch size\n",
        "                                   learning_rate=1e-3,\n",
        "                                   l2=1e-9,  # strength of L2 regularization\n",
        "                                   num_users=total_user_id,\n",
        "                                   num_items=total_item_id)"
      ],
      "execution_count": 0,
      "outputs": []
    },
    {
      "cell_type": "code",
      "metadata": {
        "colab_type": "code",
        "id": "mMKyTn4QUUHC",
        "colab": {}
      },
      "source": [
        "user_ids_train_np = user_id_train.values.astype(np.int32)\n",
        "item_ids_train_np = item_id_train.values.astype(np.int32)\n",
        "ratings_train_np = rating_train.values.astype(np.float32)\n",
        "user_ids_test_np = user_id_test.values.astype(np.int64)\n",
        "item_ids_test_np = item_id_test.values.astype(np.int64)\n",
        "ratings_test_np = rating_test.values.astype(np.float32)"
      ],
      "execution_count": 0,
      "outputs": []
    },
    {
      "cell_type": "code",
      "metadata": {
        "colab_type": "code",
        "id": "2Bd2CIosUUHJ",
        "colab": {
          "base_uri": "https://localhost:8080/",
          "height": 102
        },
        "outputId": "940ea77c-b8d5-4f27-992c-82e5fae30d4b"
      },
      "source": [
        "model.fit(user_ids_train_np, item_ids_train_np, ratings_train_np)"
      ],
      "execution_count": 44,
      "outputs": [
        {
          "output_type": "stream",
          "text": [
            "Epoch 1: loss_train 13.306593291367157\n",
            "Epoch 2: loss_train 11.627862362921993\n",
            "Epoch 3: loss_train 6.590889813024787\n",
            "Epoch 4: loss_train 2.4039175208610826\n",
            "Epoch 5: loss_train 1.3241434670701813\n"
          ],
          "name": "stdout"
        }
      ]
    },
    {
      "cell_type": "code",
      "metadata": {
        "colab_type": "code",
        "id": "HKyc7Bg5UUHR",
        "colab": {
          "base_uri": "https://localhost:8080/",
          "height": 34
        },
        "outputId": "d0e3aace-d14c-4253-892f-508636b1d0cc"
      },
      "source": [
        "model.test(user_ids_test_np, item_ids_test_np, ratings_test_np  )"
      ],
      "execution_count": 45,
      "outputs": [
        {
          "output_type": "execute_result",
          "data": {
            "text/plain": [
              "1.2009456157684326"
            ]
          },
          "metadata": {
            "tags": []
          },
          "execution_count": 45
        }
      ]
    },
    {
      "cell_type": "code",
      "metadata": {
        "colab_type": "code",
        "id": "W9BIV9WaUUHN",
        "colab": {
          "base_uri": "https://localhost:8080/",
          "height": 119
        },
        "outputId": "6f246035-385e-480c-cba0-d9e87a3bdfc2"
      },
      "source": [
        "print(model._net)"
      ],
      "execution_count": 46,
      "outputs": [
        {
          "output_type": "stream",
          "text": [
            "DotModel(\n",
            "  (user_embeddings): ScaledEmbedding(943, 50)\n",
            "  (item_embeddings): ScaledEmbedding(1682, 50)\n",
            "  (user_biases): ZeroEmbedding(943, 1)\n",
            "  (item_biases): ZeroEmbedding(1682, 1)\n",
            ")\n"
          ],
          "name": "stdout"
        }
      ]
    },
    {
      "cell_type": "code",
      "metadata": {
        "colab_type": "code",
        "id": "Ltvw1o_dVjbm",
        "colab": {
          "base_uri": "https://localhost:8080/",
          "height": 51
        },
        "outputId": "3d153763-2865-4c63-930a-1a6d2feadcb5"
      },
      "source": [
        "from sklearn.metrics import mean_squared_error\n",
        "from sklearn.metrics import mean_absolute_error\n",
        "\n",
        "test_preds = model.predict(user_ids_test_np, item_ids_test_np)\n",
        "print(\"Final test RMSE: %0.3f\" % np.sqrt(mean_squared_error(test_preds.cpu(), ratings_test_np)))\n",
        "print(\"Final test MAE: %0.3f\" % mean_absolute_error(test_preds.cpu(), ratings_test_np))"
      ],
      "execution_count": 47,
      "outputs": [
        {
          "output_type": "stream",
          "text": [
            "Final test RMSE: 1.096\n",
            "Final test MAE: 0.866\n"
          ],
          "name": "stdout"
        }
      ]
    },
    {
      "cell_type": "markdown",
      "metadata": {
        "colab_type": "text",
        "id": "yXVIF75IUUHW"
      },
      "source": [
        "You can compare with [Surprise](https://github.com/NicolasHug/Surprise)"
      ]
    },
    {
      "cell_type": "markdown",
      "metadata": {
        "colab_type": "text",
        "id": "MwQ3gXyuUUHY"
      },
      "source": [
        "## 4. Best and worst movies"
      ]
    },
    {
      "cell_type": "markdown",
      "metadata": {
        "colab_type": "text",
        "id": "RxwaryZZUUHY"
      },
      "source": [
        "Getting the name of the movies (there must be a better way, please provide alternate solutions!)"
      ]
    },
    {
      "cell_type": "code",
      "metadata": {
        "colab_type": "code",
        "id": "I-hyp9IpUUHa",
        "colab": {
          "base_uri": "https://localhost:8080/",
          "height": 204
        },
        "outputId": "ad01862a-050b-4270-8795-f87d5f600f4b"
      },
      "source": [
        "list_movies_names = []\n",
        "list_item_ids = []\n",
        "with open(op.join(ML_100K_FOLDER, 'u.item'), encoding = \"ISO-8859-1\") as fp:\n",
        "    for line in fp:\n",
        "        list_item_ids.append(line.split('|')[0])\n",
        "        list_movies_names.append(line.split('|')[1])\n",
        "        \n",
        "movies_names = pd.DataFrame(list(zip(list_item_ids, list_movies_names)), \n",
        "               columns =['item_id', 'item_name']) \n",
        "movies_names.head()"
      ],
      "execution_count": 48,
      "outputs": [
        {
          "output_type": "execute_result",
          "data": {
            "text/html": [
              "<div>\n",
              "<style scoped>\n",
              "    .dataframe tbody tr th:only-of-type {\n",
              "        vertical-align: middle;\n",
              "    }\n",
              "\n",
              "    .dataframe tbody tr th {\n",
              "        vertical-align: top;\n",
              "    }\n",
              "\n",
              "    .dataframe thead th {\n",
              "        text-align: right;\n",
              "    }\n",
              "</style>\n",
              "<table border=\"1\" class=\"dataframe\">\n",
              "  <thead>\n",
              "    <tr style=\"text-align: right;\">\n",
              "      <th></th>\n",
              "      <th>item_id</th>\n",
              "      <th>item_name</th>\n",
              "    </tr>\n",
              "  </thead>\n",
              "  <tbody>\n",
              "    <tr>\n",
              "      <th>0</th>\n",
              "      <td>1</td>\n",
              "      <td>Toy Story (1995)</td>\n",
              "    </tr>\n",
              "    <tr>\n",
              "      <th>1</th>\n",
              "      <td>2</td>\n",
              "      <td>GoldenEye (1995)</td>\n",
              "    </tr>\n",
              "    <tr>\n",
              "      <th>2</th>\n",
              "      <td>3</td>\n",
              "      <td>Four Rooms (1995)</td>\n",
              "    </tr>\n",
              "    <tr>\n",
              "      <th>3</th>\n",
              "      <td>4</td>\n",
              "      <td>Get Shorty (1995)</td>\n",
              "    </tr>\n",
              "    <tr>\n",
              "      <th>4</th>\n",
              "      <td>5</td>\n",
              "      <td>Copycat (1995)</td>\n",
              "    </tr>\n",
              "  </tbody>\n",
              "</table>\n",
              "</div>"
            ],
            "text/plain": [
              "  item_id          item_name\n",
              "0       1   Toy Story (1995)\n",
              "1       2   GoldenEye (1995)\n",
              "2       3  Four Rooms (1995)\n",
              "3       4  Get Shorty (1995)\n",
              "4       5     Copycat (1995)"
            ]
          },
          "metadata": {
            "tags": []
          },
          "execution_count": 48
        }
      ]
    },
    {
      "cell_type": "code",
      "metadata": {
        "colab_type": "code",
        "id": "B8aAYBuhUUHf",
        "colab": {}
      },
      "source": [
        "item_bias_np = model._net.item_biases.weight.data.cpu().numpy()"
      ],
      "execution_count": 0,
      "outputs": []
    },
    {
      "cell_type": "code",
      "metadata": {
        "colab_type": "code",
        "id": "ZhtanoCiUUHi",
        "colab": {}
      },
      "source": [
        "movies_names['biases'] = pd.Series(item_bias_np.T[0], index=movies_names.index)"
      ],
      "execution_count": 0,
      "outputs": []
    },
    {
      "cell_type": "code",
      "metadata": {
        "colab_type": "code",
        "id": "2TAx4Tz6UUHk",
        "colab": {
          "base_uri": "https://localhost:8080/",
          "height": 204
        },
        "outputId": "725a1498-b085-4d84-eb4b-0a3d4e8127d6"
      },
      "source": [
        "movies_names.head()"
      ],
      "execution_count": 51,
      "outputs": [
        {
          "output_type": "execute_result",
          "data": {
            "text/html": [
              "<div>\n",
              "<style scoped>\n",
              "    .dataframe tbody tr th:only-of-type {\n",
              "        vertical-align: middle;\n",
              "    }\n",
              "\n",
              "    .dataframe tbody tr th {\n",
              "        vertical-align: top;\n",
              "    }\n",
              "\n",
              "    .dataframe thead th {\n",
              "        text-align: right;\n",
              "    }\n",
              "</style>\n",
              "<table border=\"1\" class=\"dataframe\">\n",
              "  <thead>\n",
              "    <tr style=\"text-align: right;\">\n",
              "      <th></th>\n",
              "      <th>item_id</th>\n",
              "      <th>item_name</th>\n",
              "      <th>biases</th>\n",
              "    </tr>\n",
              "  </thead>\n",
              "  <tbody>\n",
              "    <tr>\n",
              "      <th>0</th>\n",
              "      <td>1</td>\n",
              "      <td>Toy Story (1995)</td>\n",
              "      <td>0.217501</td>\n",
              "    </tr>\n",
              "    <tr>\n",
              "      <th>1</th>\n",
              "      <td>2</td>\n",
              "      <td>GoldenEye (1995)</td>\n",
              "      <td>0.169648</td>\n",
              "    </tr>\n",
              "    <tr>\n",
              "      <th>2</th>\n",
              "      <td>3</td>\n",
              "      <td>Four Rooms (1995)</td>\n",
              "      <td>0.163964</td>\n",
              "    </tr>\n",
              "    <tr>\n",
              "      <th>3</th>\n",
              "      <td>4</td>\n",
              "      <td>Get Shorty (1995)</td>\n",
              "      <td>0.184660</td>\n",
              "    </tr>\n",
              "    <tr>\n",
              "      <th>4</th>\n",
              "      <td>5</td>\n",
              "      <td>Copycat (1995)</td>\n",
              "      <td>0.176392</td>\n",
              "    </tr>\n",
              "  </tbody>\n",
              "</table>\n",
              "</div>"
            ],
            "text/plain": [
              "  item_id          item_name    biases\n",
              "0       1   Toy Story (1995)  0.217501\n",
              "1       2   GoldenEye (1995)  0.169648\n",
              "2       3  Four Rooms (1995)  0.163964\n",
              "3       4  Get Shorty (1995)  0.184660\n",
              "4       5     Copycat (1995)  0.176392"
            ]
          },
          "metadata": {
            "tags": []
          },
          "execution_count": 51
        }
      ]
    },
    {
      "cell_type": "code",
      "metadata": {
        "colab_type": "code",
        "id": "gn8gcmQjUUHo",
        "colab": {
          "base_uri": "https://localhost:8080/",
          "height": 34
        },
        "outputId": "de078a8f-bc82-49da-9f92-b6a35b029089"
      },
      "source": [
        "movies_names.shape"
      ],
      "execution_count": 52,
      "outputs": [
        {
          "output_type": "execute_result",
          "data": {
            "text/plain": [
              "(1682, 3)"
            ]
          },
          "metadata": {
            "tags": []
          },
          "execution_count": 52
        }
      ]
    },
    {
      "cell_type": "code",
      "metadata": {
        "colab_type": "code",
        "id": "Q6ZmJYIdUUHt",
        "colab": {
          "base_uri": "https://localhost:8080/",
          "height": 34
        },
        "outputId": "1ee2a4cc-19ea-4412-f9a3-3e7ec140f72e"
      },
      "source": [
        "indices_item_train = np.sort(item_id_train.unique())\n",
        "movies_names = movies_names.loc[indices_item_train]\n",
        "movies_names.shape"
      ],
      "execution_count": 53,
      "outputs": [
        {
          "output_type": "execute_result",
          "data": {
            "text/plain": [
              "(1656, 3)"
            ]
          },
          "metadata": {
            "tags": []
          },
          "execution_count": 53
        }
      ]
    },
    {
      "cell_type": "code",
      "metadata": {
        "colab_type": "code",
        "id": "iUqELsLPUUH1",
        "colab": {}
      },
      "source": [
        "movies_names = movies_names.sort_values(ascending=False,by=['biases'])"
      ],
      "execution_count": 0,
      "outputs": []
    },
    {
      "cell_type": "markdown",
      "metadata": {
        "colab_type": "text",
        "id": "7TG247DXUUH4"
      },
      "source": [
        "Best movies"
      ]
    },
    {
      "cell_type": "code",
      "metadata": {
        "colab_type": "code",
        "id": "ZzQGi5VIUUH5",
        "colab": {
          "base_uri": "https://localhost:8080/",
          "height": 359
        },
        "outputId": "c68e6bed-12c0-4cde-eeb3-5f73da942f41"
      },
      "source": [
        "movies_names.head(10)"
      ],
      "execution_count": 55,
      "outputs": [
        {
          "output_type": "execute_result",
          "data": {
            "text/html": [
              "<div>\n",
              "<style scoped>\n",
              "    .dataframe tbody tr th:only-of-type {\n",
              "        vertical-align: middle;\n",
              "    }\n",
              "\n",
              "    .dataframe tbody tr th {\n",
              "        vertical-align: top;\n",
              "    }\n",
              "\n",
              "    .dataframe thead th {\n",
              "        text-align: right;\n",
              "    }\n",
              "</style>\n",
              "<table border=\"1\" class=\"dataframe\">\n",
              "  <thead>\n",
              "    <tr style=\"text-align: right;\">\n",
              "      <th></th>\n",
              "      <th>item_id</th>\n",
              "      <th>item_name</th>\n",
              "      <th>biases</th>\n",
              "    </tr>\n",
              "  </thead>\n",
              "  <tbody>\n",
              "    <tr>\n",
              "      <th>312</th>\n",
              "      <td>313</td>\n",
              "      <td>Titanic (1997)</td>\n",
              "      <td>0.248345</td>\n",
              "    </tr>\n",
              "    <tr>\n",
              "      <th>268</th>\n",
              "      <td>269</td>\n",
              "      <td>Full Monty, The (1997)</td>\n",
              "      <td>0.235461</td>\n",
              "    </tr>\n",
              "    <tr>\n",
              "      <th>301</th>\n",
              "      <td>302</td>\n",
              "      <td>L.A. Confidential (1997)</td>\n",
              "      <td>0.234561</td>\n",
              "    </tr>\n",
              "    <tr>\n",
              "      <th>271</th>\n",
              "      <td>272</td>\n",
              "      <td>Good Will Hunting (1997)</td>\n",
              "      <td>0.233097</td>\n",
              "    </tr>\n",
              "    <tr>\n",
              "      <th>49</th>\n",
              "      <td>50</td>\n",
              "      <td>Star Wars (1977)</td>\n",
              "      <td>0.229521</td>\n",
              "    </tr>\n",
              "    <tr>\n",
              "      <th>339</th>\n",
              "      <td>340</td>\n",
              "      <td>Boogie Nights (1997)</td>\n",
              "      <td>0.228147</td>\n",
              "    </tr>\n",
              "    <tr>\n",
              "      <th>257</th>\n",
              "      <td>258</td>\n",
              "      <td>Contact (1997)</td>\n",
              "      <td>0.227830</td>\n",
              "    </tr>\n",
              "    <tr>\n",
              "      <th>285</th>\n",
              "      <td>286</td>\n",
              "      <td>English Patient, The (1996)</td>\n",
              "      <td>0.227516</td>\n",
              "    </tr>\n",
              "    <tr>\n",
              "      <th>306</th>\n",
              "      <td>307</td>\n",
              "      <td>Devil's Advocate, The (1997)</td>\n",
              "      <td>0.224558</td>\n",
              "    </tr>\n",
              "    <tr>\n",
              "      <th>299</th>\n",
              "      <td>300</td>\n",
              "      <td>Air Force One (1997)</td>\n",
              "      <td>0.223448</td>\n",
              "    </tr>\n",
              "  </tbody>\n",
              "</table>\n",
              "</div>"
            ],
            "text/plain": [
              "    item_id                     item_name    biases\n",
              "312     313                Titanic (1997)  0.248345\n",
              "268     269        Full Monty, The (1997)  0.235461\n",
              "301     302      L.A. Confidential (1997)  0.234561\n",
              "271     272      Good Will Hunting (1997)  0.233097\n",
              "49       50              Star Wars (1977)  0.229521\n",
              "339     340          Boogie Nights (1997)  0.228147\n",
              "257     258                Contact (1997)  0.227830\n",
              "285     286   English Patient, The (1996)  0.227516\n",
              "306     307  Devil's Advocate, The (1997)  0.224558\n",
              "299     300          Air Force One (1997)  0.223448"
            ]
          },
          "metadata": {
            "tags": []
          },
          "execution_count": 55
        }
      ]
    },
    {
      "cell_type": "markdown",
      "metadata": {
        "colab_type": "text",
        "id": "Y3fHTO-eUUH_"
      },
      "source": [
        "Worse movies"
      ]
    },
    {
      "cell_type": "code",
      "metadata": {
        "colab_type": "code",
        "id": "1-EhFYOwUUIA",
        "colab": {
          "base_uri": "https://localhost:8080/",
          "height": 359
        },
        "outputId": "54e43f5c-015b-4646-c014-5a53ee17a5fe"
      },
      "source": [
        "movies_names.tail(10)"
      ],
      "execution_count": 56,
      "outputs": [
        {
          "output_type": "execute_result",
          "data": {
            "text/html": [
              "<div>\n",
              "<style scoped>\n",
              "    .dataframe tbody tr th:only-of-type {\n",
              "        vertical-align: middle;\n",
              "    }\n",
              "\n",
              "    .dataframe tbody tr th {\n",
              "        vertical-align: top;\n",
              "    }\n",
              "\n",
              "    .dataframe thead th {\n",
              "        text-align: right;\n",
              "    }\n",
              "</style>\n",
              "<table border=\"1\" class=\"dataframe\">\n",
              "  <thead>\n",
              "    <tr style=\"text-align: right;\">\n",
              "      <th></th>\n",
              "      <th>item_id</th>\n",
              "      <th>item_name</th>\n",
              "      <th>biases</th>\n",
              "    </tr>\n",
              "  </thead>\n",
              "  <tbody>\n",
              "    <tr>\n",
              "      <th>851</th>\n",
              "      <td>852</td>\n",
              "      <td>Bloody Child, The (1996)</td>\n",
              "      <td>0.030022</td>\n",
              "    </tr>\n",
              "    <tr>\n",
              "      <th>1308</th>\n",
              "      <td>1309</td>\n",
              "      <td>Very Natural Thing, A (1974)</td>\n",
              "      <td>0.029781</td>\n",
              "    </tr>\n",
              "    <tr>\n",
              "      <th>1668</th>\n",
              "      <td>1669</td>\n",
              "      <td>MURDER and murder (1996)</td>\n",
              "      <td>0.029689</td>\n",
              "    </tr>\n",
              "    <tr>\n",
              "      <th>1620</th>\n",
              "      <td>1621</td>\n",
              "      <td>Butterfly Kiss (1995)</td>\n",
              "      <td>0.029203</td>\n",
              "    </tr>\n",
              "    <tr>\n",
              "      <th>1665</th>\n",
              "      <td>1666</td>\n",
              "      <td>Ripe (1996)</td>\n",
              "      <td>0.029165</td>\n",
              "    </tr>\n",
              "    <tr>\n",
              "      <th>1547</th>\n",
              "      <td>1548</td>\n",
              "      <td>The Courtyard (1995)</td>\n",
              "      <td>0.029099</td>\n",
              "    </tr>\n",
              "    <tr>\n",
              "      <th>598</th>\n",
              "      <td>599</td>\n",
              "      <td>Police Story 4: Project S (Chao ji ji hua) (1993)</td>\n",
              "      <td>0.028949</td>\n",
              "    </tr>\n",
              "    <tr>\n",
              "      <th>829</th>\n",
              "      <td>830</td>\n",
              "      <td>Power 98 (1995)</td>\n",
              "      <td>0.028943</td>\n",
              "    </tr>\n",
              "    <tr>\n",
              "      <th>1303</th>\n",
              "      <td>1304</td>\n",
              "      <td>New York Cop (1996)</td>\n",
              "      <td>0.028900</td>\n",
              "    </tr>\n",
              "    <tr>\n",
              "      <th>1485</th>\n",
              "      <td>1486</td>\n",
              "      <td>Girl in the Cadillac (1995)</td>\n",
              "      <td>0.028724</td>\n",
              "    </tr>\n",
              "  </tbody>\n",
              "</table>\n",
              "</div>"
            ],
            "text/plain": [
              "     item_id                                          item_name    biases\n",
              "851      852                           Bloody Child, The (1996)  0.030022\n",
              "1308    1309                       Very Natural Thing, A (1974)  0.029781\n",
              "1668    1669                           MURDER and murder (1996)  0.029689\n",
              "1620    1621                              Butterfly Kiss (1995)  0.029203\n",
              "1665    1666                                        Ripe (1996)  0.029165\n",
              "1547    1548                               The Courtyard (1995)  0.029099\n",
              "598      599  Police Story 4: Project S (Chao ji ji hua) (1993)  0.028949\n",
              "829      830                                    Power 98 (1995)  0.028943\n",
              "1303    1304                                New York Cop (1996)  0.028900\n",
              "1485    1486                        Girl in the Cadillac (1995)  0.028724"
            ]
          },
          "metadata": {
            "tags": []
          },
          "execution_count": 56
        }
      ]
    },
    {
      "cell_type": "markdown",
      "metadata": {
        "colab_type": "text",
        "id": "t_CPwQ2bj64P"
      },
      "source": [
        "## 5. PCA"
      ]
    },
    {
      "cell_type": "code",
      "metadata": {
        "colab_type": "code",
        "id": "4WB_IZtPj64P",
        "colab": {
          "base_uri": "https://localhost:8080/",
          "height": 34
        },
        "outputId": "33503c5a-166a-4fc2-c1d8-da2e12ce7660"
      },
      "source": [
        "item_emb_np = model._net.item_embeddings.weight.data.cpu().numpy()\n",
        "item_emb_np.shape"
      ],
      "execution_count": 57,
      "outputs": [
        {
          "output_type": "execute_result",
          "data": {
            "text/plain": [
              "(1682, 50)"
            ]
          },
          "metadata": {
            "tags": []
          },
          "execution_count": 57
        }
      ]
    },
    {
      "cell_type": "code",
      "metadata": {
        "colab_type": "code",
        "id": "Uqe-QXDJj64R",
        "colab": {}
      },
      "source": [
        "from sklearn.decomposition import PCA\n",
        "from operator import itemgetter\n",
        "\n",
        "pca = PCA(n_components=3)\n",
        "latent_fac = pca.fit_transform(item_emb_np)"
      ],
      "execution_count": 0,
      "outputs": []
    },
    {
      "cell_type": "code",
      "metadata": {
        "colab_type": "code",
        "id": "SArVAj3tj64U",
        "colab": {}
      },
      "source": [
        "movie_comp = [(f, i) for f,i in zip(latent_fac[:,1], list_movies_names)]"
      ],
      "execution_count": 0,
      "outputs": []
    },
    {
      "cell_type": "code",
      "metadata": {
        "colab_type": "code",
        "id": "ZC9L-xPcj64V",
        "colab": {
          "base_uri": "https://localhost:8080/",
          "height": 187
        },
        "outputId": "e3f86581-c855-49ef-fb6c-b1b4df456133"
      },
      "source": [
        "sorted(movie_comp, key=itemgetter(0), reverse=True)[:10]"
      ],
      "execution_count": 60,
      "outputs": [
        {
          "output_type": "execute_result",
          "data": {
            "text/plain": [
              "[(0.48136267, \"Devil's Own, The (1997)\"),\n",
              " (0.47676995, 'Air Force One (1997)'),\n",
              " (0.46139196, \"Dante's Peak (1997)\"),\n",
              " (0.43272406, 'Kiss the Girls (1997)'),\n",
              " (0.43221238, 'Conspiracy Theory (1997)'),\n",
              " (0.41800764, \"Devil's Advocate, The (1997)\"),\n",
              " (0.41602927, 'Seven Years in Tibet (1997)'),\n",
              " (0.4084312, 'Murder at 1600 (1997)'),\n",
              " (0.40793452, 'Peacemaker, The (1997)'),\n",
              " (0.3997503, 'G.I. Jane (1997)')]"
            ]
          },
          "metadata": {
            "tags": []
          },
          "execution_count": 60
        }
      ]
    },
    {
      "cell_type": "code",
      "metadata": {
        "colab_type": "code",
        "id": "Ua6iU6TRj64W",
        "colab": {
          "base_uri": "https://localhost:8080/",
          "height": 204
        },
        "outputId": "f6c6005e-4736-45e7-9efb-0a2b6a1eaa4b"
      },
      "source": [
        "sorted(movie_comp, key=itemgetter(0), reverse=False)[:10]"
      ],
      "execution_count": 61,
      "outputs": [
        {
          "output_type": "execute_result",
          "data": {
            "text/plain": [
              "[(-0.18040213, 'Dial M for Murder (1954)'),\n",
              " (-0.17152599,\n",
              "  'Dr. Strangelove or: How I Learned to Stop Worrying and Love the Bomb (1963)'),\n",
              " (-0.1621221, 'Farewell to Arms, A (1932)'),\n",
              " (-0.16135183, 'Duck Soup (1933)'),\n",
              " (-0.16056594, 'Raising Arizona (1987)'),\n",
              " (-0.15550336, 'Chinatown (1974)'),\n",
              " (-0.15366556, 'Queen Margot (Reine Margot, La) (1994)'),\n",
              " (-0.15217753, 'Ran (1985)'),\n",
              " (-0.15170382, 'To Catch a Thief (1955)'),\n",
              " (-0.15075427, 'Cat on a Hot Tin Roof (1958)')]"
            ]
          },
          "metadata": {
            "tags": []
          },
          "execution_count": 61
        }
      ]
    },
    {
      "cell_type": "code",
      "metadata": {
        "colab_type": "code",
        "id": "uWyiIsPvj64X",
        "colab": {
          "base_uri": "https://localhost:8080/",
          "height": 102
        },
        "outputId": "5c5629cf-87b7-47d5-da57-efa59fef79b6"
      },
      "source": [
        "g = all_ratings.groupby('item_name')['ratings'].count()\n",
        "most_rated_movies = g.sort_values(ascending=False).index.values[:1000]\n",
        "most_rated_movies[:10]"
      ],
      "execution_count": 62,
      "outputs": [
        {
          "output_type": "execute_result",
          "data": {
            "text/plain": [
              "array(['Star Wars (1977)', 'Contact (1997)', 'Fargo (1996)',\n",
              "       'Return of the Jedi (1983)', 'Liar Liar (1997)',\n",
              "       'English Patient, The (1996)', 'Scream (1996)', 'Toy Story (1995)',\n",
              "       'Air Force One (1997)', 'Independence Day (ID4) (1996)'],\n",
              "      dtype=object)"
            ]
          },
          "metadata": {
            "tags": []
          },
          "execution_count": 62
        }
      ]
    },
    {
      "cell_type": "code",
      "metadata": {
        "colab_type": "code",
        "id": "zWAKDHvEj64Y",
        "colab": {
          "base_uri": "https://localhost:8080/",
          "height": 863
        },
        "outputId": "194377a4-f96f-426c-8d27-35ad3515ec57"
      },
      "source": [
        "idxs = range(50)\n",
        "txt_movies_names = most_rated_movies[:len(idxs)]\n",
        "X = latent_fac[idxs,0]\n",
        "Y = latent_fac[idxs,2]\n",
        "plt.figure(figsize=(15,15))\n",
        "plt.scatter(X, Y)\n",
        "for i, x, y in zip(txt_movies_names, X, Y):\n",
        "    plt.text(x+0.01,y-0.01,i, fontsize=11)\n",
        "plt.show()"
      ],
      "execution_count": 63,
      "outputs": [
        {
          "output_type": "display_data",
          "data": {
            "image/png": "[encoded data removed]",
            "text/plain": [
              "<Figure size 1080x1080 with 1 Axes>"
            ]
          },
          "metadata": {
            "tags": [],
            "needs_background": "light"
          }
        }
      ]
    },
    {
      "cell_type": "markdown",
      "metadata": {
        "colab_type": "text",
        "id": "XwOYSxcZUUII"
      },
      "source": [
        "## 6. SPOTLIGHT\n",
        "\n",
        "The code written above is a simplified version of [SPOTLIGHT](https://github.com/maciejkula/spotlight)"
      ]
    },
    {
      "cell_type": "markdown",
      "metadata": {
        "colab_type": "text",
        "id": "-nPXmJ_nUUIJ"
      },
      "source": [
        "Once you installed it with: `conda install -c maciejkula -c pytorch spotlight=0.1.5`, you can compare the results..."
      ]
    },
    {
      "cell_type": "markdown",
      "metadata": {
        "id": "kiwwh4P1C-Ps",
        "colab_type": "text"
      },
      "source": [
        "Spotlight Performances on MovieLens dataset :\n",
        "- Train RMSE 0.907\n",
        "- Test RMSE 0.946"
      ]
    },
    {
      "cell_type": "code",
      "metadata": {
        "id": "Icf5PrGkC7gf",
        "colab_type": "code",
        "colab": {}
      },
      "source": [
        ""
      ],
      "execution_count": 0,
      "outputs": []
    }
  ]
}