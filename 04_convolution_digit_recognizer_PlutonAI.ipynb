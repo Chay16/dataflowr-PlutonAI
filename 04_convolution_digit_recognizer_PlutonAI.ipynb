{
  "nbformat": 4,
  "nbformat_minor": 0,
  "metadata": {
    "kernelspec": {
      "display_name": "torch",
      "language": "python",
      "name": "torch"
    },
    "language_info": {
      "codemirror_mode": {
        "name": "ipython",
        "version": 3
      },
      "file_extension": ".py",
      "mimetype": "text/x-python",
      "name": "python",
      "nbconvert_exporter": "python",
      "pygments_lexer": "ipython3",
      "version": "3.6.9"
    },
    "colab": {
      "name": "04_Convolution_Digit_Recognizer_PlutonAI.ipynb",
      "provenance": [],
      "collapsed_sections": [],
      "include_colab_link": true
    },
    "widgets": {
      "application/vnd.jupyter.widget-state+json": {
        "12370e054f244387856d1b88d1c6274b": {
          "model_module": "@jupyter-widgets/controls",
          "model_name": "HBoxModel",
          "state": {
            "_view_name": "HBoxView",
            "_dom_classes": [],
            "_model_name": "HBoxModel",
            "_view_module": "@jupyter-widgets/controls",
            "_model_module_version": "1.5.0",
            "_view_count": null,
            "_view_module_version": "1.5.0",
            "box_style": "",
            "layout": "IPY_MODEL_2c4a1d4f82e44248870d4f985e799b7d",
            "_model_module": "@jupyter-widgets/controls",
            "children": [
              "IPY_MODEL_7e0d713727834d7688debb9725b22e7b",
              "IPY_MODEL_1c5da45c92234067923fe78014fcc24f"
            ]
          }
        },
        "2c4a1d4f82e44248870d4f985e799b7d": {
          "model_module": "@jupyter-widgets/base",
          "model_name": "LayoutModel",
          "state": {
            "_view_name": "LayoutView",
            "grid_template_rows": null,
            "right": null,
            "justify_content": null,
            "_view_module": "@jupyter-widgets/base",
            "overflow": null,
            "_model_module_version": "1.2.0",
            "_view_count": null,
            "flex_flow": null,
            "width": null,
            "min_width": null,
            "border": null,
            "align_items": null,
            "bottom": null,
            "_model_module": "@jupyter-widgets/base",
            "top": null,
            "grid_column": null,
            "overflow_y": null,
            "overflow_x": null,
            "grid_auto_flow": null,
            "grid_area": null,
            "grid_template_columns": null,
            "flex": null,
            "_model_name": "LayoutModel",
            "justify_items": null,
            "grid_row": null,
            "max_height": null,
            "align_content": null,
            "visibility": null,
            "align_self": null,
            "height": null,
            "min_height": null,
            "padding": null,
            "grid_auto_rows": null,
            "grid_gap": null,
            "max_width": null,
            "order": null,
            "_view_module_version": "1.2.0",
            "grid_template_areas": null,
            "object_position": null,
            "object_fit": null,
            "grid_auto_columns": null,
            "margin": null,
            "display": null,
            "left": null
          }
        },
        "7e0d713727834d7688debb9725b22e7b": {
          "model_module": "@jupyter-widgets/controls",
          "model_name": "IntProgressModel",
          "state": {
            "_view_name": "ProgressView",
            "style": "IPY_MODEL_ec30d7e8155f4d3eafc7f415ca8be82c",
            "_dom_classes": [],
            "description": "",
            "_model_name": "IntProgressModel",
            "bar_style": "info",
            "max": 1,
            "_view_module": "@jupyter-widgets/controls",
            "_model_module_version": "1.5.0",
            "value": 1,
            "_view_count": null,
            "_view_module_version": "1.5.0",
            "orientation": "horizontal",
            "min": 0,
            "description_tooltip": null,
            "_model_module": "@jupyter-widgets/controls",
            "layout": "IPY_MODEL_49a27c44af4a413586286584cd17bda2"
          }
        },
        "1c5da45c92234067923fe78014fcc24f": {
          "model_module": "@jupyter-widgets/controls",
          "model_name": "HTMLModel",
          "state": {
            "_view_name": "HTMLView",
            "style": "IPY_MODEL_1b4b289ecdbe433cad5bb77312ec59a2",
            "_dom_classes": [],
            "description": "",
            "_model_name": "HTMLModel",
            "placeholder": "​",
            "_view_module": "@jupyter-widgets/controls",
            "_model_module_version": "1.5.0",
            "value": " 9920512/? [00:20&lt;00:00, 1382005.96it/s]",
            "_view_count": null,
            "_view_module_version": "1.5.0",
            "description_tooltip": null,
            "_model_module": "@jupyter-widgets/controls",
            "layout": "IPY_MODEL_632e6383dd264130a052daaddd096ba0"
          }
        },
        "ec30d7e8155f4d3eafc7f415ca8be82c": {
          "model_module": "@jupyter-widgets/controls",
          "model_name": "ProgressStyleModel",
          "state": {
            "_view_name": "StyleView",
            "_model_name": "ProgressStyleModel",
            "description_width": "initial",
            "_view_module": "@jupyter-widgets/base",
            "_model_module_version": "1.5.0",
            "_view_count": null,
            "_view_module_version": "1.2.0",
            "bar_color": null,
            "_model_module": "@jupyter-widgets/controls"
          }
        },
        "49a27c44af4a413586286584cd17bda2": {
          "model_module": "@jupyter-widgets/base",
          "model_name": "LayoutModel",
          "state": {
            "_view_name": "LayoutView",
            "grid_template_rows": null,
            "right": null,
            "justify_content": null,
            "_view_module": "@jupyter-widgets/base",
            "overflow": null,
            "_model_module_version": "1.2.0",
            "_view_count": null,
            "flex_flow": null,
            "width": null,
            "min_width": null,
            "border": null,
            "align_items": null,
            "bottom": null,
            "_model_module": "@jupyter-widgets/base",
            "top": null,
            "grid_column": null,
            "overflow_y": null,
            "overflow_x": null,
            "grid_auto_flow": null,
            "grid_area": null,
            "grid_template_columns": null,
            "flex": null,
            "_model_name": "LayoutModel",
            "justify_items": null,
            "grid_row": null,
            "max_height": null,
            "align_content": null,
            "visibility": null,
            "align_self": null,
            "height": null,
            "min_height": null,
            "padding": null,
            "grid_auto_rows": null,
            "grid_gap": null,
            "max_width": null,
            "order": null,
            "_view_module_version": "1.2.0",
            "grid_template_areas": null,
            "object_position": null,
            "object_fit": null,
            "grid_auto_columns": null,
            "margin": null,
            "display": null,
            "left": null
          }
        },
        "1b4b289ecdbe433cad5bb77312ec59a2": {
          "model_module": "@jupyter-widgets/controls",
          "model_name": "DescriptionStyleModel",
          "state": {
            "_view_name": "StyleView",
            "_model_name": "DescriptionStyleModel",
            "description_width": "",
            "_view_module": "@jupyter-widgets/base",
            "_model_module_version": "1.5.0",
            "_view_count": null,
            "_view_module_version": "1.2.0",
            "_model_module": "@jupyter-widgets/controls"
          }
        },
        "632e6383dd264130a052daaddd096ba0": {
          "model_module": "@jupyter-widgets/base",
          "model_name": "LayoutModel",
          "state": {
            "_view_name": "LayoutView",
            "grid_template_rows": null,
            "right": null,
            "justify_content": null,
            "_view_module": "@jupyter-widgets/base",
            "overflow": null,
            "_model_module_version": "1.2.0",
            "_view_count": null,
            "flex_flow": null,
            "width": null,
            "min_width": null,
            "border": null,
            "align_items": null,
            "bottom": null,
            "_model_module": "@jupyter-widgets/base",
            "top": null,
            "grid_column": null,
            "overflow_y": null,
            "overflow_x": null,
            "grid_auto_flow": null,
            "grid_area": null,
            "grid_template_columns": null,
            "flex": null,
            "_model_name": "LayoutModel",
            "justify_items": null,
            "grid_row": null,
            "max_height": null,
            "align_content": null,
            "visibility": null,
            "align_self": null,
            "height": null,
            "min_height": null,
            "padding": null,
            "grid_auto_rows": null,
            "grid_gap": null,
            "max_width": null,
            "order": null,
            "_view_module_version": "1.2.0",
            "grid_template_areas": null,
            "object_position": null,
            "object_fit": null,
            "grid_auto_columns": null,
            "margin": null,
            "display": null,
            "left": null
          }
        },
        "be143c492c73452ab2c27036738a0089": {
          "model_module": "@jupyter-widgets/controls",
          "model_name": "HBoxModel",
          "state": {
            "_view_name": "HBoxView",
            "_dom_classes": [],
            "_model_name": "HBoxModel",
            "_view_module": "@jupyter-widgets/controls",
            "_model_module_version": "1.5.0",
            "_view_count": null,
            "_view_module_version": "1.5.0",
            "box_style": "",
            "layout": "IPY_MODEL_585d69a218d1490094fdc1a11a94b3a2",
            "_model_module": "@jupyter-widgets/controls",
            "children": [
              "IPY_MODEL_ea8a2025ec7c42e082e7e1e69245bdb3",
              "IPY_MODEL_b2023122003641ffb565ce965c7057f8"
            ]
          }
        },
        "585d69a218d1490094fdc1a11a94b3a2": {
          "model_module": "@jupyter-widgets/base",
          "model_name": "LayoutModel",
          "state": {
            "_view_name": "LayoutView",
            "grid_template_rows": null,
            "right": null,
            "justify_content": null,
            "_view_module": "@jupyter-widgets/base",
            "overflow": null,
            "_model_module_version": "1.2.0",
            "_view_count": null,
            "flex_flow": null,
            "width": null,
            "min_width": null,
            "border": null,
            "align_items": null,
            "bottom": null,
            "_model_module": "@jupyter-widgets/base",
            "top": null,
            "grid_column": null,
            "overflow_y": null,
            "overflow_x": null,
            "grid_auto_flow": null,
            "grid_area": null,
            "grid_template_columns": null,
            "flex": null,
            "_model_name": "LayoutModel",
            "justify_items": null,
            "grid_row": null,
            "max_height": null,
            "align_content": null,
            "visibility": null,
            "align_self": null,
            "height": null,
            "min_height": null,
            "padding": null,
            "grid_auto_rows": null,
            "grid_gap": null,
            "max_width": null,
            "order": null,
            "_view_module_version": "1.2.0",
            "grid_template_areas": null,
            "object_position": null,
            "object_fit": null,
            "grid_auto_columns": null,
            "margin": null,
            "display": null,
            "left": null
          }
        },
        "ea8a2025ec7c42e082e7e1e69245bdb3": {
          "model_module": "@jupyter-widgets/controls",
          "model_name": "IntProgressModel",
          "state": {
            "_view_name": "ProgressView",
            "style": "IPY_MODEL_8c4e961bad624ceeadd60fe7843db6ae",
            "_dom_classes": [],
            "description": "",
            "_model_name": "IntProgressModel",
            "bar_style": "success",
            "max": 1,
            "_view_module": "@jupyter-widgets/controls",
            "_model_module_version": "1.5.0",
            "value": 1,
            "_view_count": null,
            "_view_module_version": "1.5.0",
            "orientation": "horizontal",
            "min": 0,
            "description_tooltip": null,
            "_model_module": "@jupyter-widgets/controls",
            "layout": "IPY_MODEL_ede45d838bcb4a769d36a2f9183f871c"
          }
        },
        "b2023122003641ffb565ce965c7057f8": {
          "model_module": "@jupyter-widgets/controls",
          "model_name": "HTMLModel",
          "state": {
            "_view_name": "HTMLView",
            "style": "IPY_MODEL_aeb91ae965744ebcb7411518d24a06b6",
            "_dom_classes": [],
            "description": "",
            "_model_name": "HTMLModel",
            "placeholder": "​",
            "_view_module": "@jupyter-widgets/controls",
            "_model_module_version": "1.5.0",
            "value": " 32768/? [00:03&lt;00:00, 10693.36it/s]",
            "_view_count": null,
            "_view_module_version": "1.5.0",
            "description_tooltip": null,
            "_model_module": "@jupyter-widgets/controls",
            "layout": "IPY_MODEL_88688f9af8f14e6a972427eb40128a21"
          }
        },
        "8c4e961bad624ceeadd60fe7843db6ae": {
          "model_module": "@jupyter-widgets/controls",
          "model_name": "ProgressStyleModel",
          "state": {
            "_view_name": "StyleView",
            "_model_name": "ProgressStyleModel",
            "description_width": "initial",
            "_view_module": "@jupyter-widgets/base",
            "_model_module_version": "1.5.0",
            "_view_count": null,
            "_view_module_version": "1.2.0",
            "bar_color": null,
            "_model_module": "@jupyter-widgets/controls"
          }
        },
        "ede45d838bcb4a769d36a2f9183f871c": {
          "model_module": "@jupyter-widgets/base",
          "model_name": "LayoutModel",
          "state": {
            "_view_name": "LayoutView",
            "grid_template_rows": null,
            "right": null,
            "justify_content": null,
            "_view_module": "@jupyter-widgets/base",
            "overflow": null,
            "_model_module_version": "1.2.0",
            "_view_count": null,
            "flex_flow": null,
            "width": null,
            "min_width": null,
            "border": null,
            "align_items": null,
            "bottom": null,
            "_model_module": "@jupyter-widgets/base",
            "top": null,
            "grid_column": null,
            "overflow_y": null,
            "overflow_x": null,
            "grid_auto_flow": null,
            "grid_area": null,
            "grid_template_columns": null,
            "flex": null,
            "_model_name": "LayoutModel",
            "justify_items": null,
            "grid_row": null,
            "max_height": null,
            "align_content": null,
            "visibility": null,
            "align_self": null,
            "height": null,
            "min_height": null,
            "padding": null,
            "grid_auto_rows": null,
            "grid_gap": null,
            "max_width": null,
            "order": null,
            "_view_module_version": "1.2.0",
            "grid_template_areas": null,
            "object_position": null,
            "object_fit": null,
            "grid_auto_columns": null,
            "margin": null,
            "display": null,
            "left": null
          }
        },
        "aeb91ae965744ebcb7411518d24a06b6": {
          "model_module": "@jupyter-widgets/controls",
          "model_name": "DescriptionStyleModel",
          "state": {
            "_view_name": "StyleView",
            "_model_name": "DescriptionStyleModel",
            "description_width": "",
            "_view_module": "@jupyter-widgets/base",
            "_model_module_version": "1.5.0",
            "_view_count": null,
            "_view_module_version": "1.2.0",
            "_model_module": "@jupyter-widgets/controls"
          }
        },
        "88688f9af8f14e6a972427eb40128a21": {
          "model_module": "@jupyter-widgets/base",
          "model_name": "LayoutModel",
          "state": {
            "_view_name": "LayoutView",
            "grid_template_rows": null,
            "right": null,
            "justify_content": null,
            "_view_module": "@jupyter-widgets/base",
            "overflow": null,
            "_model_module_version": "1.2.0",
            "_view_count": null,
            "flex_flow": null,
            "width": null,
            "min_width": null,
            "border": null,
            "align_items": null,
            "bottom": null,
            "_model_module": "@jupyter-widgets/base",
            "top": null,
            "grid_column": null,
            "overflow_y": null,
            "overflow_x": null,
            "grid_auto_flow": null,
            "grid_area": null,
            "grid_template_columns": null,
            "flex": null,
            "_model_name": "LayoutModel",
            "justify_items": null,
            "grid_row": null,
            "max_height": null,
            "align_content": null,
            "visibility": null,
            "align_self": null,
            "height": null,
            "min_height": null,
            "padding": null,
            "grid_auto_rows": null,
            "grid_gap": null,
            "max_width": null,
            "order": null,
            "_view_module_version": "1.2.0",
            "grid_template_areas": null,
            "object_position": null,
            "object_fit": null,
            "grid_auto_columns": null,
            "margin": null,
            "display": null,
            "left": null
          }
        },
        "fbe05e02c0b54d1dbe9394745bd38bd4": {
          "model_module": "@jupyter-widgets/controls",
          "model_name": "HBoxModel",
          "state": {
            "_view_name": "HBoxView",
            "_dom_classes": [],
            "_model_name": "HBoxModel",
            "_view_module": "@jupyter-widgets/controls",
            "_model_module_version": "1.5.0",
            "_view_count": null,
            "_view_module_version": "1.5.0",
            "box_style": "",
            "layout": "IPY_MODEL_a7ffd8e9bbfc473a8e3e5bc07a1b7daf",
            "_model_module": "@jupyter-widgets/controls",
            "children": [
              "IPY_MODEL_ff519ded73974e9b81b60db74692b170",
              "IPY_MODEL_efc6959368bf4a74afe850458d1b7d20"
            ]
          }
        },
        "a7ffd8e9bbfc473a8e3e5bc07a1b7daf": {
          "model_module": "@jupyter-widgets/base",
          "model_name": "LayoutModel",
          "state": {
            "_view_name": "LayoutView",
            "grid_template_rows": null,
            "right": null,
            "justify_content": null,
            "_view_module": "@jupyter-widgets/base",
            "overflow": null,
            "_model_module_version": "1.2.0",
            "_view_count": null,
            "flex_flow": null,
            "width": null,
            "min_width": null,
            "border": null,
            "align_items": null,
            "bottom": null,
            "_model_module": "@jupyter-widgets/base",
            "top": null,
            "grid_column": null,
            "overflow_y": null,
            "overflow_x": null,
            "grid_auto_flow": null,
            "grid_area": null,
            "grid_template_columns": null,
            "flex": null,
            "_model_name": "LayoutModel",
            "justify_items": null,
            "grid_row": null,
            "max_height": null,
            "align_content": null,
            "visibility": null,
            "align_self": null,
            "height": null,
            "min_height": null,
            "padding": null,
            "grid_auto_rows": null,
            "grid_gap": null,
            "max_width": null,
            "order": null,
            "_view_module_version": "1.2.0",
            "grid_template_areas": null,
            "object_position": null,
            "object_fit": null,
            "grid_auto_columns": null,
            "margin": null,
            "display": null,
            "left": null
          }
        },
        "ff519ded73974e9b81b60db74692b170": {
          "model_module": "@jupyter-widgets/controls",
          "model_name": "IntProgressModel",
          "state": {
            "_view_name": "ProgressView",
            "style": "IPY_MODEL_8ad5b4fe50264fa988e788cc79721548",
            "_dom_classes": [],
            "description": "",
            "_model_name": "IntProgressModel",
            "bar_style": "success",
            "max": 1,
            "_view_module": "@jupyter-widgets/controls",
            "_model_module_version": "1.5.0",
            "value": 1,
            "_view_count": null,
            "_view_module_version": "1.5.0",
            "orientation": "horizontal",
            "min": 0,
            "description_tooltip": null,
            "_model_module": "@jupyter-widgets/controls",
            "layout": "IPY_MODEL_54a625c7ec6b41f1ae58993521a4952e"
          }
        },
        "efc6959368bf4a74afe850458d1b7d20": {
          "model_module": "@jupyter-widgets/controls",
          "model_name": "HTMLModel",
          "state": {
            "_view_name": "HTMLView",
            "style": "IPY_MODEL_6cc8c7877c2841f0a05843da880b0438",
            "_dom_classes": [],
            "description": "",
            "_model_name": "HTMLModel",
            "placeholder": "​",
            "_view_module": "@jupyter-widgets/controls",
            "_model_module_version": "1.5.0",
            "value": " 1654784/? [00:02&lt;00:00, 695876.20it/s]",
            "_view_count": null,
            "_view_module_version": "1.5.0",
            "description_tooltip": null,
            "_model_module": "@jupyter-widgets/controls",
            "layout": "IPY_MODEL_d5dd804c8b024d82a0a21df31b6b54f5"
          }
        },
        "8ad5b4fe50264fa988e788cc79721548": {
          "model_module": "@jupyter-widgets/controls",
          "model_name": "ProgressStyleModel",
          "state": {
            "_view_name": "StyleView",
            "_model_name": "ProgressStyleModel",
            "description_width": "initial",
            "_view_module": "@jupyter-widgets/base",
            "_model_module_version": "1.5.0",
            "_view_count": null,
            "_view_module_version": "1.2.0",
            "bar_color": null,
            "_model_module": "@jupyter-widgets/controls"
          }
        },
        "54a625c7ec6b41f1ae58993521a4952e": {
          "model_module": "@jupyter-widgets/base",
          "model_name": "LayoutModel",
          "state": {
            "_view_name": "LayoutView",
            "grid_template_rows": null,
            "right": null,
            "justify_content": null,
            "_view_module": "@jupyter-widgets/base",
            "overflow": null,
            "_model_module_version": "1.2.0",
            "_view_count": null,
            "flex_flow": null,
            "width": null,
            "min_width": null,
            "border": null,
            "align_items": null,
            "bottom": null,
            "_model_module": "@jupyter-widgets/base",
            "top": null,
            "grid_column": null,
            "overflow_y": null,
            "overflow_x": null,
            "grid_auto_flow": null,
            "grid_area": null,
            "grid_template_columns": null,
            "flex": null,
            "_model_name": "LayoutModel",
            "justify_items": null,
            "grid_row": null,
            "max_height": null,
            "align_content": null,
            "visibility": null,
            "align_self": null,
            "height": null,
            "min_height": null,
            "padding": null,
            "grid_auto_rows": null,
            "grid_gap": null,
            "max_width": null,
            "order": null,
            "_view_module_version": "1.2.0",
            "grid_template_areas": null,
            "object_position": null,
            "object_fit": null,
            "grid_auto_columns": null,
            "margin": null,
            "display": null,
            "left": null
          }
        },
        "6cc8c7877c2841f0a05843da880b0438": {
          "model_module": "@jupyter-widgets/controls",
          "model_name": "DescriptionStyleModel",
          "state": {
            "_view_name": "StyleView",
            "_model_name": "DescriptionStyleModel",
            "description_width": "",
            "_view_module": "@jupyter-widgets/base",
            "_model_module_version": "1.5.0",
            "_view_count": null,
            "_view_module_version": "1.2.0",
            "_model_module": "@jupyter-widgets/controls"
          }
        },
        "d5dd804c8b024d82a0a21df31b6b54f5": {
          "model_module": "@jupyter-widgets/base",
          "model_name": "LayoutModel",
          "state": {
            "_view_name": "LayoutView",
            "grid_template_rows": null,
            "right": null,
            "justify_content": null,
            "_view_module": "@jupyter-widgets/base",
            "overflow": null,
            "_model_module_version": "1.2.0",
            "_view_count": null,
            "flex_flow": null,
            "width": null,
            "min_width": null,
            "border": null,
            "align_items": null,
            "bottom": null,
            "_model_module": "@jupyter-widgets/base",
            "top": null,
            "grid_column": null,
            "overflow_y": null,
            "overflow_x": null,
            "grid_auto_flow": null,
            "grid_area": null,
            "grid_template_columns": null,
            "flex": null,
            "_model_name": "LayoutModel",
            "justify_items": null,
            "grid_row": null,
            "max_height": null,
            "align_content": null,
            "visibility": null,
            "align_self": null,
            "height": null,
            "min_height": null,
            "padding": null,
            "grid_auto_rows": null,
            "grid_gap": null,
            "max_width": null,
            "order": null,
            "_view_module_version": "1.2.0",
            "grid_template_areas": null,
            "object_position": null,
            "object_fit": null,
            "grid_auto_columns": null,
            "margin": null,
            "display": null,
            "left": null
          }
        },
        "b73f5cc7512245d3ac6c1c939de835d2": {
          "model_module": "@jupyter-widgets/controls",
          "model_name": "HBoxModel",
          "state": {
            "_view_name": "HBoxView",
            "_dom_classes": [],
            "_model_name": "HBoxModel",
            "_view_module": "@jupyter-widgets/controls",
            "_model_module_version": "1.5.0",
            "_view_count": null,
            "_view_module_version": "1.5.0",
            "box_style": "",
            "layout": "IPY_MODEL_a4f5a26a5d0b490598423fa62b4910fb",
            "_model_module": "@jupyter-widgets/controls",
            "children": [
              "IPY_MODEL_993f59f2dd0647e0a3f2bc9d0cc3931b",
              "IPY_MODEL_9947e5c58ac84f099c426553583583d8"
            ]
          }
        },
        "a4f5a26a5d0b490598423fa62b4910fb": {
          "model_module": "@jupyter-widgets/base",
          "model_name": "LayoutModel",
          "state": {
            "_view_name": "LayoutView",
            "grid_template_rows": null,
            "right": null,
            "justify_content": null,
            "_view_module": "@jupyter-widgets/base",
            "overflow": null,
            "_model_module_version": "1.2.0",
            "_view_count": null,
            "flex_flow": null,
            "width": null,
            "min_width": null,
            "border": null,
            "align_items": null,
            "bottom": null,
            "_model_module": "@jupyter-widgets/base",
            "top": null,
            "grid_column": null,
            "overflow_y": null,
            "overflow_x": null,
            "grid_auto_flow": null,
            "grid_area": null,
            "grid_template_columns": null,
            "flex": null,
            "_model_name": "LayoutModel",
            "justify_items": null,
            "grid_row": null,
            "max_height": null,
            "align_content": null,
            "visibility": null,
            "align_self": null,
            "height": null,
            "min_height": null,
            "padding": null,
            "grid_auto_rows": null,
            "grid_gap": null,
            "max_width": null,
            "order": null,
            "_view_module_version": "1.2.0",
            "grid_template_areas": null,
            "object_position": null,
            "object_fit": null,
            "grid_auto_columns": null,
            "margin": null,
            "display": null,
            "left": null
          }
        },
        "993f59f2dd0647e0a3f2bc9d0cc3931b": {
          "model_module": "@jupyter-widgets/controls",
          "model_name": "IntProgressModel",
          "state": {
            "_view_name": "ProgressView",
            "style": "IPY_MODEL_16d982c9e74e4180be9e2be19c09a23e",
            "_dom_classes": [],
            "description": "",
            "_model_name": "IntProgressModel",
            "bar_style": "success",
            "max": 1,
            "_view_module": "@jupyter-widgets/controls",
            "_model_module_version": "1.5.0",
            "value": 1,
            "_view_count": null,
            "_view_module_version": "1.5.0",
            "orientation": "horizontal",
            "min": 0,
            "description_tooltip": null,
            "_model_module": "@jupyter-widgets/controls",
            "layout": "IPY_MODEL_6f61e1d238fb474697afee75028bdb26"
          }
        },
        "9947e5c58ac84f099c426553583583d8": {
          "model_module": "@jupyter-widgets/controls",
          "model_name": "HTMLModel",
          "state": {
            "_view_name": "HTMLView",
            "style": "IPY_MODEL_b98bad6e24764dfb93c698b3d8468699",
            "_dom_classes": [],
            "description": "",
            "_model_name": "HTMLModel",
            "placeholder": "​",
            "_view_module": "@jupyter-widgets/controls",
            "_model_module_version": "1.5.0",
            "value": " 8192/? [00:00&lt;00:00, 14229.81it/s]",
            "_view_count": null,
            "_view_module_version": "1.5.0",
            "description_tooltip": null,
            "_model_module": "@jupyter-widgets/controls",
            "layout": "IPY_MODEL_7e270c3758354c3a9c0fde53f432fedd"
          }
        },
        "16d982c9e74e4180be9e2be19c09a23e": {
          "model_module": "@jupyter-widgets/controls",
          "model_name": "ProgressStyleModel",
          "state": {
            "_view_name": "StyleView",
            "_model_name": "ProgressStyleModel",
            "description_width": "initial",
            "_view_module": "@jupyter-widgets/base",
            "_model_module_version": "1.5.0",
            "_view_count": null,
            "_view_module_version": "1.2.0",
            "bar_color": null,
            "_model_module": "@jupyter-widgets/controls"
          }
        },
        "6f61e1d238fb474697afee75028bdb26": {
          "model_module": "@jupyter-widgets/base",
          "model_name": "LayoutModel",
          "state": {
            "_view_name": "LayoutView",
            "grid_template_rows": null,
            "right": null,
            "justify_content": null,
            "_view_module": "@jupyter-widgets/base",
            "overflow": null,
            "_model_module_version": "1.2.0",
            "_view_count": null,
            "flex_flow": null,
            "width": null,
            "min_width": null,
            "border": null,
            "align_items": null,
            "bottom": null,
            "_model_module": "@jupyter-widgets/base",
            "top": null,
            "grid_column": null,
            "overflow_y": null,
            "overflow_x": null,
            "grid_auto_flow": null,
            "grid_area": null,
            "grid_template_columns": null,
            "flex": null,
            "_model_name": "LayoutModel",
            "justify_items": null,
            "grid_row": null,
            "max_height": null,
            "align_content": null,
            "visibility": null,
            "align_self": null,
            "height": null,
            "min_height": null,
            "padding": null,
            "grid_auto_rows": null,
            "grid_gap": null,
            "max_width": null,
            "order": null,
            "_view_module_version": "1.2.0",
            "grid_template_areas": null,
            "object_position": null,
            "object_fit": null,
            "grid_auto_columns": null,
            "margin": null,
            "display": null,
            "left": null
          }
        },
        "b98bad6e24764dfb93c698b3d8468699": {
          "model_module": "@jupyter-widgets/controls",
          "model_name": "DescriptionStyleModel",
          "state": {
            "_view_name": "StyleView",
            "_model_name": "DescriptionStyleModel",
            "description_width": "",
            "_view_module": "@jupyter-widgets/base",
            "_model_module_version": "1.5.0",
            "_view_count": null,
            "_view_module_version": "1.2.0",
            "_model_module": "@jupyter-widgets/controls"
          }
        },
        "7e270c3758354c3a9c0fde53f432fedd": {
          "model_module": "@jupyter-widgets/base",
          "model_name": "LayoutModel",
          "state": {
            "_view_name": "LayoutView",
            "grid_template_rows": null,
            "right": null,
            "justify_content": null,
            "_view_module": "@jupyter-widgets/base",
            "overflow": null,
            "_model_module_version": "1.2.0",
            "_view_count": null,
            "flex_flow": null,
            "width": null,
            "min_width": null,
            "border": null,
            "align_items": null,
            "bottom": null,
            "_model_module": "@jupyter-widgets/base",
            "top": null,
            "grid_column": null,
            "overflow_y": null,
            "overflow_x": null,
            "grid_auto_flow": null,
            "grid_area": null,
            "grid_template_columns": null,
            "flex": null,
            "_model_name": "LayoutModel",
            "justify_items": null,
            "grid_row": null,
            "max_height": null,
            "align_content": null,
            "visibility": null,
            "align_self": null,
            "height": null,
            "min_height": null,
            "padding": null,
            "grid_auto_rows": null,
            "grid_gap": null,
            "max_width": null,
            "order": null,
            "_view_module_version": "1.2.0",
            "grid_template_areas": null,
            "object_position": null,
            "object_fit": null,
            "grid_auto_columns": null,
            "margin": null,
            "display": null,
            "left": null
          }
        }
      }
    }
  },
  "cells": [
    {
      "cell_type": "markdown",
      "metadata": {
        "id": "view-in-github",
        "colab_type": "text"
      },
      "source": [
        "<a href=\"https://colab.research.google.com/github/Chay16/dataflowr-PlutonAI/blob/master/04_convolution_digit_recognizer_PlutonAI.ipynb\" target=\"_parent\"><img src=\"https://colab.research.google.com/assets/colab-badge.svg\" alt=\"Open In Colab\"/></a>"
      ]
    },
    {
      "cell_type": "markdown",
      "metadata": {
        "colab_type": "text",
        "id": "CUiFyiXKHovB"
      },
      "source": [
        "# Lesson 4: Convolutions by examples\n",
        "\n",
        "We'll build our first Convolutional Neural Network (CNN) from scratch."
      ]
    },
    {
      "cell_type": "markdown",
      "metadata": {
        "colab_type": "text",
        "id": "7v7DN_UKHovE"
      },
      "source": [
        "## 1. Preparations"
      ]
    },
    {
      "cell_type": "code",
      "metadata": {
        "colab_type": "code",
        "id": "eQmaHvupHovF",
        "colab": {}
      },
      "source": [
        "%matplotlib inline\n",
        "import math,sys,os,numpy as np\n",
        "from numpy.linalg import norm\n",
        "from matplotlib import pyplot as plt"
      ],
      "execution_count": 0,
      "outputs": []
    },
    {
      "cell_type": "code",
      "metadata": {
        "colab_type": "code",
        "id": "lkRdumG1HovK",
        "colab": {}
      },
      "source": [
        "import torch\n",
        "import torchvision\n",
        "from torchvision import models,transforms,datasets"
      ],
      "execution_count": 0,
      "outputs": []
    },
    {
      "cell_type": "markdown",
      "metadata": {
        "colab_type": "text",
        "id": "3JlQUj5IHovP"
      },
      "source": [
        "Download MNIST data on disk and convert it to pytorch compatible formating.\n",
        "\n",
        "```torchvision.datasets``` features support (download, formatting) for a collection of popular datasets. The list of available datasets in ```torchvision``` can be found [here](http://pytorch.org/docs/master/torchvision/datasets.html).\n",
        "\n",
        "Note that the download is performed only once. The function will always check first if the data is already on disk.\n"
      ]
    },
    {
      "cell_type": "code",
      "metadata": {
        "colab_type": "code",
        "id": "Bv9h8isvHovQ",
        "colab": {
          "base_uri": "https://localhost:8080/",
          "height": 417,
          "referenced_widgets": [
            "12370e054f244387856d1b88d1c6274b",
            "2c4a1d4f82e44248870d4f985e799b7d",
            "7e0d713727834d7688debb9725b22e7b",
            "1c5da45c92234067923fe78014fcc24f",
            "ec30d7e8155f4d3eafc7f415ca8be82c",
            "49a27c44af4a413586286584cd17bda2",
            "1b4b289ecdbe433cad5bb77312ec59a2",
            "632e6383dd264130a052daaddd096ba0",
            "be143c492c73452ab2c27036738a0089",
            "585d69a218d1490094fdc1a11a94b3a2",
            "ea8a2025ec7c42e082e7e1e69245bdb3",
            "b2023122003641ffb565ce965c7057f8",
            "8c4e961bad624ceeadd60fe7843db6ae",
            "ede45d838bcb4a769d36a2f9183f871c",
            "aeb91ae965744ebcb7411518d24a06b6",
            "88688f9af8f14e6a972427eb40128a21",
            "fbe05e02c0b54d1dbe9394745bd38bd4",
            "a7ffd8e9bbfc473a8e3e5bc07a1b7daf",
            "ff519ded73974e9b81b60db74692b170",
            "efc6959368bf4a74afe850458d1b7d20",
            "8ad5b4fe50264fa988e788cc79721548",
            "54a625c7ec6b41f1ae58993521a4952e",
            "6cc8c7877c2841f0a05843da880b0438",
            "d5dd804c8b024d82a0a21df31b6b54f5",
            "b73f5cc7512245d3ac6c1c939de835d2",
            "a4f5a26a5d0b490598423fa62b4910fb",
            "993f59f2dd0647e0a3f2bc9d0cc3931b",
            "9947e5c58ac84f099c426553583583d8",
            "16d982c9e74e4180be9e2be19c09a23e",
            "6f61e1d238fb474697afee75028bdb26",
            "b98bad6e24764dfb93c698b3d8468699",
            "7e270c3758354c3a9c0fde53f432fedd"
          ]
        },
        "outputId": "f2951d75-9fa7-42c3-e818-226874fef3ac"
      },
      "source": [
        "root_dir = './data/MNIST/'\n",
        "torchvision.datasets.MNIST(root=root_dir,download=True)"
      ],
      "execution_count": 3,
      "outputs": [
        {
          "output_type": "stream",
          "text": [
            "Downloading http://yann.lecun.com/exdb/mnist/train-images-idx3-ubyte.gz to ./data/MNIST/MNIST/raw/train-images-idx3-ubyte.gz\n"
          ],
          "name": "stdout"
        },
        {
          "output_type": "display_data",
          "data": {
            "application/vnd.jupyter.widget-view+json": {
              "model_id": "12370e054f244387856d1b88d1c6274b",
              "version_minor": 0,
              "version_major": 2
            },
            "text/plain": [
              "HBox(children=(IntProgress(value=1, bar_style='info', max=1), HTML(value='')))"
            ]
          },
          "metadata": {
            "tags": []
          }
        },
        {
          "output_type": "stream",
          "text": [
            "Extracting ./data/MNIST/MNIST/raw/train-images-idx3-ubyte.gz to ./data/MNIST/MNIST/raw\n",
            "Downloading http://yann.lecun.com/exdb/mnist/train-labels-idx1-ubyte.gz to ./data/MNIST/MNIST/raw/train-labels-idx1-ubyte.gz\n"
          ],
          "name": "stdout"
        },
        {
          "output_type": "display_data",
          "data": {
            "application/vnd.jupyter.widget-view+json": {
              "model_id": "be143c492c73452ab2c27036738a0089",
              "version_minor": 0,
              "version_major": 2
            },
            "text/plain": [
              "HBox(children=(IntProgress(value=1, bar_style='info', max=1), HTML(value='')))"
            ]
          },
          "metadata": {
            "tags": []
          }
        },
        {
          "output_type": "stream",
          "text": [
            "Extracting ./data/MNIST/MNIST/raw/train-labels-idx1-ubyte.gz to ./data/MNIST/MNIST/raw\n",
            "Downloading http://yann.lecun.com/exdb/mnist/t10k-images-idx3-ubyte.gz to ./data/MNIST/MNIST/raw/t10k-images-idx3-ubyte.gz\n"
          ],
          "name": "stdout"
        },
        {
          "output_type": "display_data",
          "data": {
            "application/vnd.jupyter.widget-view+json": {
              "model_id": "fbe05e02c0b54d1dbe9394745bd38bd4",
              "version_minor": 0,
              "version_major": 2
            },
            "text/plain": [
              "HBox(children=(IntProgress(value=1, bar_style='info', max=1), HTML(value='')))"
            ]
          },
          "metadata": {
            "tags": []
          }
        },
        {
          "output_type": "stream",
          "text": [
            "Extracting ./data/MNIST/MNIST/raw/t10k-images-idx3-ubyte.gz to ./data/MNIST/MNIST/raw\n",
            "Downloading http://yann.lecun.com/exdb/mnist/t10k-labels-idx1-ubyte.gz to ./data/MNIST/MNIST/raw/t10k-labels-idx1-ubyte.gz\n"
          ],
          "name": "stdout"
        },
        {
          "output_type": "display_data",
          "data": {
            "application/vnd.jupyter.widget-view+json": {
              "model_id": "b73f5cc7512245d3ac6c1c939de835d2",
              "version_minor": 0,
              "version_major": 2
            },
            "text/plain": [
              "HBox(children=(IntProgress(value=1, bar_style='info', max=1), HTML(value='')))"
            ]
          },
          "metadata": {
            "tags": []
          }
        },
        {
          "output_type": "stream",
          "text": [
            "Extracting ./data/MNIST/MNIST/raw/t10k-labels-idx1-ubyte.gz to ./data/MNIST/MNIST/raw\n",
            "Processing...\n",
            "Done!\n"
          ],
          "name": "stdout"
        },
        {
          "output_type": "execute_result",
          "data": {
            "text/plain": [
              "Dataset MNIST\n",
              "    Number of datapoints: 60000\n",
              "    Root location: ./data/MNIST/\n",
              "    Split: Train"
            ]
          },
          "metadata": {
            "tags": []
          },
          "execution_count": 3
        },
        {
          "output_type": "stream",
          "text": [
            "\n",
            "\n",
            "\n"
          ],
          "name": "stdout"
        }
      ]
    },
    {
      "cell_type": "markdown",
      "metadata": {
        "colab_type": "text",
        "id": "XW1c2YmiHovW"
      },
      "source": [
        "MNIST datasets consists of small images of hand-written digits. The images are grayscale and have size 28 x 28. There are 60,000 training images and 10,000 testing images."
      ]
    },
    {
      "cell_type": "code",
      "metadata": {
        "colab_type": "code",
        "id": "p9MA5fqrHovZ",
        "colab": {}
      },
      "source": [
        "train_set = torchvision.datasets.MNIST(root=root_dir, train=True, download=True)"
      ],
      "execution_count": 0,
      "outputs": []
    },
    {
      "cell_type": "markdown",
      "metadata": {
        "colab_type": "text",
        "id": "yaLXqwxaHovg"
      },
      "source": [
        "Define and initialize a data loader for the MNIST data already downloaded on disk."
      ]
    },
    {
      "cell_type": "code",
      "metadata": {
        "colab_type": "code",
        "id": "uEyTgg0THovj",
        "colab": {}
      },
      "source": [
        "MNIST_dataset = torch.utils.data.DataLoader(train_set, batch_size=1, shuffle=True, num_workers=1)"
      ],
      "execution_count": 0,
      "outputs": []
    },
    {
      "cell_type": "markdown",
      "metadata": {
        "colab_type": "text",
        "id": "f12CxE8XHovo"
      },
      "source": [
        "For the current notebook, we can format data as _numpy ndarrays_ which are easier to plot in matplotlib. The same operations can be easily performed on _pytorch Tensors_."
      ]
    },
    {
      "cell_type": "code",
      "metadata": {
        "colab_type": "code",
        "id": "_UnuFlpWHovq",
        "colab": {}
      },
      "source": [
        "images = train_set.data.numpy().astype(np.float32)/255\n",
        "labels = train_set.targets.numpy()"
      ],
      "execution_count": 0,
      "outputs": []
    },
    {
      "cell_type": "code",
      "metadata": {
        "colab_type": "code",
        "id": "RpkGWiaqHovz",
        "colab": {
          "base_uri": "https://localhost:8080/",
          "height": 34
        },
        "outputId": "de4fed02-2a9d-4e21-c138-c82e10f6841a"
      },
      "source": [
        "print(images.shape,labels.shape)"
      ],
      "execution_count": 7,
      "outputs": [
        {
          "output_type": "stream",
          "text": [
            "(60000, 28, 28) (60000,)\n"
          ],
          "name": "stdout"
        }
      ]
    },
    {
      "cell_type": "markdown",
      "metadata": {
        "colab_type": "text",
        "id": "tPtQoS_-HowJ"
      },
      "source": [
        "## 2. Data visualization\n",
        "\n",
        "For convenience we define a few functions for formatting and plotting our image data"
      ]
    },
    {
      "cell_type": "code",
      "metadata": {
        "colab_type": "code",
        "id": "F3lsBB7ZHowK",
        "colab": {}
      },
      "source": [
        "# plot multiple images\n",
        "def plots(ims, interp=False, titles=None):\n",
        "    ims=np.array(ims)\n",
        "    mn,mx=ims.min(),ims.max()\n",
        "    f = plt.figure(figsize=(12,24))\n",
        "    for i in range(len(ims)):\n",
        "        sp=f.add_subplot(1, len(ims), i+1)\n",
        "        if not titles is None: sp.set_title(titles[i], fontsize=18)\n",
        "        plt.imshow(ims[i], interpolation=None if interp else 'none', vmin=mn,vmax=mx)\n",
        "\n",
        "# plot a single image\n",
        "def plot(im, interp=False):\n",
        "    f = plt.figure(figsize=(3,6), frameon=True)\n",
        "    plt.imshow(im, interpolation=None if interp else 'none')\n",
        "\n",
        "plt.gray()\n",
        "plt.close()"
      ],
      "execution_count": 0,
      "outputs": []
    },
    {
      "cell_type": "code",
      "metadata": {
        "colab_type": "code",
        "id": "vfxlah5eHowW",
        "colab": {
          "base_uri": "https://localhost:8080/",
          "height": 216
        },
        "outputId": "609ad948-0af1-4cac-a0a2-872bcdb57e18"
      },
      "source": [
        "plot(images[5000])"
      ],
      "execution_count": 9,
      "outputs": [
        {
          "output_type": "display_data",
          "data": {
            "image/png": "[encoded data removed]",
            "text/plain": [
              "<Figure size 216x432 with 1 Axes>"
            ]
          },
          "metadata": {
            "tags": [],
            "needs_background": "light"
          }
        }
      ]
    },
    {
      "cell_type": "code",
      "metadata": {
        "colab_type": "code",
        "id": "VY5890I1Howd",
        "colab": {
          "base_uri": "https://localhost:8080/",
          "height": 34
        },
        "outputId": "b13e121e-ba27-4b19-da27-09bebe2d3b56"
      },
      "source": [
        "labels[5000]"
      ],
      "execution_count": 10,
      "outputs": [
        {
          "output_type": "execute_result",
          "data": {
            "text/plain": [
              "7"
            ]
          },
          "metadata": {
            "tags": []
          },
          "execution_count": 10
        }
      ]
    },
    {
      "cell_type": "code",
      "metadata": {
        "colab_type": "code",
        "id": "OEWipA5iHown",
        "colab": {
          "base_uri": "https://localhost:8080/",
          "height": 183
        },
        "outputId": "dc325f76-4cad-4de8-be2a-cbd6d2930dc7"
      },
      "source": [
        "plots(images[5000:5005], titles=labels[5000:5005])"
      ],
      "execution_count": 11,
      "outputs": [
        {
          "output_type": "display_data",
          "data": {
            "image/png": "[encoded data removed]",
            "text/plain": [
              "<Figure size 864x1728 with 5 Axes>"
            ]
          },
          "metadata": {
            "tags": [],
            "needs_background": "light"
          }
        }
      ]
    },
    {
      "cell_type": "markdown",
      "metadata": {
        "colab_type": "text",
        "id": "jyc9VagHHo0S"
      },
      "source": [
        "## 3. A simple classifier\n",
        "\n",
        "In this section we will construct a basic binary classifier.\n",
        "Our classifier will tell us whether a given image depicts a _one_ or an _eight_. \n",
        "\n",
        "We fetch all images from the _eight_ class and from the _one_ class."
      ]
    },
    {
      "cell_type": "code",
      "metadata": {
        "colab_type": "code",
        "id": "ogJld-3qJDpW",
        "colab": {}
      },
      "source": [
        "n=len(images)"
      ],
      "execution_count": 0,
      "outputs": []
    },
    {
      "cell_type": "code",
      "metadata": {
        "colab_type": "code",
        "id": "Itlgssc9Ho0U",
        "colab": {}
      },
      "source": [
        "eights=[images[i] for i in range(n) if labels[i]==8]\n",
        "ones=[images[i] for i in range(n) if labels[i]==1]"
      ],
      "execution_count": 0,
      "outputs": []
    },
    {
      "cell_type": "code",
      "metadata": {
        "colab_type": "code",
        "id": "RGY2P44IHo0X",
        "colab": {
          "base_uri": "https://localhost:8080/",
          "height": 34
        },
        "outputId": "0178c51d-89fe-4a34-d51d-5530185047e2"
      },
      "source": [
        "len(eights), len(ones)"
      ],
      "execution_count": 14,
      "outputs": [
        {
          "output_type": "execute_result",
          "data": {
            "text/plain": [
              "(5851, 6742)"
            ]
          },
          "metadata": {
            "tags": []
          },
          "execution_count": 14
        }
      ]
    },
    {
      "cell_type": "code",
      "metadata": {
        "colab_type": "code",
        "id": "CFmNNrKAHo0f",
        "colab": {
          "base_uri": "https://localhost:8080/",
          "height": 313
        },
        "outputId": "6c4c43b1-7b6e-45f6-d8ff-cbe39ec0cd54"
      },
      "source": [
        "plots(eights[:5])\n",
        "plots(ones[:5])"
      ],
      "execution_count": 15,
      "outputs": [
        {
          "output_type": "display_data",
          "data": {
            "image/png": "[encoded data removed]",
            "text/plain": [
              "<Figure size 864x1728 with 5 Axes>"
            ]
          },
          "metadata": {
            "tags": [],
            "needs_background": "light"
          }
        },
        {
          "output_type": "display_data",
          "data": {
            "image/png": "[encoded data removed]",
            "text/plain": [
              "<Figure size 864x1728 with 5 Axes>"
            ]
          },
          "metadata": {
            "tags": [],
            "needs_background": "light"
          }
        }
      ]
    },
    {
      "cell_type": "markdown",
      "metadata": {
        "colab_type": "text",
        "id": "3Mxs-x1pHo0l"
      },
      "source": [
        "We keep the first 1000 digits for the test set and we average all the remaining digits."
      ]
    },
    {
      "cell_type": "code",
      "metadata": {
        "colab_type": "code",
        "id": "MEA8brOGHo0n",
        "colab": {
          "base_uri": "https://localhost:8080/",
          "height": 216
        },
        "outputId": "98b0f844-f4f6-4281-9ba1-c582a4710634"
      },
      "source": [
        "raws8 =  np.mean(eights[1000:],axis=0)\n",
        "\n",
        "plot(raws8)"
      ],
      "execution_count": 16,
      "outputs": [
        {
          "output_type": "display_data",
          "data": {
            "image/png": "[encoded data removed]",
            "text/plain": [
              "<Figure size 216x432 with 1 Axes>"
            ]
          },
          "metadata": {
            "tags": [],
            "needs_background": "light"
          }
        }
      ]
    },
    {
      "cell_type": "markdown",
      "metadata": {
        "id": "ipyVJA9OMUH-",
        "colab_type": "text"
      },
      "source": [
        "We now do the same thing with the ones:"
      ]
    },
    {
      "cell_type": "code",
      "metadata": {
        "colab_type": "code",
        "id": "Aa3a1Le2Ho07",
        "colab": {
          "base_uri": "https://localhost:8080/",
          "height": 216
        },
        "outputId": "052b65e9-ac16-4129-e54c-976f50cc1e62"
      },
      "source": [
        "raws1 =  np.mean(ones[1000:],axis=0)\n",
        "\n",
        "plot(raws1)"
      ],
      "execution_count": 17,
      "outputs": [
        {
          "output_type": "display_data",
          "data": {
            "image/png": "[encoded data removed]",
            "text/plain": [
              "<Figure size 216x432 with 1 Axes>"
            ]
          },
          "metadata": {
            "tags": [],
            "needs_background": "light"
          }
        }
      ]
    },
    {
      "cell_type": "markdown",
      "metadata": {
        "id": "p6UJ-NicMUIA",
        "colab_type": "text"
      },
      "source": [
        "We built a 'typical representative' of the eights and a 'typical representative' of the ones. Now for a new sample from the test set, we compute the distance between this sample and our two representatives and classify the sample with the label of the closest representative.\n",
        "\n",
        "For the distance between images, we just take the pixelwise squared distance."
      ]
    },
    {
      "cell_type": "code",
      "metadata": {
        "colab_type": "code",
        "id": "3ZML33QNHo1G",
        "colab": {}
      },
      "source": [
        "# sum of squared distance\n",
        "def sse(a,b): return ((a-b)**2).sum()\n",
        "\n",
        "# return 1 if closest to 8 and 0 otherwise\n",
        "def is8_raw_n2(im): return 1 if sse(im,raws1) > sse(im,raws8) else 0"
      ],
      "execution_count": 0,
      "outputs": []
    },
    {
      "cell_type": "code",
      "metadata": {
        "id": "IMqqBDrMMUID",
        "colab_type": "code",
        "colab": {
          "base_uri": "https://localhost:8080/",
          "height": 34
        },
        "outputId": "a1ec5016-b035-4ad9-f259-6e199081aedb"
      },
      "source": [
        "nb_8_predicted_8, nb_1_predicted_8 = [np.array([is8_raw_n2(im) for im in ims]).sum() for ims in [eights[:1000],ones[:1000]]]\n",
        "\n",
        "nb_8_predicted_1, nb_1_predicted_1 = [np.array([(1-is8_raw_n2(im)) for im in ims]).sum() for ims in [eights[:1000],ones[:1000]]]\n",
        "\n",
        "# just to check \n",
        "print(nb_8_predicted_1+nb_8_predicted_8, nb_1_predicted_1+nb_1_predicted_8)"
      ],
      "execution_count": 19,
      "outputs": [
        {
          "output_type": "stream",
          "text": [
            "1000 1000\n"
          ],
          "name": "stdout"
        }
      ]
    },
    {
      "cell_type": "markdown",
      "metadata": {
        "colab_type": "text",
        "id": "CFUntUqdHo1e"
      },
      "source": [
        "<img src=\"https://upload.wikimedia.org/wikipedia/commons/thumb/2/26/Precisionrecall.svg/1024px-Precisionrecall.svg.png\" alt=\"Drawing\" style=\"width: 500px;\"/>\n",
        "\n",
        "source [wikipedia](https://en.wikipedia.org/wiki/Precision_and_recall)"
      ]
    },
    {
      "cell_type": "code",
      "metadata": {
        "colab_type": "code",
        "id": "aaYe8malHo1f",
        "colab": {
          "base_uri": "https://localhost:8080/",
          "height": 68
        },
        "outputId": "42cf510a-e841-46d2-b5d4-158456528124"
      },
      "source": [
        "def compute_scores(nb_8_predicted_8,nb_8_predicted_1,nb_1_predicted_1,nb_1_predicted_8):\n",
        "    Precision_8 = nb_8_predicted_8/(nb_8_predicted_8+nb_1_predicted_8)\n",
        "    Recall_8 = nb_8_predicted_8/(nb_8_predicted_1+nb_8_predicted_8)\n",
        "    Precision_1 = nb_1_predicted_1/(nb_1_predicted_1+nb_8_predicted_1)\n",
        "    Recall_1 = nb_1_predicted_1/(nb_1_predicted_1+nb_1_predicted_8)\n",
        "    return Precision_8, Recall_8, Precision_1, Recall_1\n",
        "\n",
        "Precision_8, Recall_8, Precision_1, Recall_1 = compute_scores(nb_8_predicted_8,nb_8_predicted_1,nb_1_predicted_1,nb_1_predicted_8)\n",
        "\n",
        "print('precision 8:', Precision_8, 'recall 8:', Recall_8)\n",
        "print('precision 1:', Precision_1, 'recall 1:', Recall_1)\n",
        "print('accuracy :', (Recall_1+Recall_8)/2)"
      ],
      "execution_count": 20,
      "outputs": [
        {
          "output_type": "stream",
          "text": [
            "precision 8: 0.9712460063897763 recall 8: 0.912\n",
            "precision 1: 0.9170593779453345 recall 1: 0.973\n",
            "accuracy : 0.9425\n"
          ],
          "name": "stdout"
        }
      ]
    },
    {
      "cell_type": "markdown",
      "metadata": {
        "id": "W7UtzI0uMUIH",
        "colab_type": "text"
      },
      "source": [
        "This is our baseline for our binary classification task. Now your task will be to do better with convolutions!"
      ]
    },
    {
      "cell_type": "markdown",
      "metadata": {
        "colab_type": "text",
        "id": "unXh3clNHoyM"
      },
      "source": [
        "## 4. Filters and convolutions\n",
        "\n",
        "Let start with this visual explanation of [Interactive image kernels](http://setosa.io/ev/image-kernels/)\n",
        "\n",
        "In some fields, convolution or filtering can be better understood as _correlations_. \n",
        "In practice we slide the filter matrix over the image (a bigger matrix) always selecting patches from the image with the same size as the filter. We compute the dot product between the filter and the image patch and store the scalar response which reflects the degree of similarity/correlation between the filter and image patch.\n",
        "\n",
        "Here is a simple 3x3 filter, ie a 3x3 matrix (see [Sobel operator](https://en.wikipedia.org/wiki/Sobel_operator) for more examples)"
      ]
    },
    {
      "cell_type": "code",
      "metadata": {
        "colab_type": "code",
        "id": "OWiIsQ38HoyP",
        "colab": {
          "base_uri": "https://localhost:8080/",
          "height": 219
        },
        "outputId": "71dc81f9-de8c-4503-ce6b-78a7148976f9"
      },
      "source": [
        "top=[[-1,-1,-1],\n",
        "     [ 1, 1, 1],\n",
        "     [ 0, 0, 0]]\n",
        "\n",
        "plot(top)"
      ],
      "execution_count": 21,
      "outputs": [
        {
          "output_type": "display_data",
          "data": {
            "image/png": "[encoded data removed]",
            "text/plain": [
              "<Figure size 216x432 with 1 Axes>"
            ]
          },
          "metadata": {
            "tags": [],
            "needs_background": "light"
          }
        }
      ]
    },
    {
      "cell_type": "markdown",
      "metadata": {
        "id": "0dr63ciIMUIK",
        "colab_type": "text"
      },
      "source": [
        "We now create a toy image, to understand how convolutions operate."
      ]
    },
    {
      "cell_type": "code",
      "metadata": {
        "colab_type": "code",
        "id": "jipouDFOHoyn",
        "colab": {
          "base_uri": "https://localhost:8080/",
          "height": 216
        },
        "outputId": "d04a8f5a-c7e1-48d1-d547-530f4fbfc8d1"
      },
      "source": [
        "cross = np.zeros((28,28))\n",
        "cross += np.eye(28)\n",
        "for i in range(4):\n",
        "    cross[12+i,:] = np.ones(28)\n",
        "    cross[:,12+i] = np.ones(28)\n",
        "\n",
        "plot(cross)"
      ],
      "execution_count": 22,
      "outputs": [
        {
          "output_type": "display_data",
          "data": {
            "image/png": "[encoded data removed]",
            "text/plain": [
              "<Figure size 216x432 with 1 Axes>"
            ]
          },
          "metadata": {
            "tags": [],
            "needs_background": "light"
          }
        }
      ]
    },
    {
      "cell_type": "markdown",
      "metadata": {
        "colab_type": "text",
        "id": "g0j7I3OKHoyt"
      },
      "source": [
        "Our `top` filter should highlight top horizontal border in the image."
      ]
    },
    {
      "cell_type": "code",
      "metadata": {
        "colab_type": "code",
        "id": "zXc6nlfYHoyx",
        "colab": {
          "base_uri": "https://localhost:8080/",
          "height": 216
        },
        "outputId": "095ca2f2-09d1-456c-d6da-03277e9ac1b2"
      },
      "source": [
        "from scipy.ndimage.filters import convolve, correlate\n",
        "\n",
        "corr_cross = correlate(cross,top)\n",
        "\n",
        "plot(corr_cross)"
      ],
      "execution_count": 23,
      "outputs": [
        {
          "output_type": "display_data",
          "data": {
            "image/png": "[encoded data removed]",
            "text/plain": [
              "<Figure size 216x432 with 1 Axes>"
            ]
          },
          "metadata": {
            "tags": [],
            "needs_background": "light"
          }
        }
      ]
    },
    {
      "cell_type": "code",
      "metadata": {
        "colab_type": "code",
        "id": "5mi2j-hFHoy3",
        "colab": {}
      },
      "source": [
        "?correlate"
      ],
      "execution_count": 0,
      "outputs": []
    },
    {
      "cell_type": "markdown",
      "metadata": {
        "id": "OdlQ_Kz8MUIS",
        "colab_type": "text"
      },
      "source": [
        "What is done on the border of the image? \n",
        "\n",
        "## Padding\n",
        "\n",
        "![padding](https://mlelarge.github.io/dataflowr/PlutonAI/img/padding_conv.gif)\n",
        "\n",
        "source: [Convolution animations](https://github.com/vdumoulin/conv_arithmetic/blob/master/README.md)"
      ]
    },
    {
      "cell_type": "code",
      "metadata": {
        "colab_type": "code",
        "id": "bPAEi-4gHoy-",
        "colab": {
          "base_uri": "https://localhost:8080/",
          "height": 216
        },
        "outputId": "eaddf7d4-a678-45f6-b4e6-9d4638547bc2"
      },
      "source": [
        "# to see the role of padding\n",
        "corr_cross = correlate(cross,top, mode='constant')\n",
        "plot(corr_cross)"
      ],
      "execution_count": 25,
      "outputs": [
        {
          "output_type": "display_data",
          "data": {
            "image/png": "[encoded data removed]",
            "text/plain": [
              "<Figure size 216x432 with 1 Axes>"
            ]
          },
          "metadata": {
            "tags": [],
            "needs_background": "light"
          }
        }
      ]
    },
    {
      "cell_type": "code",
      "metadata": {
        "colab_type": "code",
        "id": "iSTy0Ka1HozC",
        "colab": {
          "base_uri": "https://localhost:8080/",
          "height": 216
        },
        "outputId": "aefcadd4-f992-4382-86ed-a79362d47183"
      },
      "source": [
        "corrtop = correlate(images[5000], top)\n",
        "plot(corrtop)"
      ],
      "execution_count": 26,
      "outputs": [
        {
          "output_type": "display_data",
          "data": {
            "image/png": "[encoded data removed]",
            "text/plain": [
              "<Figure size 216x432 with 1 Axes>"
            ]
          },
          "metadata": {
            "tags": [],
            "needs_background": "light"
          }
        }
      ]
    },
    {
      "cell_type": "markdown",
      "metadata": {
        "colab_type": "text",
        "id": "6kp8ArumHozJ"
      },
      "source": [
        "By rotating the filter with 90 degrees and calling the ```convolve``` function we get the same response as with the previously called ```correlate``` function."
      ]
    },
    {
      "cell_type": "code",
      "metadata": {
        "colab_type": "code",
        "id": "K2m8hh6XHozL",
        "colab": {
          "base_uri": "https://localhost:8080/",
          "height": 68
        },
        "outputId": "450f8ed9-1b15-4c32-a74b-a568be524104"
      },
      "source": [
        "np.rot90(top, 1)"
      ],
      "execution_count": 27,
      "outputs": [
        {
          "output_type": "execute_result",
          "data": {
            "text/plain": [
              "array([[-1,  1,  0],\n",
              "       [-1,  1,  0],\n",
              "       [-1,  1,  0]])"
            ]
          },
          "metadata": {
            "tags": []
          },
          "execution_count": 27
        }
      ]
    },
    {
      "cell_type": "code",
      "metadata": {
        "colab_type": "code",
        "id": "MBratD5iHozV",
        "scrolled": true,
        "colab": {
          "base_uri": "https://localhost:8080/",
          "height": 233
        },
        "outputId": "2f2f6b87-de91-47c2-9344-b07df4ff17ae"
      },
      "source": [
        "convtop = convolve(images[5000], np.rot90(top,2))\n",
        "plot(convtop)\n",
        "np.allclose(convtop, corrtop)"
      ],
      "execution_count": 28,
      "outputs": [
        {
          "output_type": "execute_result",
          "data": {
            "text/plain": [
              "True"
            ]
          },
          "metadata": {
            "tags": []
          },
          "execution_count": 28
        },
        {
          "output_type": "display_data",
          "data": {
            "image/png": "[encoded data removed]",
            "text/plain": [
              "<Figure size 216x432 with 1 Axes>"
            ]
          },
          "metadata": {
            "tags": [],
            "needs_background": "light"
          }
        }
      ]
    },
    {
      "cell_type": "markdown",
      "metadata": {
        "colab_type": "text",
        "id": "XqFCxFXoHozd"
      },
      "source": [
        "Let's generate a few more variants of our simple 3x3 filter"
      ]
    },
    {
      "cell_type": "code",
      "metadata": {
        "colab_type": "code",
        "id": "A48nt8YqHoze",
        "colab": {
          "base_uri": "https://localhost:8080/",
          "height": 197
        },
        "outputId": "cf62bc29-80dc-4f92-ce79-5f3399e9fb62"
      },
      "source": [
        "straights=[np.rot90(top,i) for i in range(4)]\n",
        "plots(straights)"
      ],
      "execution_count": 29,
      "outputs": [
        {
          "output_type": "display_data",
          "data": {
            "image/png": "[encoded data removed]",
            "text/plain": [
              "<Figure size 864x1728 with 4 Axes>"
            ]
          },
          "metadata": {
            "tags": [],
            "needs_background": "light"
          }
        }
      ]
    },
    {
      "cell_type": "markdown",
      "metadata": {
        "colab_type": "text",
        "id": "cv5eeO7gHozn"
      },
      "source": [
        "We proceed similarly to generate a set of filters with a different behavior"
      ]
    },
    {
      "cell_type": "code",
      "metadata": {
        "colab_type": "code",
        "id": "xhJFADUoHozr",
        "colab": {
          "base_uri": "https://localhost:8080/",
          "height": 197
        },
        "outputId": "db950f1c-d9b4-4947-cf9d-2305f4ad8108"
      },
      "source": [
        "br=[[ 0, 0, 1],\n",
        "    [ 0, 1,-1.5],\n",
        "    [ 1,-1.5, 0]]\n",
        "\n",
        "diags = [np.rot90(br,i) for i in range(4)]\n",
        "plots(diags)"
      ],
      "execution_count": 30,
      "outputs": [
        {
          "output_type": "display_data",
          "data": {
            "image/png": "[encoded data removed]",
            "text/plain": [
              "<Figure size 864x1728 with 4 Axes>"
            ]
          },
          "metadata": {
            "tags": [],
            "needs_background": "light"
          }
        }
      ]
    },
    {
      "cell_type": "markdown",
      "metadata": {
        "colab_type": "text",
        "id": "zhGJF9gNHoz0"
      },
      "source": [
        "We can compose filters to obtain more complex patterns"
      ]
    },
    {
      "cell_type": "code",
      "metadata": {
        "colab_type": "code",
        "id": "k9ETAdFKHoz1",
        "colab": {
          "base_uri": "https://localhost:8080/",
          "height": 122
        },
        "outputId": "8dc73ba9-94c5-407c-d3e2-9f47b7e295c2"
      },
      "source": [
        "rots = straights + diags\n",
        "corrs_cross = [correlate(cross, rot) for rot in rots]\n",
        "plots(corrs_cross)"
      ],
      "execution_count": 31,
      "outputs": [
        {
          "output_type": "display_data",
          "data": {
            "image/png": "[encoded data removed]",
            "text/plain": [
              "<Figure size 864x1728 with 8 Axes>"
            ]
          },
          "metadata": {
            "tags": [],
            "needs_background": "light"
          }
        }
      ]
    },
    {
      "cell_type": "code",
      "metadata": {
        "colab_type": "code",
        "id": "5GnSnG1HHoz5",
        "colab": {
          "base_uri": "https://localhost:8080/",
          "height": 122
        },
        "outputId": "b329441a-d91e-4702-fa00-bee22d1858e0"
      },
      "source": [
        "rots = straights + diags\n",
        "corrs = [correlate(images[5000], rot) for rot in rots]\n",
        "plots(corrs)"
      ],
      "execution_count": 32,
      "outputs": [
        {
          "output_type": "display_data",
          "data": {
            "image/png": "[encoded data removed]",
            "text/plain": [
              "<Figure size 864x1728 with 8 Axes>"
            ]
          },
          "metadata": {
            "tags": [],
            "needs_background": "light"
          }
        }
      ]
    },
    {
      "cell_type": "markdown",
      "metadata": {
        "colab_type": "text",
        "id": "plV6mfsjHoz-"
      },
      "source": [
        "Next we illustrate the effect of downsampling.\n",
        "We select the most basic downsampling technique: __max pooling__. We keep only the maximum value for sliding windows of size ```7x7```.\n",
        "__Max pooling__ is a handy technique with a few useful perks:\n",
        "- since it selects the maximum values it ensures invariance to translations\n",
        "- reducing the size is helpful since data becomes more compact and easier to compare\n",
        "- we will see later in this course that since max pooling reduces the size of our images, the operations performed later on in the network have bigger receptive field / concern a bigger patch in the input image and allow the discovery of higher level patterns."
      ]
    },
    {
      "cell_type": "code",
      "metadata": {
        "colab_type": "code",
        "id": "QfR3u9FYHo0E",
        "colab": {
          "base_uri": "https://localhost:8080/",
          "height": 119
        },
        "outputId": "352874a0-91ab-4fc1-90c3-3c2bf9901cdf"
      },
      "source": [
        "import skimage\n",
        "\n",
        "from skimage.measure import block_reduce\n",
        "\n",
        "def pool(im): return block_reduce(im, (7,7), np.max)\n",
        "\n",
        "plots([pool(im) for im in corrs])"
      ],
      "execution_count": 33,
      "outputs": [
        {
          "output_type": "display_data",
          "data": {
            "image/png": "[encoded data removed]",
            "text/plain": [
              "<Figure size 864x1728 with 8 Axes>"
            ]
          },
          "metadata": {
            "tags": [],
            "needs_background": "light"
          }
        }
      ]
    },
    {
      "cell_type": "markdown",
      "metadata": {
        "colab_type": "text",
        "id": "Ud1VbsiRHo1s"
      },
      "source": [
        "We now build a classifier with convolutions.\n",
        "\n",
        "To this end we select a set of training images depicting _eights_ and _ones_, we convolve them with our set of filters, pool them and average them for each class and filter. We will thus obtain a set of _representative_ signatures for _eights_ and for _ones_. \n",
        "Given a new test image we compute its features by convolution and pooling with the same filters and then compare them with the _representative_ features. The class with the most _similar_ features is chosen as prediction.\n",
        "\n",
        "\n",
        "We keep 1000 images of _eight_ for the test set and use the remaining ones for the training: we convolve them with our bank of filters, perform max pooling on the responses and store them in ```pool8```."
      ]
    },
    {
      "cell_type": "code",
      "metadata": {
        "colab_type": "code",
        "id": "ptgnsYPmHo1u",
        "colab": {}
      },
      "source": [
        "pool8 = [np.array([pool(correlate(im, rot)) for im in eights[1000:]]) for rot in rots]"
      ],
      "execution_count": 0,
      "outputs": []
    },
    {
      "cell_type": "code",
      "metadata": {
        "colab_type": "code",
        "id": "UoxKz3LNHo10",
        "colab": {
          "base_uri": "https://localhost:8080/",
          "height": 34
        },
        "outputId": "4b1a2a62-da1c-4958-892f-71ef3b744a6c"
      },
      "source": [
        "len(pool8), pool8[0].shape"
      ],
      "execution_count": 35,
      "outputs": [
        {
          "output_type": "execute_result",
          "data": {
            "text/plain": [
              "(8, (4851, 4, 4))"
            ]
          },
          "metadata": {
            "tags": []
          },
          "execution_count": 35
        }
      ]
    },
    {
      "cell_type": "markdown",
      "metadata": {
        "colab_type": "text",
        "id": "hUSDBnm9Ho13"
      },
      "source": [
        "We plot the result of the first filter+pooling on the first 5 _eights_ in our set. "
      ]
    },
    {
      "cell_type": "code",
      "metadata": {
        "colab_type": "code",
        "id": "zlqkFm1RHo14",
        "colab": {
          "base_uri": "https://localhost:8080/",
          "height": 163
        },
        "outputId": "3f37089b-875b-4278-8f4a-40f97541034f"
      },
      "source": [
        "plots(pool8[0][0:5])"
      ],
      "execution_count": 36,
      "outputs": [
        {
          "output_type": "display_data",
          "data": {
            "image/png": "[encoded data removed]",
            "text/plain": [
              "<Figure size 864x1728 with 5 Axes>"
            ]
          },
          "metadata": {
            "tags": [],
            "needs_background": "light"
          }
        }
      ]
    },
    {
      "cell_type": "markdown",
      "metadata": {
        "colab_type": "text",
        "id": "5i4oiuoeHo17"
      },
      "source": [
        "For the 3 first _eights_ in our set, we plot the result of the 8 filters+pooling"
      ]
    },
    {
      "cell_type": "code",
      "metadata": {
        "colab_type": "code",
        "id": "Av_HAmtJHo17",
        "colab": {
          "base_uri": "https://localhost:8080/",
          "height": 425
        },
        "outputId": "d07fed3a-fe04-4eef-dee3-f1ff40bed9f5"
      },
      "source": [
        "plots([pool8[i][0] for i in range(8)])\n",
        "plots([pool8[i][1] for i in range(8)])\n",
        "plots([pool8[i][2] for i in range(8)])\n",
        "plots([pool8[i][3] for i in range(8)])"
      ],
      "execution_count": 37,
      "outputs": [
        {
          "output_type": "display_data",
          "data": {
            "image/png": "[encoded data removed]",
            "text/plain": [
              "<Figure size 864x1728 with 8 Axes>"
            ]
          },
          "metadata": {
            "tags": [],
            "needs_background": "light"
          }
        },
        {
          "output_type": "display_data",
          "data": {
            "image/png": "[encoded data removed]",
            "text/plain": [
              "<Figure size 864x1728 with 8 Axes>"
            ]
          },
          "metadata": {
            "tags": [],
            "needs_background": "light"
          }
        },
        {
          "output_type": "display_data",
          "data": {
            "image/png": "[encoded data removed]",
            "text/plain": [
              "<Figure size 864x1728 with 8 Axes>"
            ]
          },
          "metadata": {
            "tags": [],
            "needs_background": "light"
          }
        },
        {
          "output_type": "display_data",
          "data": {
            "image/png": "[encoded data removed]",
            "text/plain": [
              "<Figure size 864x1728 with 8 Axes>"
            ]
          },
          "metadata": {
            "tags": [],
            "needs_background": "light"
          }
        }
      ]
    },
    {
      "cell_type": "markdown",
      "metadata": {
        "colab_type": "text",
        "id": "zqDZeWY6Ho1-"
      },
      "source": [
        "We normalize the data in order to smoothen activations and bring them to similar ranges of values"
      ]
    },
    {
      "cell_type": "code",
      "metadata": {
        "colab_type": "code",
        "id": "D5wmCZY9Ho2A",
        "colab": {}
      },
      "source": [
        "def normalize(arr): return (arr-arr.mean())/arr.std()"
      ],
      "execution_count": 0,
      "outputs": []
    },
    {
      "cell_type": "markdown",
      "metadata": {
        "colab_type": "text",
        "id": "5-bzBjC6Ho2D"
      },
      "source": [
        "Next we compute the average _eight_ by averaging all responses for each filter from _rots_."
      ]
    },
    {
      "cell_type": "code",
      "metadata": {
        "colab_type": "code",
        "id": "Ldr9Cpx5Ho2D",
        "colab": {}
      },
      "source": [
        "filts8 = np.array([ims.mean(axis=0) for ims in pool8])\n",
        "filts8 = normalize(filts8)"
      ],
      "execution_count": 0,
      "outputs": []
    },
    {
      "cell_type": "markdown",
      "metadata": {
        "colab_type": "text",
        "id": "oZt78eGSHo2H"
      },
      "source": [
        "We should obtain a set of canonical _eights_ responses for each filter."
      ]
    },
    {
      "cell_type": "code",
      "metadata": {
        "colab_type": "code",
        "id": "_UdpsK6AHo2K",
        "colab": {
          "base_uri": "https://localhost:8080/",
          "height": 119
        },
        "outputId": "e6dda41d-3dcd-4e03-c51f-40ce9eebe65a"
      },
      "source": [
        "plots(filts8)"
      ],
      "execution_count": 40,
      "outputs": [
        {
          "output_type": "display_data",
          "data": {
            "image/png": "[encoded data removed]",
            "text/plain": [
              "<Figure size 864x1728 with 8 Axes>"
            ]
          },
          "metadata": {
            "tags": [],
            "needs_background": "light"
          }
        }
      ]
    },
    {
      "cell_type": "markdown",
      "metadata": {
        "colab_type": "text",
        "id": "4HaAjI_uHo2O"
      },
      "source": [
        "We proceed similarly with training samples from the _one_ class and plot the canonical _ones_."
      ]
    },
    {
      "cell_type": "code",
      "metadata": {
        "colab_type": "code",
        "id": "e6baq8YKHo2P",
        "colab": {}
      },
      "source": [
        "pool1 = [np.array([pool(correlate(im, rot)) for im in ones[1000:]]) for rot in rots]\n",
        "filts1 = np.array([ims.mean(axis=0) for ims in pool1])\n",
        "filts1 = normalize(filts1)"
      ],
      "execution_count": 0,
      "outputs": []
    },
    {
      "cell_type": "code",
      "metadata": {
        "colab_type": "code",
        "id": "eq2CtFfAHo2T",
        "colab": {
          "base_uri": "https://localhost:8080/",
          "height": 119
        },
        "outputId": "b0462f5e-3fbc-4d75-b905-e3d375d32d6b"
      },
      "source": [
        "plots(filts1)"
      ],
      "execution_count": 42,
      "outputs": [
        {
          "output_type": "display_data",
          "data": {
            "image/png": "[encoded data removed]",
            "text/plain": [
              "<Figure size 864x1728 with 8 Axes>"
            ]
          },
          "metadata": {
            "tags": [],
            "needs_background": "light"
          }
        }
      ]
    },
    {
      "cell_type": "markdown",
      "metadata": {
        "colab_type": "text",
        "id": "Bu97H3bNHo2Z"
      },
      "source": [
        "Do you notice any differences between ```filts8``` and ```filts1```? Which ones?"
      ]
    },
    {
      "cell_type": "markdown",
      "metadata": {
        "colab_type": "text",
        "id": "Krvaio26Ho2a"
      },
      "source": [
        "We define a function that correlates a given image with all filters from ```rots``` and max pools the responses."
      ]
    },
    {
      "cell_type": "code",
      "metadata": {
        "colab_type": "code",
        "id": "kgnZzimPHo2a",
        "colab": {}
      },
      "source": [
        "def pool_corr(im): return np.array([pool(correlate(im, rot)) for rot in rots])"
      ],
      "execution_count": 0,
      "outputs": []
    },
    {
      "cell_type": "code",
      "metadata": {
        "colab_type": "code",
        "id": "2vFjsSxcHo2c",
        "colab": {
          "base_uri": "https://localhost:8080/",
          "height": 119
        },
        "outputId": "3e9ca0fd-932f-42bc-c68a-a99a75beb77d"
      },
      "source": [
        "plots(pool_corr(eights[1000]))"
      ],
      "execution_count": 44,
      "outputs": [
        {
          "output_type": "display_data",
          "data": {
            "image/png": "[encoded data removed]",
            "text/plain": [
              "<Figure size 864x1728 with 8 Axes>"
            ]
          },
          "metadata": {
            "tags": [],
            "needs_background": "light"
          }
        }
      ]
    },
    {
      "cell_type": "code",
      "metadata": {
        "colab_type": "code",
        "id": "Td0bFQ04Ho2j",
        "colab": {
          "base_uri": "https://localhost:8080/",
          "height": 136
        },
        "outputId": "42cd520e-9201-4596-d8ba-2874cea650fc"
      },
      "source": [
        "#check \n",
        "plots([pool8[i][0] for i in range(8)])\n",
        "np.allclose(pool_corr(eights[1000]),[pool8[i][0] for i in range(8)])"
      ],
      "execution_count": 45,
      "outputs": [
        {
          "output_type": "execute_result",
          "data": {
            "text/plain": [
              "True"
            ]
          },
          "metadata": {
            "tags": []
          },
          "execution_count": 45
        },
        {
          "output_type": "display_data",
          "data": {
            "image/png": "[encoded data removed]",
            "text/plain": [
              "<Figure size 864x1728 with 8 Axes>"
            ]
          },
          "metadata": {
            "tags": [],
            "needs_background": "light"
          }
        }
      ]
    },
    {
      "cell_type": "code",
      "metadata": {
        "colab_type": "code",
        "id": "x2cJdyL2Ho2u",
        "colab": {}
      },
      "source": [
        "# function used for a voting based classifier that will indicate which one of the \n",
        "# two classes is most likely given the sse distances\n",
        "# n2 comes from norm2\n",
        "# is8_n2 returns 1 if it thinks it's an eight and 0 otherwise\n",
        "def is8_n2(im): return 1 if sse(pool_corr(im),filts1) > sse(pool_corr(im),filts8) else 0"
      ],
      "execution_count": 0,
      "outputs": []
    },
    {
      "cell_type": "markdown",
      "metadata": {
        "colab_type": "text",
        "id": "SDFMHV3nHo2y"
      },
      "source": [
        "We perform a check to see if our function actually works. We correlate the an image of _eight_ with ```filts8``` and ```filts1```. It should give smaller error for the _eights_."
      ]
    },
    {
      "cell_type": "code",
      "metadata": {
        "colab_type": "code",
        "id": "C_eFq1EWHo2z",
        "colab": {
          "base_uri": "https://localhost:8080/",
          "height": 34
        },
        "outputId": "32ea2407-3197-4f52-aa9d-666d780c56c6"
      },
      "source": [
        "sse(pool_corr(eights[0]), filts8), sse(pool_corr(eights[0]), filts1)"
      ],
      "execution_count": 47,
      "outputs": [
        {
          "output_type": "execute_result",
          "data": {
            "text/plain": [
              "(103.67323, 126.09805)"
            ]
          },
          "metadata": {
            "tags": []
          },
          "execution_count": 47
        }
      ]
    },
    {
      "cell_type": "code",
      "metadata": {
        "colab_type": "code",
        "id": "yNINKzvKHo24",
        "colab": {
          "base_uri": "https://localhost:8080/",
          "height": 216
        },
        "outputId": "b96f302b-0212-4057-cadb-66282d8bd193"
      },
      "source": [
        "plot(eights[0])"
      ],
      "execution_count": 48,
      "outputs": [
        {
          "output_type": "display_data",
          "data": {
            "image/png": "[encoded data removed]",
            "text/plain": [
              "<Figure size 216x432 with 1 Axes>"
            ]
          },
          "metadata": {
            "tags": [],
            "needs_background": "light"
          }
        }
      ]
    },
    {
      "cell_type": "markdown",
      "metadata": {
        "colab_type": "text",
        "id": "roCmorVtHo29"
      },
      "source": [
        "We now test our classifier on the 1000 images of _eights_ and 1000 images of _ones_"
      ]
    },
    {
      "cell_type": "code",
      "metadata": {
        "colab_type": "code",
        "id": "TEPN_aPbHo3K",
        "colab": {}
      },
      "source": [
        "nb_8_predicted_8, nb_1_predicted_8 = [np.array([is8_n2(im) for im in ims]).sum() for ims in [eights[:1000],ones[:1000]]]\n",
        "\n",
        "nb_8_predicted_1, nb_1_predicted_1 = [np.array([(1-is8_n2(im)) for im in ims]).sum() for ims in [eights[:1000],ones[:1000]]]"
      ],
      "execution_count": 0,
      "outputs": []
    },
    {
      "cell_type": "code",
      "metadata": {
        "colab_type": "code",
        "id": "FO4sLIjSHo3O",
        "colab": {
          "base_uri": "https://localhost:8080/",
          "height": 85
        },
        "outputId": "19d9876b-1fb5-4966-f6a4-f5597eec8be9"
      },
      "source": [
        "Precisionf_8, Recallf_8, Precisionf_1, Recallf_1 = compute_scores(nb_8_predicted_8,nb_8_predicted_1,nb_1_predicted_1,nb_1_predicted_8)\n",
        "\n",
        "print('precision 8:', Precisionf_8, 'recall 8:', Recallf_8)\n",
        "print('precision 1:', Precisionf_1, 'recall 1:', Recallf_1)\n",
        "print('accuracy :', (Recallf_1+Recallf_8)/2)\n",
        "print('accuracy baseline:', (Recall_1+Recall_8)/2)"
      ],
      "execution_count": 50,
      "outputs": [
        {
          "output_type": "stream",
          "text": [
            "precision 8: 0.963220675944334 recall 8: 0.969\n",
            "precision 1: 0.9688128772635815 recall 1: 0.963\n",
            "accuracy : 0.966\n",
            "accuracy baseline: 0.9425\n"
          ],
          "name": "stdout"
        }
      ]
    },
    {
      "cell_type": "markdown",
      "metadata": {
        "colab_type": "text",
        "id": "yoy--n6IHo3b"
      },
      "source": [
        "We improved the accuracy while reducing the embedding size from a $28\\times 28 = 784$ vector to a $4\\times 4\\times 8 = 128$ vector.\n",
        "\n",
        "We have successfully built a classifier for _eights_ and _ones_ using features extracted with a bank of pre-defined features and a set of training samples. "
      ]
    },
    {
      "cell_type": "markdown",
      "metadata": {
        "colab_type": "text",
        "collapsed": true,
        "id": "Y_mBZHv9Ho3d"
      },
      "source": [
        "## 5. Practicals: improving classification with Convolutional Neural Net\n",
        "\n",
        "You will now build a neural net that will learn the weights of the filters.\n",
        "\n",
        "The first layer of your network will be a convolutional layer with $8$ filters of size $3\\times 3$. Then you will apply a Max Pooling layer to reduce the size of the image to $4\\times 4$ as we did above. This will produce a (once flatten) a vector of size $128 = 3\\times 3\\times 8$. From this vector, you need to predict if the corresponding input is a $1$ or a $8$. So you are back to a classification problem as seen in previous lesson.\n",
        "\n",
        "You need to fill the code written below to construct your CNN. You will need to look for documentation about [torch.nn](https://pytorch.org/docs/stable/nn.html) in the Pytorch doc."
      ]
    },
    {
      "cell_type": "code",
      "metadata": {
        "colab_type": "code",
        "id": "F4ADp7YLHo3d",
        "colab": {}
      },
      "source": [
        "import torch.nn as nn\n",
        "import torch.nn.functional as F\n",
        "\n",
        "class classifier(nn.Module):\n",
        "    \n",
        "    def __init__(self):\n",
        "        super(classifier, self).__init__()\n",
        "        # fill the missing entries below\n",
        "        self.conv1 = nn.Conv2d(in_channels=1, out_channels=8, kernel_size=3, padding=1)\n",
        "        self.fc = nn.Linear(in_features=128, out_features=2)\n",
        "        \n",
        "    def forward(self,x):\n",
        "        # implement your network here, use F.max_pool2d, F.log_softmax and do not forget to flatten your vector\n",
        "        x = self.conv1(x)\n",
        "        #\n",
        "        # Your code here\n",
        "        #\n",
        "        x = F.max_pool2d(x, kernel_size=7, stride=7)\n",
        "        x = x.view(-1, 4*4*8)\n",
        "        x = F.log_softmax(self.fc(x), dim=1)\n",
        "\n",
        "        return x"
      ],
      "execution_count": 0,
      "outputs": []
    },
    {
      "cell_type": "code",
      "metadata": {
        "colab_type": "code",
        "id": "5YinNMu0Ho3g",
        "colab": {}
      },
      "source": [
        "conv_class = classifier()"
      ],
      "execution_count": 0,
      "outputs": []
    },
    {
      "cell_type": "markdown",
      "metadata": {
        "colab_type": "text",
        "id": "EapjD0UQHo3k"
      },
      "source": [
        "Your code should work fine on a batch of 3 images."
      ]
    },
    {
      "cell_type": "code",
      "metadata": {
        "colab_type": "code",
        "id": "EtN49qaUHo3p",
        "colab": {
          "base_uri": "https://localhost:8080/",
          "height": 68
        },
        "outputId": "e64b6387-ece7-494e-c681-3237e8784b50"
      },
      "source": [
        "batch_3images = train_set.data[0:2].type(torch.FloatTensor).resize_(3, 1, 28, 28)\n",
        "conv_class(batch_3images)"
      ],
      "execution_count": 56,
      "outputs": [
        {
          "output_type": "execute_result",
          "data": {
            "text/plain": [
              "tensor([[-5.6440e+01,  0.0000e+00],\n",
              "        [-4.6704e+01,  0.0000e+00],\n",
              "        [ 0.0000e+00, -8.7197e+36]], grad_fn=<LogSoftmaxBackward>)"
            ]
          },
          "metadata": {
            "tags": []
          },
          "execution_count": 56
        }
      ]
    },
    {
      "cell_type": "markdown",
      "metadata": {
        "colab_type": "text",
        "id": "5s841xShHo3u"
      },
      "source": [
        "The following lines of code implement a data loader for the train set and the test set. No modification is needed."
      ]
    },
    {
      "cell_type": "code",
      "metadata": {
        "colab_type": "code",
        "id": "iO_mo1CaHo3u",
        "colab": {}
      },
      "source": [
        "bs = 64\n",
        "\n",
        "l8 = np.array(0)\n",
        "eights_dataset = [[torch.from_numpy(e.astype(np.float32)).unsqueeze(0), torch.from_numpy(l8.astype(np.int64))] for e in eights]\n",
        "l1 = np.array(1)\n",
        "ones_dataset = [[torch.from_numpy(e.astype(np.float32)).unsqueeze(0), torch.from_numpy(l1.astype(np.int64))] for e in ones]\n",
        "train_dataset = eights_dataset[1000:] + ones_dataset[1000:]\n",
        "test_dataset = eights_dataset[:1000] + ones_dataset[:1000]\n",
        "\n",
        "train_loader = torch.utils.data.DataLoader(train_dataset,\n",
        "    batch_size=bs, shuffle=True)\n",
        "test_loader = torch.utils.data.DataLoader(test_dataset,\n",
        "    batch_size=bs, shuffle=True)"
      ],
      "execution_count": 0,
      "outputs": []
    },
    {
      "cell_type": "markdown",
      "metadata": {
        "colab_type": "text",
        "id": "LVzpT2LvHo3x"
      },
      "source": [
        "You need now to code the training loop. Store the loss and accuracy for each epoch."
      ]
    },
    {
      "cell_type": "code",
      "metadata": {
        "colab_type": "code",
        "id": "jsu7KRMIHo3y",
        "colab": {}
      },
      "source": [
        "def train(model,data_loader,loss_fn,optimizer,n_epochs=1):\n",
        "    model.train(True)\n",
        "    loss_train = np.zeros(n_epochs)\n",
        "    acc_train = np.zeros(n_epochs)\n",
        "    for epoch_num in range(n_epochs):\n",
        "        running_corrects = 0.0\n",
        "        running_loss = 0.0\n",
        "        size = 0\n",
        "\n",
        "        for data in data_loader:\n",
        "            inputs, labels = data\n",
        "            bs = labels.size(0)\n",
        "            #\n",
        "            #\n",
        "            # Your code here\n",
        "            outputs = model(inputs)\n",
        "            loss = loss_fn(outputs, labels)\n",
        "            optimizer.zero_grad()\n",
        "            loss.backward()\n",
        "            optimizer.step()\n",
        "\n",
        "            _, preds = torch.max(outputs, dim=1)\n",
        "            running_corrects += torch.sum(preds == labels.data.type(torch.LongTensor))\n",
        "            running_loss += loss.data\n",
        "            #\n",
        "            #\n",
        "            size += bs\n",
        "        epoch_loss = running_loss.item() / size\n",
        "        epoch_acc = running_corrects.item() / size\n",
        "        loss_train[epoch_num] = epoch_loss\n",
        "        acc_train[epoch_num] = epoch_acc\n",
        "        print('Train - Loss: {:.4f} Acc: {:.4f}'.format(epoch_loss, epoch_acc))\n",
        "    return loss_train, acc_train"
      ],
      "execution_count": 0,
      "outputs": []
    },
    {
      "cell_type": "code",
      "metadata": {
        "colab_type": "code",
        "id": "5Es_nmD2Ho34",
        "colab": {
          "base_uri": "https://localhost:8080/",
          "height": 187
        },
        "outputId": "36ae0a69-d20d-4b4a-8750-5c2fe9b60098"
      },
      "source": [
        "conv_class = classifier()\n",
        "# choose the appropriate loss\n",
        "loss_fn = nn.NLLLoss()\n",
        "# your SGD optimizer\n",
        "learning_rate = 1e-3\n",
        "optimizer_cl = torch.optim.SGD(conv_class.parameters(), lr=learning_rate)\n",
        "# and train for 10 epochs\n",
        "l_t, a_t = train(conv_class,train_loader,loss_fn,optimizer_cl,n_epochs = 10)"
      ],
      "execution_count": 59,
      "outputs": [
        {
          "output_type": "stream",
          "text": [
            "Train - Loss: 0.0105 Acc: 0.5468\n",
            "Train - Loss: 0.0100 Acc: 0.8491\n",
            "Train - Loss: 0.0096 Acc: 0.9443\n",
            "Train - Loss: 0.0092 Acc: 0.9666\n",
            "Train - Loss: 0.0088 Acc: 0.9750\n",
            "Train - Loss: 0.0084 Acc: 0.9764\n",
            "Train - Loss: 0.0080 Acc: 0.9768\n",
            "Train - Loss: 0.0076 Acc: 0.9769\n",
            "Train - Loss: 0.0072 Acc: 0.9768\n",
            "Train - Loss: 0.0069 Acc: 0.9765\n"
          ],
          "name": "stdout"
        }
      ]
    },
    {
      "cell_type": "markdown",
      "metadata": {
        "colab_type": "text",
        "id": "JPG9BbRKHo39"
      },
      "source": [
        "Let's learn for 10 more epochs"
      ]
    },
    {
      "cell_type": "code",
      "metadata": {
        "colab_type": "code",
        "id": "80ABV57nHo3-",
        "colab": {
          "base_uri": "https://localhost:8080/",
          "height": 187
        },
        "outputId": "fd42b993-450d-4e35-d119-5ff495593866"
      },
      "source": [
        "l_t1, a_t1 = train(conv_class,train_loader,loss_fn,optimizer_cl,n_epochs = 10)"
      ],
      "execution_count": 60,
      "outputs": [
        {
          "output_type": "stream",
          "text": [
            "Train - Loss: 0.0065 Acc: 0.9765\n",
            "Train - Loss: 0.0061 Acc: 0.9762\n",
            "Train - Loss: 0.0058 Acc: 0.9760\n",
            "Train - Loss: 0.0054 Acc: 0.9758\n",
            "Train - Loss: 0.0051 Acc: 0.9757\n",
            "Train - Loss: 0.0048 Acc: 0.9754\n",
            "Train - Loss: 0.0046 Acc: 0.9757\n",
            "Train - Loss: 0.0043 Acc: 0.9761\n",
            "Train - Loss: 0.0041 Acc: 0.9760\n",
            "Train - Loss: 0.0039 Acc: 0.9767\n"
          ],
          "name": "stdout"
        }
      ]
    },
    {
      "cell_type": "markdown",
      "metadata": {
        "colab_type": "text",
        "id": "P960YqN0Ho4J"
      },
      "source": [
        "Our network seems to learn but we now need to check its accuracy on the test set."
      ]
    },
    {
      "cell_type": "code",
      "metadata": {
        "colab_type": "code",
        "id": "f_ttkHKAHo4K",
        "colab": {}
      },
      "source": [
        "def test(model,data_loader):\n",
        "    model.train(False)\n",
        "\n",
        "    running_corrects = 0.0\n",
        "    running_loss = 0.0\n",
        "    size = 0\n",
        "\n",
        "    for data in data_loader:\n",
        "        inputs, labels = data\n",
        "            \n",
        "        bs = labels.size(0)\n",
        "        #\n",
        "        # Your code here\n",
        "        outputs = model(inputs)\n",
        "        loss = loss_fn(outputs, labels)\n",
        "        _, preds = torch.max(outputs, dim=1)\n",
        "        running_loss += loss.data\n",
        "        running_corrects += torch.sum(preds == labels.data.type(torch.LongTensor))\n",
        "        #\n",
        "        size += bs\n",
        "\n",
        "    print('Test - Loss: {:.4f} Acc: {:.4f}'.format(running_loss / size, running_corrects.item() / size))"
      ],
      "execution_count": 0,
      "outputs": []
    },
    {
      "cell_type": "code",
      "metadata": {
        "colab_type": "code",
        "id": "nNB9RU20Ho4M",
        "colab": {
          "base_uri": "https://localhost:8080/",
          "height": 34
        },
        "outputId": "e5be5142-6d85-43f1-afa5-1880f385b59f"
      },
      "source": [
        "test(conv_class,test_loader)"
      ],
      "execution_count": 64,
      "outputs": [
        {
          "output_type": "stream",
          "text": [
            "Test - Loss: 0.0039 Acc: 0.9770\n"
          ],
          "name": "stdout"
        }
      ]
    },
    {
      "cell_type": "markdown",
      "metadata": {
        "colab_type": "text",
        "id": "1ZUVmjBOHo4O"
      },
      "source": [
        "Change the optimizer to Adam."
      ]
    },
    {
      "cell_type": "code",
      "metadata": {
        "colab_type": "code",
        "id": "eqLRDPTxHo4P",
        "colab": {
          "base_uri": "https://localhost:8080/",
          "height": 374
        },
        "outputId": "473a3c16-91c4-43c3-dd43-e329e02971e4"
      },
      "source": [
        "conv_class2 = classifier()\n",
        "# choose the appropriate loss\n",
        "loss_fn = nn.NLLLoss()\n",
        "# your SGD optimizer\n",
        "learning_rate = 1e-3\n",
        "optimizer_cl = torch.optim.Adam(conv_class2.parameters(), lr=learning_rate)\n",
        "# and train for 10 epochs\n",
        "l_t, a_t = train(conv_class2,train_loader,loss_fn,optimizer_cl,n_epochs = 20)\n",
        "test(conv_class2,test_loader)"
      ],
      "execution_count": 65,
      "outputs": [
        {
          "output_type": "stream",
          "text": [
            "Train - Loss: 0.0062 Acc: 0.9088\n",
            "Train - Loss: 0.0014 Acc: 0.9836\n",
            "Train - Loss: 0.0008 Acc: 0.9876\n",
            "Train - Loss: 0.0006 Acc: 0.9899\n",
            "Train - Loss: 0.0005 Acc: 0.9913\n",
            "Train - Loss: 0.0004 Acc: 0.9919\n",
            "Train - Loss: 0.0004 Acc: 0.9932\n",
            "Train - Loss: 0.0004 Acc: 0.9930\n",
            "Train - Loss: 0.0003 Acc: 0.9937\n",
            "Train - Loss: 0.0003 Acc: 0.9940\n",
            "Train - Loss: 0.0003 Acc: 0.9941\n",
            "Train - Loss: 0.0003 Acc: 0.9946\n",
            "Train - Loss: 0.0003 Acc: 0.9947\n",
            "Train - Loss: 0.0002 Acc: 0.9949\n",
            "Train - Loss: 0.0002 Acc: 0.9951\n",
            "Train - Loss: 0.0002 Acc: 0.9958\n",
            "Train - Loss: 0.0002 Acc: 0.9958\n",
            "Train - Loss: 0.0002 Acc: 0.9961\n",
            "Train - Loss: 0.0002 Acc: 0.9964\n",
            "Train - Loss: 0.0002 Acc: 0.9961\n",
            "Test - Loss: 0.0003 Acc: 0.9925\n"
          ],
          "name": "stdout"
        }
      ]
    },
    {
      "cell_type": "markdown",
      "metadata": {
        "colab_type": "text",
        "id": "VnXvEogNHo4S"
      },
      "source": [
        "How many parameters did your network learn?"
      ]
    },
    {
      "cell_type": "code",
      "metadata": {
        "colab_type": "code",
        "id": "Qd5JSwZDHo4S",
        "colab": {
          "base_uri": "https://localhost:8080/",
          "height": 51
        },
        "outputId": "ca1cc966-672a-4c32-bd43-e00021dc839a"
      },
      "source": [
        "def count_parameters(model):\n",
        "    return sum(p.numel() for p in model.parameters() if p.requires_grad)\n",
        "\n",
        "print(\"Number of parameters learned :\", count_parameters(conv_class))\n",
        "print(\"Number of parameters learned :\", count_parameters(conv_class2))"
      ],
      "execution_count": 70,
      "outputs": [
        {
          "output_type": "stream",
          "text": [
            "Number of parameters learned : 338\n",
            "Number of parameters learned : 338\n"
          ],
          "name": "stdout"
        }
      ]
    },
    {
      "cell_type": "markdown",
      "metadata": {
        "colab_type": "text",
        "id": "lfxpzNo8Ho4U"
      },
      "source": [
        "You can see them as follows:"
      ]
    },
    {
      "cell_type": "code",
      "metadata": {
        "colab_type": "code",
        "id": "XkpdG05OHo4U",
        "colab": {
          "base_uri": "https://localhost:8080/",
          "height": 1000
        },
        "outputId": "c0467673-da73-4116-e005-39e3d57cef02"
      },
      "source": [
        "for m in conv_class.children():\n",
        "    print('weights :', m.weight.data)\n",
        "    print('bias :', m.bias.data)"
      ],
      "execution_count": 71,
      "outputs": [
        {
          "output_type": "stream",
          "text": [
            "weights : tensor([[[[-0.1277, -0.2831,  0.2853],\n",
            "          [-0.1439,  0.1646,  0.0905],\n",
            "          [ 0.1427,  0.2376,  0.0675]]],\n",
            "\n",
            "\n",
            "        [[[-0.0609, -0.2436,  0.1269],\n",
            "          [-0.3016, -0.2797,  0.2953],\n",
            "          [-0.1964, -0.2896, -0.0638]]],\n",
            "\n",
            "\n",
            "        [[[ 0.0160, -0.1678, -0.1102],\n",
            "          [-0.2734, -0.2604, -0.1207],\n",
            "          [ 0.1566, -0.1845,  0.2981]]],\n",
            "\n",
            "\n",
            "        [[[ 0.2687,  0.3741,  0.2305],\n",
            "          [-0.0957,  0.0856,  0.0511],\n",
            "          [-0.1081, -0.3081, -0.3428]]],\n",
            "\n",
            "\n",
            "        [[[-0.2578, -0.0487,  0.1688],\n",
            "          [ 0.4328,  0.0053,  0.0170],\n",
            "          [ 0.3773, -0.0665, -0.0643]]],\n",
            "\n",
            "\n",
            "        [[[-0.2170, -0.2703, -0.3357],\n",
            "          [-0.1455,  0.0752,  0.0365],\n",
            "          [ 0.4505,  0.4214,  0.2997]]],\n",
            "\n",
            "\n",
            "        [[[-0.1608,  0.1373, -0.2102],\n",
            "          [ 0.0777, -0.0069, -0.0400],\n",
            "          [-0.0478,  0.1020, -0.1495]]],\n",
            "\n",
            "\n",
            "        [[[ 0.0691, -0.0698,  0.1951],\n",
            "          [-0.3103, -0.2048,  0.0471],\n",
            "          [ 0.1397, -0.2495,  0.2035]]]])\n",
            "bias : tensor([-0.1371,  0.0526,  0.2916, -0.1823, -0.2827, -0.1101, -0.3378, -0.4368])\n",
            "weights : tensor([[-6.5196e-02,  5.3411e-02, -8.4823e-02,  1.0604e-01,  3.4061e-02,\n",
            "          3.2930e-02,  9.6153e-02,  1.6959e-01,  9.9567e-03, -7.2624e-02,\n",
            "          1.3898e-01, -1.0389e-02, -4.4830e-02, -9.4230e-02,  1.1926e-01,\n",
            "          4.4968e-02,  7.1478e-02,  1.0422e-02, -5.5861e-04,  7.3253e-02,\n",
            "         -3.1969e-02, -6.3971e-02,  5.3308e-03, -6.9314e-02,  9.2689e-02,\n",
            "         -1.5190e-02,  5.2007e-02, -8.8807e-02,  5.3998e-02,  1.3658e-02,\n",
            "         -7.6741e-02, -7.4379e-02, -7.0989e-02,  2.0303e-03, -2.2088e-02,\n",
            "         -1.5640e-02, -7.0574e-02, -1.1276e-01,  1.8898e-02, -8.8240e-02,\n",
            "          7.4350e-02, -1.9661e-02, -5.8743e-02, -1.1085e-01, -1.1605e-01,\n",
            "          3.1955e-02,  2.3610e-02,  4.0850e-02, -3.2854e-02,  9.1230e-02,\n",
            "          1.1205e-01,  5.6185e-02,  3.7780e-02,  2.4787e-01,  2.8951e-02,\n",
            "          7.2954e-02, -4.6556e-02,  1.1718e-01,  5.7745e-02,  1.1799e-01,\n",
            "          1.0420e-01, -4.8719e-03,  1.4732e-02,  5.8264e-02, -5.3924e-02,\n",
            "          1.3766e-01, -7.6768e-02,  1.4528e-01,  8.0439e-02,  1.9146e-01,\n",
            "          9.4250e-02,  1.8795e-01,  6.9655e-02,  7.5315e-02,  1.5568e-02,\n",
            "         -1.2793e-03, -3.6730e-02,  8.2875e-02,  9.7795e-02,  5.2449e-02,\n",
            "          4.0871e-02,  1.2957e-01,  2.4163e-02,  1.6809e-01,  7.0376e-02,\n",
            "          5.9015e-02,  1.8342e-01,  1.7397e-01,  6.1246e-02,  5.9194e-02,\n",
            "          9.2208e-03, -6.0305e-03,  3.4259e-02,  1.9132e-01,  2.2852e-01,\n",
            "          5.0534e-02, -1.5291e-02,  1.0830e-03,  4.0729e-03,  6.8773e-02,\n",
            "          1.1739e-01,  2.0455e-02, -2.6908e-02,  8.2482e-02,  7.6824e-02,\n",
            "         -3.7808e-02,  1.4563e-02, -4.0416e-03, -1.8320e-03,  8.2704e-02,\n",
            "          4.4392e-02,  7.8210e-02,  8.7970e-02,  1.0980e-01,  3.6470e-02,\n",
            "          8.7754e-02, -2.0214e-02,  8.9435e-02,  1.3320e-01,  4.6921e-02,\n",
            "          7.3655e-02,  1.4428e-03,  1.7529e-01,  6.1751e-02,  5.3558e-02,\n",
            "          5.0814e-02,  3.8969e-02,  1.7351e-02],\n",
            "        [-5.2613e-02, -1.4243e-01,  1.1526e-01,  3.7700e-02, -9.1169e-03,\n",
            "         -7.8426e-02,  2.2463e-02, -1.4347e-01, -4.5094e-02,  1.5583e-02,\n",
            "         -1.4016e-01, -1.1243e-01,  3.0922e-02,  4.6791e-02, -1.3911e-01,\n",
            "         -1.6891e-03,  9.1091e-02,  1.3504e-01,  5.3486e-02, -5.6606e-02,\n",
            "         -1.0289e-01, -6.2263e-02, -5.1884e-02,  2.2720e-02, -1.1657e-02,\n",
            "         -3.7297e-02, -4.2527e-02,  4.4240e-02,  1.4407e-02,  1.0916e-01,\n",
            "          4.4394e-02, -6.2170e-02,  1.5367e-02,  3.0715e-02, -4.4141e-02,\n",
            "         -5.8534e-02,  7.8569e-02,  6.4197e-03, -1.7389e-02,  9.8784e-02,\n",
            "         -1.1286e-02,  8.2402e-02, -3.0965e-02,  4.8212e-03,  4.0616e-02,\n",
            "          2.2210e-02,  2.4100e-02, -2.3042e-02,  4.9803e-02, -1.2620e-01,\n",
            "         -4.4207e-02,  3.2958e-02, -1.2029e-01, -2.0127e-01, -1.6367e-01,\n",
            "         -1.1788e-01, -1.1705e-01, -1.5154e-01, -1.7719e-02, -1.0665e-01,\n",
            "         -6.1819e-03, -3.6078e-03, -3.2117e-02,  2.8370e-02, -6.2772e-02,\n",
            "         -9.1053e-02,  1.2399e-01, -1.5088e-01, -1.0666e-01, -2.2085e-01,\n",
            "         -5.0159e-02, -6.7248e-02, -1.2555e-01, -1.4733e-01,  2.3438e-02,\n",
            "         -2.6600e-02, -5.5823e-02, -5.3965e-02, -1.7738e-01, -4.1855e-03,\n",
            "         -8.2664e-02, -2.7366e-01, -5.0895e-03, -6.8274e-02, -1.0406e-01,\n",
            "         -8.6398e-02, -9.0271e-02, -1.8913e-01,  2.1020e-02, -1.3041e-01,\n",
            "         -4.6847e-02, -1.9698e-02, -3.4569e-02, -1.0412e-01, -2.1965e-01,\n",
            "         -4.7176e-03,  1.0200e-02,  3.5371e-02,  6.3894e-03, -8.3600e-02,\n",
            "         -2.1152e-02, -1.2497e-01, -2.1234e-02,  4.6056e-03,  3.7491e-02,\n",
            "         -9.0420e-02, -6.9615e-02,  2.0348e-04, -9.7464e-02, -9.3167e-02,\n",
            "         -6.3704e-02, -9.0787e-02, -7.1482e-03, -5.9339e-02, -5.9282e-02,\n",
            "          1.1476e-02, -5.1315e-02,  9.5219e-03, -3.8734e-02, -1.2489e-01,\n",
            "         -9.3387e-03, -5.4827e-02, -1.6144e-01, -4.7172e-02,  2.1100e-02,\n",
            "         -8.9510e-02, -6.3970e-02, -1.0622e-01]])\n",
            "bias : tensor([-0.0645,  0.0373])\n"
          ],
          "name": "stdout"
        }
      ]
    },
    {
      "cell_type": "code",
      "metadata": {
        "colab_type": "code",
        "id": "rjXp3y5HHo4W",
        "colab": {}
      },
      "source": [
        "for m in conv_class.children():\n",
        "    T_w = m.weight.data.numpy()\n",
        "    T_b = m.bias.data.numpy()\n",
        "    break"
      ],
      "execution_count": 0,
      "outputs": []
    },
    {
      "cell_type": "code",
      "metadata": {
        "colab_type": "code",
        "id": "S-g2xTm-Ho4X",
        "colab": {
          "base_uri": "https://localhost:8080/",
          "height": 119
        },
        "outputId": "6122e2d9-9621-46a2-e8ad-d602fbfcb044"
      },
      "source": [
        "plots([T_w[i][0] for i in range(8)])"
      ],
      "execution_count": 73,
      "outputs": [
        {
          "output_type": "display_data",
          "data": {
            "image/png": "[encoded data removed]",
            "text/plain": [
              "<Figure size 864x1728 with 8 Axes>"
            ]
          },
          "metadata": {
            "tags": [],
            "needs_background": "light"
          }
        }
      ]
    },
    {
      "cell_type": "code",
      "metadata": {
        "colab_type": "code",
        "id": "PlvjNVKhHo4Z",
        "colab": {
          "base_uri": "https://localhost:8080/",
          "height": 51
        },
        "outputId": "60fc8fc2-998f-4df5-b47b-5236d24876cf"
      },
      "source": [
        "T_b"
      ],
      "execution_count": 74,
      "outputs": [
        {
          "output_type": "execute_result",
          "data": {
            "text/plain": [
              "array([-0.13712622,  0.05256431,  0.29160634, -0.1823012 , -0.28267056,\n",
              "       -0.11009659, -0.33784917, -0.43680656], dtype=float32)"
            ]
          },
          "metadata": {
            "tags": []
          },
          "execution_count": 74
        }
      ]
    },
    {
      "cell_type": "code",
      "metadata": {
        "colab_type": "code",
        "id": "XORiuyWzHo4a",
        "colab": {}
      },
      "source": [
        ""
      ],
      "execution_count": 0,
      "outputs": []
    }
  ]
}